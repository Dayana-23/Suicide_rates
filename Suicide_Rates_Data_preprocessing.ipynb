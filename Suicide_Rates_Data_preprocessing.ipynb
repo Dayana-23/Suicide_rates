{
  "cells": [
    {
      "cell_type": "markdown",
      "metadata": {
        "id": "vmgGfCFATmXn"
      },
      "source": [
        " # ✤ Focus on Data Preprocessing and filling missing values\n",
        "\n",
        "### Task:\n",
        "Make a preprocessing with your own dataset and answer the following questions: \n",
        "+ 1.\t\"what (intro) ,  (describe and show original dataset)\n",
        "+ 2.\twhy ( methods ) ,\n",
        "+ 3.\t how ( by builtt-in functions or manually) \"   \n",
        "+ 4.\tinclude Missingness!!! type and  how you deal with it\n",
        "\n",
        "+ the comparison resullts of  the models  ( regression /classification / clustering) with preprocessing ( at least 2 different method)  and without missing pattern.\n"
      ]
    },
    {
      "cell_type": "markdown",
      "metadata": {
        "id": "Q4sBik7VTmXt"
      },
      "source": [
        "# ✤ Analysis of Worldwide Suicide Rates\n",
        "### ✤ Introduction\n",
        "\n",
        "&emsp; According to this dataset of Global Suicide Rates , people of different ages have committed suicides because of pressure, barriers, or a lack of mental healthcare across all countries. In addition, in this analysis I am going to compare the prediction of the  suicides number depending on different age groups, genders, generations, countries, and ratio of suicides per 100k population over period of 1985 and 2015 years.\n",
        "\n",
        "&emsp;  Suicide takes place throughout the life and it has been one of the leading causes of death in many countries. Unfortunately, each suicide is a tragic loss of human's life that has own consequences on people left apart, like family and friends.\n",
        "\n",
        " &emsp;  The goal of the Global Suicide Rates analysis is to demonstrate statistics of 27 820 observations, which grouped by certain age ranges, gender(male/female), number of suicides, population of country, GDP (gross domestic product) per year and person, HDI (human development index) different generations during the period of 1985 & 2015 across the world. In addition, we will find which factors had more influence on the number of suicides in 101 countries.\n",
        "\n",
        "\n",
        "My analysis will be based on dataset during the 30 years, because I found this great dataset on Kaggle website=> \n",
        "+ https://www.kaggle.com/russellyates88/suicide-rates-overview-1985-to-2016"
      ]
    },
    {
      "cell_type": "markdown",
      "metadata": {
        "id": "Y8k3cfppTmXv"
      },
      "source": [
        "## 2. Data description\n",
        "\n",
        "+  Country –  geographical location on a map.\n",
        "+  Year – the time when suicide happened.\n",
        "+  Sex – gender as Male/Female.\n",
        "+  Age – age of individuals who committed suicide.\n",
        "+  Suicides_no – number of suicides.\n",
        "+  Population – people living in a particular country.\n",
        "+  Ratio(suicides_no/pop) – # of suicides per country's population.\n",
        "+  HDI for year – human development index in each year.\n",
        "+  GDP_per year – gross domestic value in each year.\n",
        "+  GDP_per_capita – gross domestic value for each person. \n",
        "+  Generation – name of different age groups."
      ]
    },
    {
      "cell_type": "code",
      "execution_count": null,
      "metadata": {
        "id": "-8ZR7CdiTmXw"
      },
      "outputs": [],
      "source": [
        "#Importing 'must-have' Libraries like these:\n",
        "\n",
        "import numpy as np  # to access data in any formats.\n",
        "import pandas as pd  # to work with data frame formats.\n",
        "import warnings  # do not show matching warnings\n",
        "warnings.filterwarnings('ignore')\n",
        "%matplotlib inline"
      ]
    },
    {
      "cell_type": "code",
      "execution_count": null,
      "metadata": {
        "id": "Zg8MHcUGTmXx"
      },
      "outputs": [],
      "source": [
        "#observing my dataset from 'suicide' csv file:\n",
        "data = pd.read_excel('suicide-excel.xls')"
      ]
    },
    {
      "cell_type": "code",
      "execution_count": null,
      "metadata": {
        "id": "Ip2itrMsTmXy",
        "outputId": "6ec13a3f-064d-41df-9f5b-fba449345c94"
      },
      "outputs": [
        {
          "data": {
            "text/plain": [
              "Index(['country', 'year', 'sex', 'age', 'suicides_no', 'population',\n",
              "       'suicides/100k pop', 'country-year', 'HDI for year',\n",
              "       ' gdp_for_year ($) ', 'gdp_per_capita ($)', 'generation'],\n",
              "      dtype='object')"
            ]
          },
          "execution_count": 3,
          "metadata": {},
          "output_type": "execute_result"
        }
      ],
      "source": [
        "data.columns"
      ]
    },
    {
      "cell_type": "code",
      "execution_count": null,
      "metadata": {
        "id": "UVYq7sxWTmXz"
      },
      "outputs": [],
      "source": [
        "data.columns = data.columns.str.strip().str.lower().str.replace(' ', '').str.replace('(', '').str.replace(')', '').str.replace('$', '')"
      ]
    },
    {
      "cell_type": "code",
      "execution_count": null,
      "metadata": {
        "id": "Q2b-p9zOTmX0"
      },
      "outputs": [],
      "source": [
        "#by using rename() function:\n",
        "data.rename(columns={'sex':'gender'},inplace=True)"
      ]
    },
    {
      "cell_type": "code",
      "execution_count": null,
      "metadata": {
        "id": "PfeGM97yTmX2",
        "outputId": "88893b60-9d2d-4df0-a000-830476baf17e"
      },
      "outputs": [
        {
          "data": {
            "text/html": [
              "<div>\n",
              "<style scoped>\n",
              "    .dataframe tbody tr th:only-of-type {\n",
              "        vertical-align: middle;\n",
              "    }\n",
              "\n",
              "    .dataframe tbody tr th {\n",
              "        vertical-align: top;\n",
              "    }\n",
              "\n",
              "    .dataframe thead th {\n",
              "        text-align: right;\n",
              "    }\n",
              "</style>\n",
              "<table border=\"1\" class=\"dataframe\">\n",
              "  <thead>\n",
              "    <tr style=\"text-align: right;\">\n",
              "      <th></th>\n",
              "      <th>country</th>\n",
              "      <th>year</th>\n",
              "      <th>gender</th>\n",
              "      <th>age</th>\n",
              "      <th>suicides_no</th>\n",
              "      <th>population</th>\n",
              "      <th>suicides/100kpop</th>\n",
              "      <th>country-year</th>\n",
              "      <th>hdiforyear</th>\n",
              "      <th>gdp_for_year</th>\n",
              "      <th>gdp_per_capita</th>\n",
              "      <th>generation</th>\n",
              "    </tr>\n",
              "  </thead>\n",
              "  <tbody>\n",
              "    <tr>\n",
              "      <th>0</th>\n",
              "      <td>Albania</td>\n",
              "      <td>1987</td>\n",
              "      <td>male</td>\n",
              "      <td>15-24 years</td>\n",
              "      <td>21</td>\n",
              "      <td>312900</td>\n",
              "      <td>6.71</td>\n",
              "      <td>Albania1987</td>\n",
              "      <td>NaN</td>\n",
              "      <td>2,156,624,900</td>\n",
              "      <td>796</td>\n",
              "      <td>Generation X</td>\n",
              "    </tr>\n",
              "    <tr>\n",
              "      <th>1</th>\n",
              "      <td>Albania</td>\n",
              "      <td>1987</td>\n",
              "      <td>male</td>\n",
              "      <td>35-54 years</td>\n",
              "      <td>16</td>\n",
              "      <td>308000</td>\n",
              "      <td>5.19</td>\n",
              "      <td>Albania1987</td>\n",
              "      <td>NaN</td>\n",
              "      <td>2,156,624,900</td>\n",
              "      <td>796</td>\n",
              "      <td>Silent</td>\n",
              "    </tr>\n",
              "    <tr>\n",
              "      <th>2</th>\n",
              "      <td>Albania</td>\n",
              "      <td>1987</td>\n",
              "      <td>female</td>\n",
              "      <td>15-24 years</td>\n",
              "      <td>14</td>\n",
              "      <td>289700</td>\n",
              "      <td>4.83</td>\n",
              "      <td>Albania1987</td>\n",
              "      <td>NaN</td>\n",
              "      <td>2,156,624,900</td>\n",
              "      <td>796</td>\n",
              "      <td>Generation X</td>\n",
              "    </tr>\n",
              "    <tr>\n",
              "      <th>3</th>\n",
              "      <td>Albania</td>\n",
              "      <td>1987</td>\n",
              "      <td>male</td>\n",
              "      <td>75+ years</td>\n",
              "      <td>1</td>\n",
              "      <td>21800</td>\n",
              "      <td>4.59</td>\n",
              "      <td>Albania1987</td>\n",
              "      <td>NaN</td>\n",
              "      <td>NaN</td>\n",
              "      <td>796</td>\n",
              "      <td>G.I. Generation</td>\n",
              "    </tr>\n",
              "    <tr>\n",
              "      <th>4</th>\n",
              "      <td>Albania</td>\n",
              "      <td>1987</td>\n",
              "      <td>male</td>\n",
              "      <td>25-34 years</td>\n",
              "      <td>9</td>\n",
              "      <td>274300</td>\n",
              "      <td>3.28</td>\n",
              "      <td>Albania1987</td>\n",
              "      <td>NaN</td>\n",
              "      <td>NaN</td>\n",
              "      <td>796</td>\n",
              "      <td>Boomers</td>\n",
              "    </tr>\n",
              "    <tr>\n",
              "      <th>...</th>\n",
              "      <td>...</td>\n",
              "      <td>...</td>\n",
              "      <td>...</td>\n",
              "      <td>...</td>\n",
              "      <td>...</td>\n",
              "      <td>...</td>\n",
              "      <td>...</td>\n",
              "      <td>...</td>\n",
              "      <td>...</td>\n",
              "      <td>...</td>\n",
              "      <td>...</td>\n",
              "      <td>...</td>\n",
              "    </tr>\n",
              "    <tr>\n",
              "      <th>27815</th>\n",
              "      <td>Uzbekistan</td>\n",
              "      <td>2014</td>\n",
              "      <td>female</td>\n",
              "      <td>35-54 years</td>\n",
              "      <td>107</td>\n",
              "      <td>3620833</td>\n",
              "      <td>2.96</td>\n",
              "      <td>Uzbekistan2014</td>\n",
              "      <td>0.675</td>\n",
              "      <td>NaN</td>\n",
              "      <td>2309</td>\n",
              "      <td>Generation X</td>\n",
              "    </tr>\n",
              "    <tr>\n",
              "      <th>27816</th>\n",
              "      <td>Uzbekistan</td>\n",
              "      <td>2014</td>\n",
              "      <td>female</td>\n",
              "      <td>75+ years</td>\n",
              "      <td>9</td>\n",
              "      <td>348465</td>\n",
              "      <td>2.58</td>\n",
              "      <td>Uzbekistan2014</td>\n",
              "      <td>0.675</td>\n",
              "      <td>NaN</td>\n",
              "      <td>2309</td>\n",
              "      <td>Silent</td>\n",
              "    </tr>\n",
              "    <tr>\n",
              "      <th>27817</th>\n",
              "      <td>Uzbekistan</td>\n",
              "      <td>2014</td>\n",
              "      <td>male</td>\n",
              "      <td>5-14 years</td>\n",
              "      <td>60</td>\n",
              "      <td>2762158</td>\n",
              "      <td>2.17</td>\n",
              "      <td>Uzbekistan2014</td>\n",
              "      <td>0.675</td>\n",
              "      <td>NaN</td>\n",
              "      <td>2309</td>\n",
              "      <td>Generation Z</td>\n",
              "    </tr>\n",
              "    <tr>\n",
              "      <th>27818</th>\n",
              "      <td>Uzbekistan</td>\n",
              "      <td>2014</td>\n",
              "      <td>female</td>\n",
              "      <td>5-14 years</td>\n",
              "      <td>44</td>\n",
              "      <td>2631600</td>\n",
              "      <td>1.67</td>\n",
              "      <td>Uzbekistan2014</td>\n",
              "      <td>0.675</td>\n",
              "      <td>NaN</td>\n",
              "      <td>2309</td>\n",
              "      <td>Generation Z</td>\n",
              "    </tr>\n",
              "    <tr>\n",
              "      <th>27819</th>\n",
              "      <td>Uzbekistan</td>\n",
              "      <td>2014</td>\n",
              "      <td>female</td>\n",
              "      <td>55-74 years</td>\n",
              "      <td>21</td>\n",
              "      <td>1438935</td>\n",
              "      <td>1.46</td>\n",
              "      <td>Uzbekistan2014</td>\n",
              "      <td>0.675</td>\n",
              "      <td>63,067,077,179</td>\n",
              "      <td>2309</td>\n",
              "      <td>Boomers</td>\n",
              "    </tr>\n",
              "  </tbody>\n",
              "</table>\n",
              "<p>27820 rows × 12 columns</p>\n",
              "</div>"
            ],
            "text/plain": [
              "          country  year  gender          age  suicides_no  population  \\\n",
              "0         Albania  1987    male  15-24 years           21      312900   \n",
              "1         Albania  1987    male  35-54 years           16      308000   \n",
              "2         Albania  1987  female  15-24 years           14      289700   \n",
              "3         Albania  1987    male    75+ years            1       21800   \n",
              "4         Albania  1987    male  25-34 years            9      274300   \n",
              "...           ...   ...     ...          ...          ...         ...   \n",
              "27815  Uzbekistan  2014  female  35-54 years          107     3620833   \n",
              "27816  Uzbekistan  2014  female    75+ years            9      348465   \n",
              "27817  Uzbekistan  2014    male   5-14 years           60     2762158   \n",
              "27818  Uzbekistan  2014  female   5-14 years           44     2631600   \n",
              "27819  Uzbekistan  2014  female  55-74 years           21     1438935   \n",
              "\n",
              "       suicides/100kpop    country-year  hdiforyear    gdp_for_year  \\\n",
              "0                  6.71     Albania1987         NaN   2,156,624,900   \n",
              "1                  5.19     Albania1987         NaN   2,156,624,900   \n",
              "2                  4.83     Albania1987         NaN   2,156,624,900   \n",
              "3                  4.59     Albania1987         NaN             NaN   \n",
              "4                  3.28     Albania1987         NaN             NaN   \n",
              "...                 ...             ...         ...             ...   \n",
              "27815              2.96  Uzbekistan2014       0.675             NaN   \n",
              "27816              2.58  Uzbekistan2014       0.675             NaN   \n",
              "27817              2.17  Uzbekistan2014       0.675             NaN   \n",
              "27818              1.67  Uzbekistan2014       0.675             NaN   \n",
              "27819              1.46  Uzbekistan2014       0.675  63,067,077,179   \n",
              "\n",
              "       gdp_per_capita       generation  \n",
              "0                 796     Generation X  \n",
              "1                 796           Silent  \n",
              "2                 796     Generation X  \n",
              "3                 796  G.I. Generation  \n",
              "4                 796          Boomers  \n",
              "...               ...              ...  \n",
              "27815            2309     Generation X  \n",
              "27816            2309           Silent  \n",
              "27817            2309     Generation Z  \n",
              "27818            2309     Generation Z  \n",
              "27819            2309          Boomers  \n",
              "\n",
              "[27820 rows x 12 columns]"
            ]
          },
          "execution_count": 6,
          "metadata": {},
          "output_type": "execute_result"
        }
      ],
      "source": [
        "data"
      ]
    },
    {
      "cell_type": "markdown",
      "metadata": {
        "id": "G7xpd12VTmX3"
      },
      "source": [
        "**✤  From results of dataset, I can count total number of rows & columns, with shape function :**"
      ]
    },
    {
      "cell_type": "code",
      "execution_count": null,
      "metadata": {
        "id": "dEapzY7rTmX3",
        "outputId": "0433064f-3cca-4edf-ceea-d44b0613694d"
      },
      "outputs": [
        {
          "name": "stdout",
          "output_type": "stream",
          "text": [
            "(27820, 12)\n"
          ]
        }
      ],
      "source": [
        "print(data.shape)"
      ]
    },
    {
      "cell_type": "code",
      "execution_count": null,
      "metadata": {
        "id": "iu7ugeRqTmX4",
        "outputId": "7e40bf25-f41c-4eaa-9849-74d1d317014e"
      },
      "outputs": [
        {
          "name": "stdout",
          "output_type": "stream",
          "text": [
            "\n",
            " year's - Unique values : \n",
            " [1987 1988 1989 1992 1993 1994 1995 1996 1997 1998 1999 2000 2001 2002\n",
            " 2003 2004 2005 2006 2007 2008 2009 2010 1985 1986 1990 1991 2012 2013\n",
            " 2014 2015 2011 2016]\n",
            "\n",
            " age's - Unique values : \n",
            " ['15-24 years' '35-54 years' '75+ years' '25-34 years' '55-74 years'\n",
            " '5-14 years']\n",
            "\n",
            " generation's - Unique values : \n",
            " ['Generation X' 'Silent' 'G.I. Generation' 'Boomers' 'Millenials'\n",
            " 'Generation Z']\n"
          ]
        }
      ],
      "source": [
        "columns = ['year', 'age', 'generation']\n",
        "for col in columns:\n",
        "    print(\"\\n {}'s - Unique values : \\n {}\".format(col, data[col].unique()))"
      ]
    },
    {
      "cell_type": "code",
      "execution_count": null,
      "metadata": {
        "id": "PLOnzsT5TmX4",
        "outputId": "d692d957-4f1f-4df4-aa53-4a032b175e60"
      },
      "outputs": [
        {
          "name": "stdout",
          "output_type": "stream",
          "text": [
            "Amount of different types of countries: \n",
            "101\n",
            "['Albania' 'Antigua and Barbuda' 'Argentina' 'Armenia' 'Aruba' 'Australia'\n",
            " 'Austria' 'Azerbaijan' 'Bahamas' 'Bahrain' 'Barbados' 'Belarus' 'Belgium'\n",
            " 'Belize' 'Bosnia and Herzegovina' 'Brazil' 'Bulgaria' 'Cabo Verde'\n",
            " 'Canada' 'Chile' 'Colombia' 'Costa Rica' 'Croatia' 'Cuba' 'Cyprus'\n",
            " 'Czech Republic' 'Denmark' 'Dominica' 'Ecuador' 'El Salvador' 'Estonia'\n",
            " 'Fiji' 'Finland' 'France' 'Georgia' 'Germany' 'Greece' 'Grenada'\n",
            " 'Guatemala' 'Guyana' 'Hungary' 'Iceland' 'Ireland' 'Israel' 'Italy'\n",
            " 'Jamaica' 'Japan' 'Kazakhstan' 'Kiribati' 'Kuwait' 'Kyrgyzstan' 'Latvia'\n",
            " 'Lithuania' 'Luxembourg' 'Macau' 'Maldives' 'Malta' 'Mauritius' 'Mexico'\n",
            " 'Mongolia' 'Montenegro' 'Netherlands' 'New Zealand' 'Nicaragua' 'Norway'\n",
            " 'Oman' 'Panama' 'Paraguay' 'Philippines' 'Poland' 'Portugal'\n",
            " 'Puerto Rico' 'Qatar' 'Republic of Korea' 'Romania' 'Russian Federation'\n",
            " 'Saint Kitts and Nevis' 'Saint Lucia' 'Saint Vincent and Grenadines'\n",
            " 'San Marino' 'Serbia' 'Seychelles' 'Singapore' 'Slovakia' 'Slovenia'\n",
            " 'South Africa' 'Spain' 'Sri Lanka' 'Suriname' 'Sweden' 'Switzerland'\n",
            " 'Thailand' 'Trinidad and Tobago' 'Turkey' 'Turkmenistan' 'Ukraine'\n",
            " 'United Arab Emirates' 'United Kingdom' 'United States' 'Uruguay'\n",
            " 'Uzbekistan']\n"
          ]
        }
      ],
      "source": [
        "print('Amount of different types of countries: ')\n",
        "print(len(data['country'].unique())) \n",
        "#count them\n",
        "\n",
        "distinct_countries = data['country'].unique()\n",
        "print(distinct_countries) \n",
        "#show all of them"
      ]
    },
    {
      "cell_type": "markdown",
      "metadata": {
        "id": "5ym_Xt_-TmX5"
      },
      "source": [
        "#  ✤  Data preparation: cleaning and shaping"
      ]
    },
    {
      "cell_type": "markdown",
      "metadata": {
        "id": "-1anPwG3TmX5"
      },
      "source": [
        "✤ In this dataset,as you noticed from last 5 rows in table,there is no rows with data in 2016 year, because it is incomplete for some countries. So,I want to delete data related to this year (2016):"
      ]
    },
    {
      "cell_type": "code",
      "execution_count": null,
      "metadata": {
        "id": "csgw2lZyTmX5"
      },
      "outputs": [],
      "source": [
        "data = data[data['year'] != 2016]\n",
        "# removing specific values in a dataframe"
      ]
    },
    {
      "cell_type": "code",
      "execution_count": null,
      "metadata": {
        "id": "RmI9BwGJTmX5",
        "outputId": "27b66f3f-8f04-406b-f7ba-0e1ef940fb5a"
      },
      "outputs": [
        {
          "data": {
            "text/plain": [
              "(27660, 12)"
            ]
          },
          "execution_count": 11,
          "metadata": {},
          "output_type": "execute_result"
        }
      ],
      "source": [
        "data.shape"
      ]
    },
    {
      "cell_type": "code",
      "execution_count": null,
      "metadata": {
        "id": "VjaW1lZ5TmX6"
      },
      "outputs": [],
      "source": [
        "# deleting unneeded columns:\n",
        "#data.drop(['country-year'], inplace=True)\n",
        "data.drop('country-year', axis=1, inplace=True)"
      ]
    },
    {
      "cell_type": "markdown",
      "metadata": {
        "id": "7_CNr7F1TmX7"
      },
      "source": [
        "**✤ As you can see from initial 5 rows of table, there are null values(NaN) in HDI and Gdp_for_year column, and we should guess all other missing values from table:**"
      ]
    },
    {
      "cell_type": "code",
      "execution_count": null,
      "metadata": {
        "id": "YAkfTv_nTmX7",
        "outputId": "be972072-0066-4801-aa92-c2e71655e1d8"
      },
      "outputs": [
        {
          "data": {
            "text/plain": [
              "country                 0\n",
              "year                    0\n",
              "gender                  0\n",
              "age                     0\n",
              "suicides_no             0\n",
              "population              0\n",
              "suicides/100kpop        0\n",
              "hdiforyear          19296\n",
              "gdp_for_year         1074\n",
              "gdp_per_capita          0\n",
              "generation              0\n",
              "dtype: int64"
            ]
          },
          "execution_count": 13,
          "metadata": {},
          "output_type": "execute_result"
        }
      ],
      "source": [
        "# by using isnull() function and we count empty values in columns:\n",
        "data.isnull().sum()"
      ]
    },
    {
      "cell_type": "markdown",
      "metadata": {
        "id": "9zARQA_OTmX8"
      },
      "source": [
        "**✤  'HDI_for_year' column has missing rows- 19296 out of 27820 rows, it is about 65-70% of observations missed, it means without any data.**\n",
        "### ✤  PERCENTAGE OF MISSINGNESS:"
      ]
    },
    {
      "cell_type": "code",
      "execution_count": null,
      "metadata": {
        "id": "sxV26XrSTmX9",
        "outputId": "dc696f9a-ed77-4f8a-a4bd-7efcb746889c"
      },
      "outputs": [
        {
          "data": {
            "text/plain": [
              "country              0.000000\n",
              "year                 0.000000\n",
              "gender               0.000000\n",
              "age                  0.000000\n",
              "suicides_no          0.000000\n",
              "population           0.000000\n",
              "suicides/100kpop     0.000000\n",
              "hdiforyear          69.761388\n",
              "gdp_for_year         3.882863\n",
              "gdp_per_capita       0.000000\n",
              "generation           0.000000\n",
              "dtype: float64"
            ]
          },
          "execution_count": 14,
          "metadata": {},
          "output_type": "execute_result"
        }
      ],
      "source": [
        "null_values = data.isnull().mean()*100\n",
        "null_values"
      ]
    },
    {
      "cell_type": "markdown",
      "metadata": {
        "id": "BQdAZ7i7TmX-"
      },
      "source": [
        "## ✤ Nullity BAR, by Importing new libarary => \"missingno\""
      ]
    },
    {
      "cell_type": "code",
      "execution_count": null,
      "metadata": {
        "id": "DXFWTOFDTmX-"
      },
      "outputs": [],
      "source": [
        "import missingno as msno"
      ]
    },
    {
      "cell_type": "code",
      "execution_count": null,
      "metadata": {
        "id": "BZXcKK7oTmX-",
        "outputId": "4f9ccd88-11c9-4cec-86a8-fc8c74ccd2ef"
      },
      "outputs": [
        {
          "data": {
            "text/plain": [
              "<AxesSubplot:>"
            ]
          },
          "execution_count": 16,
          "metadata": {},
          "output_type": "execute_result"
        },
        {
          "data": {
            "image/png": "[encoded data removed]",
            "text/plain": [
              "<Figure size 1728x720 with 3 Axes>"
            ]
          },
          "metadata": {
            "needs_background": "light"
          },
          "output_type": "display_data"
        }
      ],
      "source": [
        "msno.bar(data)"
      ]
    },
    {
      "cell_type": "markdown",
      "metadata": {
        "id": "0xLkJSJxTmX_"
      },
      "source": [
        "## ✤ Nullity Matrix"
      ]
    },
    {
      "cell_type": "code",
      "execution_count": null,
      "metadata": {
        "id": "JjkBi2C4TmX_",
        "outputId": "a4a4b997-1f35-43e9-d7f9-e4cddabaffac"
      },
      "outputs": [
        {
          "data": {
            "text/plain": [
              "<AxesSubplot:>"
            ]
          },
          "execution_count": 21,
          "metadata": {},
          "output_type": "execute_result"
        },
        {
          "data": {
            "image/png": "[encoded data removed]",
            "text/plain": [
              "<Figure size 1800x720 with 2 Axes>"
            ]
          },
          "metadata": {
            "needs_background": "light"
          },
          "output_type": "display_data"
        }
      ],
      "source": [
        "msno.matrix(data)"
      ]
    },
    {
      "cell_type": "code",
      "execution_count": null,
      "metadata": {
        "id": "O0wR4o6bTmYA"
      },
      "outputs": [],
      "source": [
        "# Missingness Dendrogram\n",
        "# msno.dendrogram(data)"
      ]
    },
    {
      "cell_type": "markdown",
      "metadata": {
        "id": "woon6juQTmYB"
      },
      "source": [
        "**I checked my dataset in  file, and here I understand that:**\n",
        "+ In **\"HDI column\"** is Missing at Random(MAR) => **Method of Filling is \"Mean Imputation\"**"
      ]
    },
    {
      "cell_type": "code",
      "execution_count": null,
      "metadata": {
        "id": "7MsUHNqxTmYB",
        "outputId": "e1b848b9-8091-4c42-85c2-7cbad1ca293a"
      },
      "outputs": [
        {
          "data": {
            "text/plain": [
              "0.7766011477761785"
            ]
          },
          "execution_count": 17,
          "metadata": {},
          "output_type": "execute_result"
        }
      ],
      "source": [
        "data['hdiforyear'].mean()"
      ]
    },
    {
      "cell_type": "code",
      "execution_count": null,
      "metadata": {
        "id": "SuDMD7lwTmYB"
      },
      "outputs": [],
      "source": [
        "# importing new library to fill with mean:\n",
        "from sklearn.impute import SimpleImputer\n",
        "\n",
        "# Missing values is represented using NaN: \n",
        "imputer = SimpleImputer(missing_values=np.NaN, strategy='mean') \n",
        "data.hdiforyear = imputer.fit_transform(data['hdiforyear'].values.reshape(-1,1))"
      ]
    },
    {
      "cell_type": "code",
      "execution_count": null,
      "metadata": {
        "id": "r1uwZa83TmYC"
      },
      "outputs": [],
      "source": [
        "# Another Method of filling:\n",
        "\n",
        "# data['hdiforyear'] = data['hdiforyear'].fillna((data['hdiforyear'].mean()))"
      ]
    },
    {
      "cell_type": "markdown",
      "metadata": {
        "id": "lBfZT2KxTmYC"
      },
      "source": [
        "**I checked my dataset in Excel file, and here I understand that:**\n",
        "+ There was null values, between first and last row for each country, like between range was empty, but somwhere it was full.\n",
        "+ In  **\"GDP_for year\"** column is Missing not at Random(MNAR) => **Method of Filling is \"Forward and Backward Filling\"**"
      ]
    },
    {
      "cell_type": "code",
      "execution_count": null,
      "metadata": {
        "id": "s6Oz0q0-TmYC"
      },
      "outputs": [],
      "source": [
        "data['gdp_for_year'] = data['gdp_for_year'].fillna(method='ffill').fillna(method='bfill')"
      ]
    },
    {
      "cell_type": "markdown",
      "metadata": {
        "id": "B0Tiym3gTmYD"
      },
      "source": [
        "✤ **Now I can check and see, that there are no NULL values:**"
      ]
    },
    {
      "cell_type": "code",
      "execution_count": null,
      "metadata": {
        "id": "VEiXoDtsTmYD",
        "outputId": "f28baa92-7550-4245-b2f2-2f739fb352c3"
      },
      "outputs": [
        {
          "data": {
            "text/plain": [
              "country             False\n",
              "year                False\n",
              "gender              False\n",
              "age                 False\n",
              "suicides_no         False\n",
              "population          False\n",
              "suicides/100kpop    False\n",
              "hdiforyear          False\n",
              "gdp_for_year        False\n",
              "gdp_per_capita      False\n",
              "generation          False\n",
              "dtype: bool"
            ]
          },
          "execution_count": 26,
          "metadata": {},
          "output_type": "execute_result"
        }
      ],
      "source": [
        "# again by using isnull() function and we count empty values in columns:\n",
        "data.isnull().any()\n",
        "# So, bollean \"false\" means that there is no null data:"
      ]
    },
    {
      "cell_type": "markdown",
      "metadata": {
        "id": "tegJUnUHTmYD"
      },
      "source": [
        "**✤  Additionally, we should know datatypes of our variables, it will help us in analysis:**\n",
        " + object-> categorical data\n",
        " + int64 -> numerical data \n",
        " + float64-> numerical data "
      ]
    },
    {
      "cell_type": "code",
      "execution_count": null,
      "metadata": {
        "id": "oEk_myuKTmYE",
        "outputId": "9eb499f3-eee5-4c71-d5e4-42f274e7d435"
      },
      "outputs": [
        {
          "data": {
            "text/plain": [
              "country              object\n",
              "year                  int64\n",
              "gender               object\n",
              "age                  object\n",
              "suicides_no           int64\n",
              "population            int64\n",
              "suicides/100kpop    float64\n",
              "hdiforyear          float64\n",
              "gdp_for_year         object\n",
              "gdp_per_capita        int64\n",
              "generation           object\n",
              "dtype: object"
            ]
          },
          "execution_count": 27,
          "metadata": {},
          "output_type": "execute_result"
        }
      ],
      "source": [
        "data.dtypes"
      ]
    },
    {
      "cell_type": "markdown",
      "metadata": {
        "id": "-p85KPu7TmYE"
      },
      "source": [
        "## ✤  Preparing a variables for 'Age- ranges':"
      ]
    },
    {
      "cell_type": "code",
      "execution_count": null,
      "metadata": {
        "id": "wELhSRx5TmYM"
      },
      "outputs": [],
      "source": [
        "data['age'] = data['age'].str.replace('years','')"
      ]
    },
    {
      "cell_type": "code",
      "execution_count": null,
      "metadata": {
        "id": "y-EuYkN8TmYN",
        "outputId": "559cc2d5-54fc-48b9-bc04-e823a5e825ae"
      },
      "outputs": [
        {
          "data": {
            "text/plain": [
              "array(['15-24 ', '35-54 ', '75+ ', '25-34 ', '55-74 ', '5-14 '],\n",
              "      dtype=object)"
            ]
          },
          "execution_count": 30,
          "metadata": {},
          "output_type": "execute_result"
        }
      ],
      "source": [
        "data['age'].unique()"
      ]
    },
    {
      "cell_type": "code",
      "execution_count": null,
      "metadata": {
        "id": "rW7OAV-eTmYO"
      },
      "outputs": [],
      "source": [
        "data['age'] = data['age'].replace('5-14 ',1).replace('15-24 ',2).replace('25-34 ',3).replace('35-54 ',4).replace('55-74 ',5).replace('75+ ',6)"
      ]
    },
    {
      "cell_type": "code",
      "execution_count": null,
      "metadata": {
        "id": "-3Rlbgm-TmYO",
        "outputId": "d7abbfb4-8c9e-4c63-8ae4-3d20fb33cbe9"
      },
      "outputs": [
        {
          "data": {
            "text/html": [
              "<div>\n",
              "<style scoped>\n",
              "    .dataframe tbody tr th:only-of-type {\n",
              "        vertical-align: middle;\n",
              "    }\n",
              "\n",
              "    .dataframe tbody tr th {\n",
              "        vertical-align: top;\n",
              "    }\n",
              "\n",
              "    .dataframe thead th {\n",
              "        text-align: right;\n",
              "    }\n",
              "</style>\n",
              "<table border=\"1\" class=\"dataframe\">\n",
              "  <thead>\n",
              "    <tr style=\"text-align: right;\">\n",
              "      <th></th>\n",
              "      <th>country</th>\n",
              "      <th>year</th>\n",
              "      <th>gender</th>\n",
              "      <th>age</th>\n",
              "      <th>suicides_no</th>\n",
              "      <th>population</th>\n",
              "      <th>suicides/100kpop</th>\n",
              "      <th>hdiforyear</th>\n",
              "      <th>gdp_for_year</th>\n",
              "      <th>gdp_per_capita</th>\n",
              "      <th>generation</th>\n",
              "    </tr>\n",
              "  </thead>\n",
              "  <tbody>\n",
              "    <tr>\n",
              "      <th>0</th>\n",
              "      <td>Albania</td>\n",
              "      <td>1987</td>\n",
              "      <td>male</td>\n",
              "      <td>2</td>\n",
              "      <td>21</td>\n",
              "      <td>312900</td>\n",
              "      <td>6.71</td>\n",
              "      <td>0.776601</td>\n",
              "      <td>2,156,624,900</td>\n",
              "      <td>796</td>\n",
              "      <td>Generation X</td>\n",
              "    </tr>\n",
              "    <tr>\n",
              "      <th>1</th>\n",
              "      <td>Albania</td>\n",
              "      <td>1987</td>\n",
              "      <td>male</td>\n",
              "      <td>4</td>\n",
              "      <td>16</td>\n",
              "      <td>308000</td>\n",
              "      <td>5.19</td>\n",
              "      <td>0.776601</td>\n",
              "      <td>2,156,624,900</td>\n",
              "      <td>796</td>\n",
              "      <td>Silent</td>\n",
              "    </tr>\n",
              "    <tr>\n",
              "      <th>2</th>\n",
              "      <td>Albania</td>\n",
              "      <td>1987</td>\n",
              "      <td>female</td>\n",
              "      <td>2</td>\n",
              "      <td>14</td>\n",
              "      <td>289700</td>\n",
              "      <td>4.83</td>\n",
              "      <td>0.776601</td>\n",
              "      <td>2,156,624,900</td>\n",
              "      <td>796</td>\n",
              "      <td>Generation X</td>\n",
              "    </tr>\n",
              "    <tr>\n",
              "      <th>3</th>\n",
              "      <td>Albania</td>\n",
              "      <td>1987</td>\n",
              "      <td>male</td>\n",
              "      <td>6</td>\n",
              "      <td>1</td>\n",
              "      <td>21800</td>\n",
              "      <td>4.59</td>\n",
              "      <td>0.776601</td>\n",
              "      <td>2,156,624,900</td>\n",
              "      <td>796</td>\n",
              "      <td>G.I. Generation</td>\n",
              "    </tr>\n",
              "    <tr>\n",
              "      <th>4</th>\n",
              "      <td>Albania</td>\n",
              "      <td>1987</td>\n",
              "      <td>male</td>\n",
              "      <td>3</td>\n",
              "      <td>9</td>\n",
              "      <td>274300</td>\n",
              "      <td>3.28</td>\n",
              "      <td>0.776601</td>\n",
              "      <td>2,156,624,900</td>\n",
              "      <td>796</td>\n",
              "      <td>Boomers</td>\n",
              "    </tr>\n",
              "  </tbody>\n",
              "</table>\n",
              "</div>"
            ],
            "text/plain": [
              "   country  year  gender  age  suicides_no  population  suicides/100kpop  \\\n",
              "0  Albania  1987    male    2           21      312900              6.71   \n",
              "1  Albania  1987    male    4           16      308000              5.19   \n",
              "2  Albania  1987  female    2           14      289700              4.83   \n",
              "3  Albania  1987    male    6            1       21800              4.59   \n",
              "4  Albania  1987    male    3            9      274300              3.28   \n",
              "\n",
              "   hdiforyear   gdp_for_year  gdp_per_capita       generation  \n",
              "0    0.776601  2,156,624,900             796     Generation X  \n",
              "1    0.776601  2,156,624,900             796           Silent  \n",
              "2    0.776601  2,156,624,900             796     Generation X  \n",
              "3    0.776601  2,156,624,900             796  G.I. Generation  \n",
              "4    0.776601  2,156,624,900             796          Boomers  "
            ]
          },
          "execution_count": 32,
          "metadata": {},
          "output_type": "execute_result"
        }
      ],
      "source": [
        "data.head()"
      ]
    },
    {
      "cell_type": "markdown",
      "metadata": {
        "id": "0Y82dNwWTmYP"
      },
      "source": [
        "## ✤  Encoding and Preparing catrgorical variables like 'Gender' and 'Generation':\n",
        "+ **In such way that [ Male is 1 and Female is 0]**\n",
        "+ **In such way that Each 6 genearation from 1 to 6.**"
      ]
    },
    {
      "cell_type": "code",
      "execution_count": null,
      "metadata": {
        "id": "FOcyCZ-eTmYP"
      },
      "outputs": [],
      "source": [
        "from sklearn.preprocessing import LabelEncoder\n",
        "# importing NEW library to encode:\n",
        "\n",
        "label = LabelEncoder()\n",
        "data['gender'] = label.fit_transform(data['gender'])\n",
        "data['generation'] = label.fit_transform(data['generation'])"
      ]
    },
    {
      "cell_type": "code",
      "execution_count": null,
      "metadata": {
        "id": "VgIc-UBxTmYQ",
        "outputId": "e0a55ba0-3760-4c8a-8e2a-d962e9aec347"
      },
      "outputs": [
        {
          "data": {
            "text/html": [
              "<div>\n",
              "<style scoped>\n",
              "    .dataframe tbody tr th:only-of-type {\n",
              "        vertical-align: middle;\n",
              "    }\n",
              "\n",
              "    .dataframe tbody tr th {\n",
              "        vertical-align: top;\n",
              "    }\n",
              "\n",
              "    .dataframe thead th {\n",
              "        text-align: right;\n",
              "    }\n",
              "</style>\n",
              "<table border=\"1\" class=\"dataframe\">\n",
              "  <thead>\n",
              "    <tr style=\"text-align: right;\">\n",
              "      <th></th>\n",
              "      <th>country</th>\n",
              "      <th>year</th>\n",
              "      <th>gender</th>\n",
              "      <th>age</th>\n",
              "      <th>suicides_no</th>\n",
              "      <th>population</th>\n",
              "      <th>suicides/100kpop</th>\n",
              "      <th>hdiforyear</th>\n",
              "      <th>gdp_for_year</th>\n",
              "      <th>gdp_per_capita</th>\n",
              "      <th>generation</th>\n",
              "    </tr>\n",
              "  </thead>\n",
              "  <tbody>\n",
              "    <tr>\n",
              "      <th>0</th>\n",
              "      <td>Albania</td>\n",
              "      <td>1987</td>\n",
              "      <td>1</td>\n",
              "      <td>2</td>\n",
              "      <td>21</td>\n",
              "      <td>312900</td>\n",
              "      <td>6.71</td>\n",
              "      <td>0.776601</td>\n",
              "      <td>2,156,624,900</td>\n",
              "      <td>796</td>\n",
              "      <td>2</td>\n",
              "    </tr>\n",
              "    <tr>\n",
              "      <th>1</th>\n",
              "      <td>Albania</td>\n",
              "      <td>1987</td>\n",
              "      <td>1</td>\n",
              "      <td>4</td>\n",
              "      <td>16</td>\n",
              "      <td>308000</td>\n",
              "      <td>5.19</td>\n",
              "      <td>0.776601</td>\n",
              "      <td>2,156,624,900</td>\n",
              "      <td>796</td>\n",
              "      <td>5</td>\n",
              "    </tr>\n",
              "    <tr>\n",
              "      <th>2</th>\n",
              "      <td>Albania</td>\n",
              "      <td>1987</td>\n",
              "      <td>0</td>\n",
              "      <td>2</td>\n",
              "      <td>14</td>\n",
              "      <td>289700</td>\n",
              "      <td>4.83</td>\n",
              "      <td>0.776601</td>\n",
              "      <td>2,156,624,900</td>\n",
              "      <td>796</td>\n",
              "      <td>2</td>\n",
              "    </tr>\n",
              "    <tr>\n",
              "      <th>3</th>\n",
              "      <td>Albania</td>\n",
              "      <td>1987</td>\n",
              "      <td>1</td>\n",
              "      <td>6</td>\n",
              "      <td>1</td>\n",
              "      <td>21800</td>\n",
              "      <td>4.59</td>\n",
              "      <td>0.776601</td>\n",
              "      <td>2,156,624,900</td>\n",
              "      <td>796</td>\n",
              "      <td>1</td>\n",
              "    </tr>\n",
              "    <tr>\n",
              "      <th>4</th>\n",
              "      <td>Albania</td>\n",
              "      <td>1987</td>\n",
              "      <td>1</td>\n",
              "      <td>3</td>\n",
              "      <td>9</td>\n",
              "      <td>274300</td>\n",
              "      <td>3.28</td>\n",
              "      <td>0.776601</td>\n",
              "      <td>2,156,624,900</td>\n",
              "      <td>796</td>\n",
              "      <td>0</td>\n",
              "    </tr>\n",
              "  </tbody>\n",
              "</table>\n",
              "</div>"
            ],
            "text/plain": [
              "   country  year  gender  age  suicides_no  population  suicides/100kpop  \\\n",
              "0  Albania  1987       1    2           21      312900              6.71   \n",
              "1  Albania  1987       1    4           16      308000              5.19   \n",
              "2  Albania  1987       0    2           14      289700              4.83   \n",
              "3  Albania  1987       1    6            1       21800              4.59   \n",
              "4  Albania  1987       1    3            9      274300              3.28   \n",
              "\n",
              "   hdiforyear   gdp_for_year  gdp_per_capita  generation  \n",
              "0    0.776601  2,156,624,900             796           2  \n",
              "1    0.776601  2,156,624,900             796           5  \n",
              "2    0.776601  2,156,624,900             796           2  \n",
              "3    0.776601  2,156,624,900             796           1  \n",
              "4    0.776601  2,156,624,900             796           0  "
            ]
          },
          "execution_count": 34,
          "metadata": {},
          "output_type": "execute_result"
        }
      ],
      "source": [
        "data.head()"
      ]
    },
    {
      "cell_type": "markdown",
      "metadata": {
        "id": "oVPyh76lTmYQ"
      },
      "source": [
        "### ✤ Preparing a variables for 'Gdp_for_Year' "
      ]
    },
    {
      "cell_type": "code",
      "execution_count": null,
      "metadata": {
        "id": "lmgPCdWwTmYR"
      },
      "outputs": [],
      "source": [
        "# deleting commas from string:\n",
        "data['gdp_for_year'] = data['gdp_for_year'].apply(lambda val: val.replace(',', ''))\n",
        "# converting into numberS:\n",
        "data['gdp_for_year'] = pd.to_numeric(data['gdp_for_year'])"
      ]
    },
    {
      "cell_type": "markdown",
      "metadata": {
        "id": "7meiPBaMTmYR"
      },
      "source": [
        "**✤ I decided to drop categorical column=> Country, because I have 100 countries,so much and also ratio column:**"
      ]
    },
    {
      "cell_type": "code",
      "execution_count": null,
      "metadata": {
        "id": "Rc63F7eZTmYR"
      },
      "outputs": [],
      "source": [
        "data.drop('country', axis=1, inplace=True)"
      ]
    },
    {
      "cell_type": "code",
      "execution_count": null,
      "metadata": {
        "id": "RcGvg7UWTmYS"
      },
      "outputs": [],
      "source": [
        "data.drop('suicides/100kpop', axis=1, inplace=True)"
      ]
    },
    {
      "cell_type": "code",
      "execution_count": null,
      "metadata": {
        "id": "G9tEHOviTmYS",
        "outputId": "bc7ccec8-8259-4035-be8e-65709f4c80be"
      },
      "outputs": [
        {
          "data": {
            "text/plain": [
              "(27660, 9)"
            ]
          },
          "execution_count": 38,
          "metadata": {},
          "output_type": "execute_result"
        }
      ],
      "source": [
        "data.shape"
      ]
    },
    {
      "cell_type": "code",
      "execution_count": null,
      "metadata": {
        "id": "HDiycV1bTmYS",
        "outputId": "cd5f7cb1-7535-44b5-e24b-10178f96502f"
      },
      "outputs": [
        {
          "data": {
            "text/html": [
              "<div>\n",
              "<style scoped>\n",
              "    .dataframe tbody tr th:only-of-type {\n",
              "        vertical-align: middle;\n",
              "    }\n",
              "\n",
              "    .dataframe tbody tr th {\n",
              "        vertical-align: top;\n",
              "    }\n",
              "\n",
              "    .dataframe thead th {\n",
              "        text-align: right;\n",
              "    }\n",
              "</style>\n",
              "<table border=\"1\" class=\"dataframe\">\n",
              "  <thead>\n",
              "    <tr style=\"text-align: right;\">\n",
              "      <th></th>\n",
              "      <th>year</th>\n",
              "      <th>gender</th>\n",
              "      <th>age</th>\n",
              "      <th>suicides_no</th>\n",
              "      <th>population</th>\n",
              "      <th>hdiforyear</th>\n",
              "      <th>gdp_for_year</th>\n",
              "      <th>gdp_per_capita</th>\n",
              "      <th>generation</th>\n",
              "    </tr>\n",
              "  </thead>\n",
              "  <tbody>\n",
              "    <tr>\n",
              "      <th>0</th>\n",
              "      <td>1987</td>\n",
              "      <td>1</td>\n",
              "      <td>2</td>\n",
              "      <td>21</td>\n",
              "      <td>312900</td>\n",
              "      <td>0.776601</td>\n",
              "      <td>2156624900</td>\n",
              "      <td>796</td>\n",
              "      <td>2</td>\n",
              "    </tr>\n",
              "    <tr>\n",
              "      <th>1</th>\n",
              "      <td>1987</td>\n",
              "      <td>1</td>\n",
              "      <td>4</td>\n",
              "      <td>16</td>\n",
              "      <td>308000</td>\n",
              "      <td>0.776601</td>\n",
              "      <td>2156624900</td>\n",
              "      <td>796</td>\n",
              "      <td>5</td>\n",
              "    </tr>\n",
              "    <tr>\n",
              "      <th>2</th>\n",
              "      <td>1987</td>\n",
              "      <td>0</td>\n",
              "      <td>2</td>\n",
              "      <td>14</td>\n",
              "      <td>289700</td>\n",
              "      <td>0.776601</td>\n",
              "      <td>2156624900</td>\n",
              "      <td>796</td>\n",
              "      <td>2</td>\n",
              "    </tr>\n",
              "    <tr>\n",
              "      <th>3</th>\n",
              "      <td>1987</td>\n",
              "      <td>1</td>\n",
              "      <td>6</td>\n",
              "      <td>1</td>\n",
              "      <td>21800</td>\n",
              "      <td>0.776601</td>\n",
              "      <td>2156624900</td>\n",
              "      <td>796</td>\n",
              "      <td>1</td>\n",
              "    </tr>\n",
              "    <tr>\n",
              "      <th>4</th>\n",
              "      <td>1987</td>\n",
              "      <td>1</td>\n",
              "      <td>3</td>\n",
              "      <td>9</td>\n",
              "      <td>274300</td>\n",
              "      <td>0.776601</td>\n",
              "      <td>2156624900</td>\n",
              "      <td>796</td>\n",
              "      <td>0</td>\n",
              "    </tr>\n",
              "    <tr>\n",
              "      <th>...</th>\n",
              "      <td>...</td>\n",
              "      <td>...</td>\n",
              "      <td>...</td>\n",
              "      <td>...</td>\n",
              "      <td>...</td>\n",
              "      <td>...</td>\n",
              "      <td>...</td>\n",
              "      <td>...</td>\n",
              "      <td>...</td>\n",
              "    </tr>\n",
              "    <tr>\n",
              "      <th>27815</th>\n",
              "      <td>2014</td>\n",
              "      <td>0</td>\n",
              "      <td>4</td>\n",
              "      <td>107</td>\n",
              "      <td>3620833</td>\n",
              "      <td>0.675000</td>\n",
              "      <td>63067077179</td>\n",
              "      <td>2309</td>\n",
              "      <td>2</td>\n",
              "    </tr>\n",
              "    <tr>\n",
              "      <th>27816</th>\n",
              "      <td>2014</td>\n",
              "      <td>0</td>\n",
              "      <td>6</td>\n",
              "      <td>9</td>\n",
              "      <td>348465</td>\n",
              "      <td>0.675000</td>\n",
              "      <td>63067077179</td>\n",
              "      <td>2309</td>\n",
              "      <td>5</td>\n",
              "    </tr>\n",
              "    <tr>\n",
              "      <th>27817</th>\n",
              "      <td>2014</td>\n",
              "      <td>1</td>\n",
              "      <td>1</td>\n",
              "      <td>60</td>\n",
              "      <td>2762158</td>\n",
              "      <td>0.675000</td>\n",
              "      <td>63067077179</td>\n",
              "      <td>2309</td>\n",
              "      <td>3</td>\n",
              "    </tr>\n",
              "    <tr>\n",
              "      <th>27818</th>\n",
              "      <td>2014</td>\n",
              "      <td>0</td>\n",
              "      <td>1</td>\n",
              "      <td>44</td>\n",
              "      <td>2631600</td>\n",
              "      <td>0.675000</td>\n",
              "      <td>63067077179</td>\n",
              "      <td>2309</td>\n",
              "      <td>3</td>\n",
              "    </tr>\n",
              "    <tr>\n",
              "      <th>27819</th>\n",
              "      <td>2014</td>\n",
              "      <td>0</td>\n",
              "      <td>5</td>\n",
              "      <td>21</td>\n",
              "      <td>1438935</td>\n",
              "      <td>0.675000</td>\n",
              "      <td>63067077179</td>\n",
              "      <td>2309</td>\n",
              "      <td>0</td>\n",
              "    </tr>\n",
              "  </tbody>\n",
              "</table>\n",
              "<p>27660 rows × 9 columns</p>\n",
              "</div>"
            ],
            "text/plain": [
              "       year  gender  age  suicides_no  population  hdiforyear  gdp_for_year  \\\n",
              "0      1987       1    2           21      312900    0.776601    2156624900   \n",
              "1      1987       1    4           16      308000    0.776601    2156624900   \n",
              "2      1987       0    2           14      289700    0.776601    2156624900   \n",
              "3      1987       1    6            1       21800    0.776601    2156624900   \n",
              "4      1987       1    3            9      274300    0.776601    2156624900   \n",
              "...     ...     ...  ...          ...         ...         ...           ...   \n",
              "27815  2014       0    4          107     3620833    0.675000   63067077179   \n",
              "27816  2014       0    6            9      348465    0.675000   63067077179   \n",
              "27817  2014       1    1           60     2762158    0.675000   63067077179   \n",
              "27818  2014       0    1           44     2631600    0.675000   63067077179   \n",
              "27819  2014       0    5           21     1438935    0.675000   63067077179   \n",
              "\n",
              "       gdp_per_capita  generation  \n",
              "0                 796           2  \n",
              "1                 796           5  \n",
              "2                 796           2  \n",
              "3                 796           1  \n",
              "4                 796           0  \n",
              "...               ...         ...  \n",
              "27815            2309           2  \n",
              "27816            2309           5  \n",
              "27817            2309           3  \n",
              "27818            2309           3  \n",
              "27819            2309           0  \n",
              "\n",
              "[27660 rows x 9 columns]"
            ]
          },
          "execution_count": 39,
          "metadata": {},
          "output_type": "execute_result"
        }
      ],
      "source": [
        "# HERE IS MY FINAL DATASET:\n",
        "data"
      ]
    },
    {
      "cell_type": "code",
      "execution_count": null,
      "metadata": {
        "id": "hXIKQa_rTmYT",
        "outputId": "b2955ca2-6bc2-4da1-ba5c-c186baf64a36"
      },
      "outputs": [
        {
          "data": {
            "text/plain": [
              "year                int64\n",
              "gender              int32\n",
              "age                 int64\n",
              "suicides_no         int64\n",
              "population          int64\n",
              "hdiforyear        float64\n",
              "gdp_for_year        int64\n",
              "gdp_per_capita      int64\n",
              "generation          int32\n",
              "dtype: object"
            ]
          },
          "execution_count": 40,
          "metadata": {},
          "output_type": "execute_result"
        }
      ],
      "source": [
        "# ALL DATATYPES ARE INTEGERS:\n",
        "data.dtypes"
      ]
    },
    {
      "cell_type": "markdown",
      "metadata": {
        "id": "Ua43jUZKTmYT"
      },
      "source": [
        "### ✤ SAVING MY NEW dataset into excel file:"
      ]
    },
    {
      "cell_type": "code",
      "execution_count": null,
      "metadata": {
        "id": "pIwF3ZH1TmYT"
      },
      "outputs": [],
      "source": [
        "data.to_excel(\"NEW-suicide.xlsx\")"
      ]
    },
    {
      "cell_type": "code",
      "execution_count": null,
      "metadata": {
        "id": "g5o6Bj8zTmYU"
      },
      "outputs": [],
      "source": [
        "new_data = pd.read_excel('NEW-suicide.xlsx')"
      ]
    },
    {
      "cell_type": "markdown",
      "metadata": {
        "id": "wBHQO5pZTmYU"
      },
      "source": [
        "**✤  Also, there is a Statistical description of my dataset, it illustrates a fairly wide range of data such as total amount, average mean value, standard deviation, interqurtile range and min/max values:**"
      ]
    },
    {
      "cell_type": "code",
      "execution_count": null,
      "metadata": {
        "id": "PEY3zkRwTmYU",
        "outputId": "303c2431-463e-4efd-83dc-e27bcfe44dc0"
      },
      "outputs": [
        {
          "data": {
            "text/html": [
              "<div>\n",
              "<style scoped>\n",
              "    .dataframe tbody tr th:only-of-type {\n",
              "        vertical-align: middle;\n",
              "    }\n",
              "\n",
              "    .dataframe tbody tr th {\n",
              "        vertical-align: top;\n",
              "    }\n",
              "\n",
              "    .dataframe thead th {\n",
              "        text-align: right;\n",
              "    }\n",
              "</style>\n",
              "<table border=\"1\" class=\"dataframe\">\n",
              "  <thead>\n",
              "    <tr style=\"text-align: right;\">\n",
              "      <th></th>\n",
              "      <th>year</th>\n",
              "      <th>gender</th>\n",
              "      <th>age</th>\n",
              "      <th>suicides_no</th>\n",
              "      <th>population</th>\n",
              "      <th>hdiforyear</th>\n",
              "      <th>gdp_for_year</th>\n",
              "      <th>gdp_per_capita</th>\n",
              "      <th>generation</th>\n",
              "    </tr>\n",
              "  </thead>\n",
              "  <tbody>\n",
              "    <tr>\n",
              "      <th>count</th>\n",
              "      <td>27660.000000</td>\n",
              "      <td>27660.000000</td>\n",
              "      <td>27660.000000</td>\n",
              "      <td>27660.000000</td>\n",
              "      <td>2.766000e+04</td>\n",
              "      <td>27660.000000</td>\n",
              "      <td>2.766000e+04</td>\n",
              "      <td>27660.000000</td>\n",
              "      <td>27660.000000</td>\n",
              "    </tr>\n",
              "    <tr>\n",
              "      <th>mean</th>\n",
              "      <td>2001.173102</td>\n",
              "      <td>0.500000</td>\n",
              "      <td>3.500000</td>\n",
              "      <td>243.413485</td>\n",
              "      <td>1.850689e+06</td>\n",
              "      <td>0.776601</td>\n",
              "      <td>4.471010e+11</td>\n",
              "      <td>16815.568330</td>\n",
              "      <td>2.700145</td>\n",
              "    </tr>\n",
              "    <tr>\n",
              "      <th>std</th>\n",
              "      <td>8.418754</td>\n",
              "      <td>0.500009</td>\n",
              "      <td>1.707856</td>\n",
              "      <td>904.490185</td>\n",
              "      <td>3.920658e+06</td>\n",
              "      <td>0.051340</td>\n",
              "      <td>1.457574e+12</td>\n",
              "      <td>18861.585497</td>\n",
              "      <td>1.809814</td>\n",
              "    </tr>\n",
              "    <tr>\n",
              "      <th>min</th>\n",
              "      <td>1985.000000</td>\n",
              "      <td>0.000000</td>\n",
              "      <td>1.000000</td>\n",
              "      <td>0.000000</td>\n",
              "      <td>2.780000e+02</td>\n",
              "      <td>0.483000</td>\n",
              "      <td>4.691962e+07</td>\n",
              "      <td>251.000000</td>\n",
              "      <td>0.000000</td>\n",
              "    </tr>\n",
              "    <tr>\n",
              "      <th>25%</th>\n",
              "      <td>1994.000000</td>\n",
              "      <td>0.000000</td>\n",
              "      <td>2.000000</td>\n",
              "      <td>3.000000</td>\n",
              "      <td>9.753525e+04</td>\n",
              "      <td>0.776601</td>\n",
              "      <td>8.976208e+09</td>\n",
              "      <td>3436.000000</td>\n",
              "      <td>1.000000</td>\n",
              "    </tr>\n",
              "    <tr>\n",
              "      <th>50%</th>\n",
              "      <td>2002.000000</td>\n",
              "      <td>0.500000</td>\n",
              "      <td>3.500000</td>\n",
              "      <td>25.000000</td>\n",
              "      <td>4.307250e+05</td>\n",
              "      <td>0.776601</td>\n",
              "      <td>4.801361e+10</td>\n",
              "      <td>9283.000000</td>\n",
              "      <td>2.000000</td>\n",
              "    </tr>\n",
              "    <tr>\n",
              "      <th>75%</th>\n",
              "      <td>2008.000000</td>\n",
              "      <td>1.000000</td>\n",
              "      <td>5.000000</td>\n",
              "      <td>132.000000</td>\n",
              "      <td>1.491041e+06</td>\n",
              "      <td>0.776601</td>\n",
              "      <td>2.602024e+11</td>\n",
              "      <td>24796.000000</td>\n",
              "      <td>4.000000</td>\n",
              "    </tr>\n",
              "    <tr>\n",
              "      <th>max</th>\n",
              "      <td>2015.000000</td>\n",
              "      <td>1.000000</td>\n",
              "      <td>6.000000</td>\n",
              "      <td>22338.000000</td>\n",
              "      <td>4.380521e+07</td>\n",
              "      <td>0.944000</td>\n",
              "      <td>1.812071e+13</td>\n",
              "      <td>126352.000000</td>\n",
              "      <td>5.000000</td>\n",
              "    </tr>\n",
              "  </tbody>\n",
              "</table>\n",
              "</div>"
            ],
            "text/plain": [
              "               year        gender           age   suicides_no    population  \\\n",
              "count  27660.000000  27660.000000  27660.000000  27660.000000  2.766000e+04   \n",
              "mean    2001.173102      0.500000      3.500000    243.413485  1.850689e+06   \n",
              "std        8.418754      0.500009      1.707856    904.490185  3.920658e+06   \n",
              "min     1985.000000      0.000000      1.000000      0.000000  2.780000e+02   \n",
              "25%     1994.000000      0.000000      2.000000      3.000000  9.753525e+04   \n",
              "50%     2002.000000      0.500000      3.500000     25.000000  4.307250e+05   \n",
              "75%     2008.000000      1.000000      5.000000    132.000000  1.491041e+06   \n",
              "max     2015.000000      1.000000      6.000000  22338.000000  4.380521e+07   \n",
              "\n",
              "         hdiforyear  gdp_for_year  gdp_per_capita    generation  \n",
              "count  27660.000000  2.766000e+04    27660.000000  27660.000000  \n",
              "mean       0.776601  4.471010e+11    16815.568330      2.700145  \n",
              "std        0.051340  1.457574e+12    18861.585497      1.809814  \n",
              "min        0.483000  4.691962e+07      251.000000      0.000000  \n",
              "25%        0.776601  8.976208e+09     3436.000000      1.000000  \n",
              "50%        0.776601  4.801361e+10     9283.000000      2.000000  \n",
              "75%        0.776601  2.602024e+11    24796.000000      4.000000  \n",
              "max        0.944000  1.812071e+13   126352.000000      5.000000  "
            ]
          },
          "execution_count": 45,
          "metadata": {},
          "output_type": "execute_result"
        }
      ],
      "source": [
        "new_data.describe()"
      ]
    },
    {
      "cell_type": "markdown",
      "metadata": {
        "id": "4EhAIMs6TmYU"
      },
      "source": [
        "#  ✤  Data Preprocessing"
      ]
    },
    {
      "cell_type": "markdown",
      "metadata": {
        "id": "uhPdcrsmTmYV"
      },
      "source": [
        "##  ✤ Normalisation of Whole dataset (without missing values): ✤"
      ]
    },
    {
      "cell_type": "code",
      "execution_count": null,
      "metadata": {
        "id": "rl8I0zCSTmYV",
        "outputId": "5e8b614f-a4ce-4f90-f9cb-72747caab6b9"
      },
      "outputs": [
        {
          "data": {
            "text/html": [
              "<div>\n",
              "<style scoped>\n",
              "    .dataframe tbody tr th:only-of-type {\n",
              "        vertical-align: middle;\n",
              "    }\n",
              "\n",
              "    .dataframe tbody tr th {\n",
              "        vertical-align: top;\n",
              "    }\n",
              "\n",
              "    .dataframe thead th {\n",
              "        text-align: right;\n",
              "    }\n",
              "</style>\n",
              "<table border=\"1\" class=\"dataframe\">\n",
              "  <thead>\n",
              "    <tr style=\"text-align: right;\">\n",
              "      <th></th>\n",
              "      <th>year</th>\n",
              "      <th>gender</th>\n",
              "      <th>age</th>\n",
              "      <th>suicides_no</th>\n",
              "      <th>population</th>\n",
              "      <th>hdiforyear</th>\n",
              "      <th>gdp_for_year</th>\n",
              "      <th>gdp_per_capita</th>\n",
              "      <th>generation</th>\n",
              "    </tr>\n",
              "  </thead>\n",
              "  <tbody>\n",
              "    <tr>\n",
              "      <th>0</th>\n",
              "      <td>9.213470e-07</td>\n",
              "      <td>4.636875e-10</td>\n",
              "      <td>9.273750e-10</td>\n",
              "      <td>9.737437e-09</td>\n",
              "      <td>0.000145</td>\n",
              "      <td>3.601002e-10</td>\n",
              "      <td>1.0</td>\n",
              "      <td>3.690952e-07</td>\n",
              "      <td>9.273750e-10</td>\n",
              "    </tr>\n",
              "    <tr>\n",
              "      <th>1</th>\n",
              "      <td>9.213470e-07</td>\n",
              "      <td>4.636875e-10</td>\n",
              "      <td>1.854750e-09</td>\n",
              "      <td>7.419000e-09</td>\n",
              "      <td>0.000143</td>\n",
              "      <td>3.601002e-10</td>\n",
              "      <td>1.0</td>\n",
              "      <td>3.690952e-07</td>\n",
              "      <td>2.318437e-09</td>\n",
              "    </tr>\n",
              "    <tr>\n",
              "      <th>2</th>\n",
              "      <td>9.213470e-07</td>\n",
              "      <td>0.000000e+00</td>\n",
              "      <td>9.273750e-10</td>\n",
              "      <td>6.491625e-09</td>\n",
              "      <td>0.000134</td>\n",
              "      <td>3.601002e-10</td>\n",
              "      <td>1.0</td>\n",
              "      <td>3.690952e-07</td>\n",
              "      <td>9.273750e-10</td>\n",
              "    </tr>\n",
              "    <tr>\n",
              "      <th>3</th>\n",
              "      <td>9.213471e-07</td>\n",
              "      <td>4.636875e-10</td>\n",
              "      <td>2.782125e-09</td>\n",
              "      <td>4.636875e-10</td>\n",
              "      <td>0.000010</td>\n",
              "      <td>3.601002e-10</td>\n",
              "      <td>1.0</td>\n",
              "      <td>3.690952e-07</td>\n",
              "      <td>4.636875e-10</td>\n",
              "    </tr>\n",
              "    <tr>\n",
              "      <th>4</th>\n",
              "      <td>9.213470e-07</td>\n",
              "      <td>4.636875e-10</td>\n",
              "      <td>1.391062e-09</td>\n",
              "      <td>4.173187e-09</td>\n",
              "      <td>0.000127</td>\n",
              "      <td>3.601002e-10</td>\n",
              "      <td>1.0</td>\n",
              "      <td>3.690952e-07</td>\n",
              "      <td>0.000000e+00</td>\n",
              "    </tr>\n",
              "    <tr>\n",
              "      <th>...</th>\n",
              "      <td>...</td>\n",
              "      <td>...</td>\n",
              "      <td>...</td>\n",
              "      <td>...</td>\n",
              "      <td>...</td>\n",
              "      <td>...</td>\n",
              "      <td>...</td>\n",
              "      <td>...</td>\n",
              "      <td>...</td>\n",
              "    </tr>\n",
              "    <tr>\n",
              "      <th>27655</th>\n",
              "      <td>3.193425e-08</td>\n",
              "      <td>0.000000e+00</td>\n",
              "      <td>6.342453e-11</td>\n",
              "      <td>1.696606e-09</td>\n",
              "      <td>0.000057</td>\n",
              "      <td>1.070289e-11</td>\n",
              "      <td>1.0</td>\n",
              "      <td>3.661181e-08</td>\n",
              "      <td>3.171227e-11</td>\n",
              "    </tr>\n",
              "    <tr>\n",
              "      <th>27656</th>\n",
              "      <td>3.193425e-08</td>\n",
              "      <td>0.000000e+00</td>\n",
              "      <td>9.513680e-11</td>\n",
              "      <td>1.427052e-10</td>\n",
              "      <td>0.000006</td>\n",
              "      <td>1.070289e-11</td>\n",
              "      <td>1.0</td>\n",
              "      <td>3.661181e-08</td>\n",
              "      <td>7.928067e-11</td>\n",
              "    </tr>\n",
              "    <tr>\n",
              "      <th>27657</th>\n",
              "      <td>3.193425e-08</td>\n",
              "      <td>1.585613e-11</td>\n",
              "      <td>1.585613e-11</td>\n",
              "      <td>9.513680e-10</td>\n",
              "      <td>0.000044</td>\n",
              "      <td>1.070289e-11</td>\n",
              "      <td>1.0</td>\n",
              "      <td>3.661181e-08</td>\n",
              "      <td>4.756840e-11</td>\n",
              "    </tr>\n",
              "    <tr>\n",
              "      <th>27658</th>\n",
              "      <td>3.193425e-08</td>\n",
              "      <td>0.000000e+00</td>\n",
              "      <td>1.585613e-11</td>\n",
              "      <td>6.976699e-10</td>\n",
              "      <td>0.000042</td>\n",
              "      <td>1.070289e-11</td>\n",
              "      <td>1.0</td>\n",
              "      <td>3.661181e-08</td>\n",
              "      <td>4.756840e-11</td>\n",
              "    </tr>\n",
              "    <tr>\n",
              "      <th>27659</th>\n",
              "      <td>3.193425e-08</td>\n",
              "      <td>0.000000e+00</td>\n",
              "      <td>7.928067e-11</td>\n",
              "      <td>3.329788e-10</td>\n",
              "      <td>0.000023</td>\n",
              "      <td>1.070289e-11</td>\n",
              "      <td>1.0</td>\n",
              "      <td>3.661181e-08</td>\n",
              "      <td>0.000000e+00</td>\n",
              "    </tr>\n",
              "  </tbody>\n",
              "</table>\n",
              "<p>27660 rows × 9 columns</p>\n",
              "</div>"
            ],
            "text/plain": [
              "               year        gender           age   suicides_no  population  \\\n",
              "0      9.213470e-07  4.636875e-10  9.273750e-10  9.737437e-09    0.000145   \n",
              "1      9.213470e-07  4.636875e-10  1.854750e-09  7.419000e-09    0.000143   \n",
              "2      9.213470e-07  0.000000e+00  9.273750e-10  6.491625e-09    0.000134   \n",
              "3      9.213471e-07  4.636875e-10  2.782125e-09  4.636875e-10    0.000010   \n",
              "4      9.213470e-07  4.636875e-10  1.391062e-09  4.173187e-09    0.000127   \n",
              "...             ...           ...           ...           ...         ...   \n",
              "27655  3.193425e-08  0.000000e+00  6.342453e-11  1.696606e-09    0.000057   \n",
              "27656  3.193425e-08  0.000000e+00  9.513680e-11  1.427052e-10    0.000006   \n",
              "27657  3.193425e-08  1.585613e-11  1.585613e-11  9.513680e-10    0.000044   \n",
              "27658  3.193425e-08  0.000000e+00  1.585613e-11  6.976699e-10    0.000042   \n",
              "27659  3.193425e-08  0.000000e+00  7.928067e-11  3.329788e-10    0.000023   \n",
              "\n",
              "         hdiforyear  gdp_for_year  gdp_per_capita    generation  \n",
              "0      3.601002e-10           1.0    3.690952e-07  9.273750e-10  \n",
              "1      3.601002e-10           1.0    3.690952e-07  2.318437e-09  \n",
              "2      3.601002e-10           1.0    3.690952e-07  9.273750e-10  \n",
              "3      3.601002e-10           1.0    3.690952e-07  4.636875e-10  \n",
              "4      3.601002e-10           1.0    3.690952e-07  0.000000e+00  \n",
              "...             ...           ...             ...           ...  \n",
              "27655  1.070289e-11           1.0    3.661181e-08  3.171227e-11  \n",
              "27656  1.070289e-11           1.0    3.661181e-08  7.928067e-11  \n",
              "27657  1.070289e-11           1.0    3.661181e-08  4.756840e-11  \n",
              "27658  1.070289e-11           1.0    3.661181e-08  4.756840e-11  \n",
              "27659  1.070289e-11           1.0    3.661181e-08  0.000000e+00  \n",
              "\n",
              "[27660 rows x 9 columns]"
            ]
          },
          "execution_count": 46,
          "metadata": {},
          "output_type": "execute_result"
        }
      ],
      "source": [
        "from sklearn.preprocessing import Normalizer\n",
        "#importing Normalisation Library.\n",
        "\n",
        "scaler = Normalizer().fit(new_data)\n",
        "normalizeData = scaler.transform(new_data)\n",
        "normalizeData = pd.DataFrame(normalizeData, index = new_data.index, columns = new_data.columns)\n",
        "normalizeData"
      ]
    },
    {
      "cell_type": "markdown",
      "metadata": {
        "id": "UZKGPRSgTmYW"
      },
      "source": [
        "### ✤  Standardisation of Whole dataset: ✤\n"
      ]
    },
    {
      "cell_type": "code",
      "execution_count": null,
      "metadata": {
        "id": "6JKwFHr9TmYW"
      },
      "outputs": [],
      "source": [
        "# from sklearn.preprocessing import StandardScaler\n",
        "#importing Standardisation Library.\n",
        "\n",
        "# scaler = StandardScaler().fit(new_data)\n",
        "# standardizedData = scaler.transform(new_data)\n",
        "# standardizedData = pd.DataFrame(standardizedData, index = new_data.index, columns = new_data.columns)\n",
        "# standardizedData"
      ]
    },
    {
      "cell_type": "markdown",
      "metadata": {
        "id": "hILjJiFSTmYW"
      },
      "source": [
        "## ✤ Train and Test Split - Ratio 80 / 20\n",
        "+ Now let's split the data into a training set and a testing set. We'll train out model on the training set and then use the test set to evaluate the model. To do that, we need to import the following:"
      ]
    },
    {
      "cell_type": "code",
      "execution_count": null,
      "metadata": {
        "id": "5J-zgw0CTmYX"
      },
      "outputs": [],
      "source": [
        "# X and y arrays:\n",
        "X = normalizeData.drop(\"age\", axis = 1) # All columns except this column.\n",
        "y = normalizeData[\"age\"] # Only this column"
      ]
    },
    {
      "cell_type": "code",
      "execution_count": null,
      "metadata": {
        "id": "UO1txlaqTmYX"
      },
      "outputs": [],
      "source": [
        "from sklearn.model_selection import train_test_split\n",
        "\n",
        "X_train, X_test, y_train, y_test = train_test_split(X, y, test_size=0.2)"
      ]
    },
    {
      "cell_type": "markdown",
      "metadata": {
        "id": "QRrZrA9lTmYX"
      },
      "source": [
        "### ✤  1. Creating a Model of Linear Regression for Regression with preprocessed data:"
      ]
    },
    {
      "cell_type": "code",
      "execution_count": null,
      "metadata": {
        "id": "bKHFpQf2TmYY"
      },
      "outputs": [],
      "source": [
        "from sklearn.linear_model import LinearRegression\n",
        "from sklearn import metrics"
      ]
    },
    {
      "cell_type": "code",
      "execution_count": null,
      "metadata": {
        "id": "BNTZdNZxTmYY"
      },
      "outputs": [],
      "source": [
        "model_lin_reg = LinearRegression().fit(X_train,y_train)"
      ]
    },
    {
      "cell_type": "code",
      "execution_count": null,
      "metadata": {
        "id": "LBSta7c_TmYY",
        "outputId": "5b54e8bc-5b7c-4709-8895-8c8a421bca10"
      },
      "outputs": [
        {
          "name": "stdout",
          "output_type": "stream",
          "text": [
            "Score is =>  0.7824392488449721\n",
            "Intercept is =>  0.05705656809328339\n"
          ]
        }
      ],
      "source": [
        "print('Score is => ', model_lin_reg.score(X_test, y_test))\n",
        "print('Intercept is => ',model_lin_reg.intercept_)\n",
        "# print('\\n Coefficients are => ', model_lin_reg.coef_)"
      ]
    },
    {
      "cell_type": "markdown",
      "metadata": {
        "id": "OiJfSOmjTmYZ"
      },
      "source": [
        "### ✤Creating a function to make Model Evaluation:"
      ]
    },
    {
      "cell_type": "code",
      "execution_count": null,
      "metadata": {
        "id": "2_CUVqZxTmYZ"
      },
      "outputs": [],
      "source": [
        "# let's create a function for all metrics at the same time:\n",
        "\n",
        "def print_evaluate(true, predicted):  \n",
        "    r2_square = metrics.r2_score(true, predicted)\n",
        "    mse = metrics.mean_squared_error(true, predicted)\n",
        "    rmse = np.sqrt(metrics.mean_squared_error(true, predicted))\n",
        "    mae = metrics.mean_absolute_error(true, predicted)\n",
        "    maxx = metrics.max_error(true, predicted)\n",
        "    \n",
        "    print('R-squared', np.round(r2_square,3))\n",
        "    print('MSE:', mse)\n",
        "    print('RMSE:', rmse)\n",
        "    print('MAE:', mae)\n",
        "    print('MAX:', maxx)"
      ]
    },
    {
      "cell_type": "markdown",
      "metadata": {
        "id": "ccoxFXNITmYZ"
      },
      "source": [
        "**✤Let's predict by using above funciton, check all metrics, such as MAE,MSE,MAX,R2:**"
      ]
    },
    {
      "cell_type": "code",
      "execution_count": null,
      "metadata": {
        "id": "cKP9IjieTmYa",
        "outputId": "d1ce14de-e7df-4b1f-9194-da44344d569b"
      },
      "outputs": [
        {
          "name": "stdout",
          "output_type": "stream",
          "text": [
            "R-squared 0.782\n",
            "MSE: 5.205605078646269e-18\n",
            "RMSE: 2.2815795139872442e-09\n",
            "MAE: 5.95129495673126e-10\n",
            "MAX: 4.8908438544586166e-08\n"
          ]
        }
      ],
      "source": [
        "# checking for metrics:\n",
        "test_pred_1 = model_lin_reg.predict(X_test)\n",
        "print_evaluate(y_test, test_pred_1)"
      ]
    },
    {
      "cell_type": "code",
      "execution_count": null,
      "metadata": {
        "id": "bvvPoZ_QTmYa",
        "outputId": "64e6b003-7ad7-4cc8-a8cd-35232c67e446"
      },
      "outputs": [
        {
          "data": {
            "text/html": [
              "<div>\n",
              "<style scoped>\n",
              "    .dataframe tbody tr th:only-of-type {\n",
              "        vertical-align: middle;\n",
              "    }\n",
              "\n",
              "    .dataframe tbody tr th {\n",
              "        vertical-align: top;\n",
              "    }\n",
              "\n",
              "    .dataframe thead th {\n",
              "        text-align: right;\n",
              "    }\n",
              "</style>\n",
              "<table border=\"1\" class=\"dataframe\">\n",
              "  <thead>\n",
              "    <tr style=\"text-align: right;\">\n",
              "      <th></th>\n",
              "      <th>Actual data</th>\n",
              "      <th>Predicted data</th>\n",
              "    </tr>\n",
              "  </thead>\n",
              "  <tbody>\n",
              "    <tr>\n",
              "      <th>0</th>\n",
              "      <td>5.254467e-11</td>\n",
              "      <td>2.922875e-10</td>\n",
              "    </tr>\n",
              "    <tr>\n",
              "      <th>1</th>\n",
              "      <td>1.628196e-11</td>\n",
              "      <td>1.773005e-10</td>\n",
              "    </tr>\n",
              "    <tr>\n",
              "      <th>2</th>\n",
              "      <td>1.513655e-12</td>\n",
              "      <td>2.378734e-10</td>\n",
              "    </tr>\n",
              "    <tr>\n",
              "      <th>3</th>\n",
              "      <td>3.948666e-12</td>\n",
              "      <td>-1.245847e-11</td>\n",
              "    </tr>\n",
              "    <tr>\n",
              "      <th>4</th>\n",
              "      <td>7.564635e-09</td>\n",
              "      <td>1.020243e-08</td>\n",
              "    </tr>\n",
              "    <tr>\n",
              "      <th>...</th>\n",
              "      <td>...</td>\n",
              "      <td>...</td>\n",
              "    </tr>\n",
              "    <tr>\n",
              "      <th>5527</th>\n",
              "      <td>5.927675e-11</td>\n",
              "      <td>1.734217e-10</td>\n",
              "    </tr>\n",
              "    <tr>\n",
              "      <th>5528</th>\n",
              "      <td>2.236326e-12</td>\n",
              "      <td>2.366510e-10</td>\n",
              "    </tr>\n",
              "    <tr>\n",
              "      <th>5529</th>\n",
              "      <td>4.482647e-10</td>\n",
              "      <td>8.721022e-10</td>\n",
              "    </tr>\n",
              "    <tr>\n",
              "      <th>5530</th>\n",
              "      <td>2.063235e-11</td>\n",
              "      <td>2.438580e-10</td>\n",
              "    </tr>\n",
              "    <tr>\n",
              "      <th>5531</th>\n",
              "      <td>2.673347e-10</td>\n",
              "      <td>3.554357e-10</td>\n",
              "    </tr>\n",
              "  </tbody>\n",
              "</table>\n",
              "<p>5532 rows × 2 columns</p>\n",
              "</div>"
            ],
            "text/plain": [
              "       Actual data  Predicted data\n",
              "0     5.254467e-11    2.922875e-10\n",
              "1     1.628196e-11    1.773005e-10\n",
              "2     1.513655e-12    2.378734e-10\n",
              "3     3.948666e-12   -1.245847e-11\n",
              "4     7.564635e-09    1.020243e-08\n",
              "...            ...             ...\n",
              "5527  5.927675e-11    1.734217e-10\n",
              "5528  2.236326e-12    2.366510e-10\n",
              "5529  4.482647e-10    8.721022e-10\n",
              "5530  2.063235e-11    2.438580e-10\n",
              "5531  2.673347e-10    3.554357e-10\n",
              "\n",
              "[5532 rows x 2 columns]"
            ]
          },
          "execution_count": 78,
          "metadata": {},
          "output_type": "execute_result"
        }
      ],
      "source": [
        "df_lin_reg = pd.DataFrame({'Actual data': y_test.ravel(), 'Predicted data': test_pred_1.ravel()})\n",
        "df_lin_reg"
      ]
    },
    {
      "cell_type": "markdown",
      "metadata": {
        "id": "3rUelHqSTmYa"
      },
      "source": [
        "### ✤  2. Creating a Model using Decision Tree Regression with preprocessed data:"
      ]
    },
    {
      "cell_type": "code",
      "execution_count": null,
      "metadata": {
        "id": "u8AcSbVUTmYb"
      },
      "outputs": [],
      "source": [
        "from sklearn import tree"
      ]
    },
    {
      "cell_type": "code",
      "execution_count": null,
      "metadata": {
        "id": "G9tPOFh0TmYb",
        "outputId": "da8922a4-723b-4629-9a94-5515460f0d1d"
      },
      "outputs": [
        {
          "data": {
            "text/plain": [
              "DecisionTreeRegressor()"
            ]
          },
          "execution_count": 74,
          "metadata": {},
          "output_type": "execute_result"
        }
      ],
      "source": [
        "model_tree = tree.DecisionTreeRegressor()\n",
        "model_tree.fit(X_train,y_train)"
      ]
    },
    {
      "cell_type": "code",
      "execution_count": null,
      "metadata": {
        "id": "qgwwnVXQTmYb",
        "outputId": "b86dc1f2-ce3b-47ea-b615-83e4a477f8cc"
      },
      "outputs": [
        {
          "name": "stdout",
          "output_type": "stream",
          "text": [
            "Score is =>  0.9355466541917199\n"
          ]
        }
      ],
      "source": [
        "print('Score is => ', model_tree.score(X_test, y_test))"
      ]
    },
    {
      "cell_type": "markdown",
      "metadata": {
        "id": "-wVPriQ2TmYc"
      },
      "source": [
        "**✤Let's predict by using above funciton, check all metrics, such as MAE,MSE,MAX,R2:**"
      ]
    },
    {
      "cell_type": "code",
      "execution_count": null,
      "metadata": {
        "id": "RbJ84Q5eTmYd",
        "outputId": "371b83e8-f069-44a9-cd11-91bd0fa8d64e"
      },
      "outputs": [
        {
          "name": "stdout",
          "output_type": "stream",
          "text": [
            "R-squared 0.936\n",
            "MSE: 1.542183792315763e-18\n",
            "RMSE: 1.2418469278923884e-09\n",
            "MAE: 3.764340777758112e-10\n",
            "MAX: 4.316036924745921e-08\n"
          ]
        }
      ],
      "source": [
        "test_pred_2 = model_tree.predict(X_test)\n",
        "print_evaluate(y_test, test_pred_2)"
      ]
    },
    {
      "cell_type": "markdown",
      "metadata": {
        "id": "vo-k4H1sTmYe"
      },
      "source": [
        "### ✤  3. Creating a Model using K-Nearest Neigbours  with preprocessed data:"
      ]
    },
    {
      "cell_type": "code",
      "execution_count": null,
      "metadata": {
        "id": "kKdf0ieCTmYi",
        "outputId": "8c0aa958-ec8f-467d-b871-723f4169d1c8"
      },
      "outputs": [
        {
          "data": {
            "text/plain": [
              "KNeighborsRegressor()"
            ]
          },
          "execution_count": 80,
          "metadata": {},
          "output_type": "execute_result"
        }
      ],
      "source": [
        "from sklearn.neighbors import KNeighborsRegressor\n",
        "\n",
        "knn_model = KNeighborsRegressor()\n",
        "knn_model.fit(X_train,y_train)"
      ]
    },
    {
      "cell_type": "code",
      "execution_count": null,
      "metadata": {
        "id": "gfumOqFoTmYi",
        "outputId": "1a090f49-a1bc-44b8-d749-cbca7f200dea"
      },
      "outputs": [
        {
          "name": "stdout",
          "output_type": "stream",
          "text": [
            "0.9597916530029205\n"
          ]
        }
      ],
      "source": [
        "print(knn_model.score(X_test,y_test))\n"
      ]
    },
    {
      "cell_type": "markdown",
      "metadata": {
        "id": "tzRLLue-TmYj"
      },
      "source": [
        "**✤Let's predict by using above funciton, check all metrics, such as MAE,MSE,MAX,R2:**"
      ]
    },
    {
      "cell_type": "code",
      "execution_count": null,
      "metadata": {
        "id": "9Qt9Ok66TmYj",
        "outputId": "3ae839b1-b2c7-447f-a9c1-440f5b7cab5a"
      },
      "outputs": [
        {
          "name": "stdout",
          "output_type": "stream",
          "text": [
            "R-squared 0.96\n",
            "MSE: 9.620704755832591e-19\n",
            "RMSE: 9.808519131771418e-10\n",
            "MAE: 2.3534364425544133e-10\n",
            "MAX: 2.9778666332894527e-08\n"
          ]
        }
      ],
      "source": [
        "test_pred_3 = knn_model.predict(X_test)\n",
        "print_evaluate(y_test, test_pred_3)"
      ]
    },
    {
      "cell_type": "markdown",
      "metadata": {
        "id": "fhZP64AoTmYj"
      },
      "source": [
        "### ✤ Now, I will prepare data and make models with Missing values:"
      ]
    },
    {
      "cell_type": "code",
      "execution_count": null,
      "metadata": {
        "id": "IwXYOsvzTmYk"
      },
      "outputs": [],
      "source": [
        "new_data2 = pd.read_excel('NEW-suicide.xlsx')"
      ]
    },
    {
      "cell_type": "code",
      "execution_count": null,
      "metadata": {
        "id": "wiDn464oTmYk",
        "outputId": "06c539c0-4c99-4775-c275-02c6a82ce629"
      },
      "outputs": [
        {
          "data": {
            "text/html": [
              "<div>\n",
              "<style scoped>\n",
              "    .dataframe tbody tr th:only-of-type {\n",
              "        vertical-align: middle;\n",
              "    }\n",
              "\n",
              "    .dataframe tbody tr th {\n",
              "        vertical-align: top;\n",
              "    }\n",
              "\n",
              "    .dataframe thead th {\n",
              "        text-align: right;\n",
              "    }\n",
              "</style>\n",
              "<table border=\"1\" class=\"dataframe\">\n",
              "  <thead>\n",
              "    <tr style=\"text-align: right;\">\n",
              "      <th></th>\n",
              "      <th>year</th>\n",
              "      <th>gender</th>\n",
              "      <th>age</th>\n",
              "      <th>suicides_no</th>\n",
              "      <th>population</th>\n",
              "      <th>hdiforyear</th>\n",
              "      <th>gdp_for_year</th>\n",
              "      <th>gdp_per_capita</th>\n",
              "      <th>generation</th>\n",
              "    </tr>\n",
              "  </thead>\n",
              "  <tbody>\n",
              "    <tr>\n",
              "      <th>0</th>\n",
              "      <td>1987</td>\n",
              "      <td>1</td>\n",
              "      <td>2</td>\n",
              "      <td>21</td>\n",
              "      <td>312900</td>\n",
              "      <td>0.776601</td>\n",
              "      <td>2156624900</td>\n",
              "      <td>796</td>\n",
              "      <td>2</td>\n",
              "    </tr>\n",
              "    <tr>\n",
              "      <th>1</th>\n",
              "      <td>1987</td>\n",
              "      <td>1</td>\n",
              "      <td>4</td>\n",
              "      <td>16</td>\n",
              "      <td>308000</td>\n",
              "      <td>0.776601</td>\n",
              "      <td>2156624900</td>\n",
              "      <td>796</td>\n",
              "      <td>5</td>\n",
              "    </tr>\n",
              "    <tr>\n",
              "      <th>2</th>\n",
              "      <td>1987</td>\n",
              "      <td>0</td>\n",
              "      <td>2</td>\n",
              "      <td>14</td>\n",
              "      <td>289700</td>\n",
              "      <td>0.776601</td>\n",
              "      <td>2156624900</td>\n",
              "      <td>796</td>\n",
              "      <td>2</td>\n",
              "    </tr>\n",
              "    <tr>\n",
              "      <th>3</th>\n",
              "      <td>1987</td>\n",
              "      <td>1</td>\n",
              "      <td>6</td>\n",
              "      <td>1</td>\n",
              "      <td>21800</td>\n",
              "      <td>0.776601</td>\n",
              "      <td>2156624900</td>\n",
              "      <td>796</td>\n",
              "      <td>1</td>\n",
              "    </tr>\n",
              "    <tr>\n",
              "      <th>4</th>\n",
              "      <td>1987</td>\n",
              "      <td>1</td>\n",
              "      <td>3</td>\n",
              "      <td>9</td>\n",
              "      <td>274300</td>\n",
              "      <td>0.776601</td>\n",
              "      <td>2156624900</td>\n",
              "      <td>796</td>\n",
              "      <td>0</td>\n",
              "    </tr>\n",
              "  </tbody>\n",
              "</table>\n",
              "</div>"
            ],
            "text/plain": [
              "   year  gender  age  suicides_no  population  hdiforyear  gdp_for_year  \\\n",
              "0  1987       1    2           21      312900    0.776601    2156624900   \n",
              "1  1987       1    4           16      308000    0.776601    2156624900   \n",
              "2  1987       0    2           14      289700    0.776601    2156624900   \n",
              "3  1987       1    6            1       21800    0.776601    2156624900   \n",
              "4  1987       1    3            9      274300    0.776601    2156624900   \n",
              "\n",
              "   gdp_per_capita  generation  \n",
              "0             796           2  \n",
              "1             796           5  \n",
              "2             796           2  \n",
              "3             796           1  \n",
              "4             796           0  "
            ]
          },
          "execution_count": 96,
          "metadata": {},
          "output_type": "execute_result"
        }
      ],
      "source": [
        "new_data2.head()"
      ]
    },
    {
      "cell_type": "code",
      "execution_count": null,
      "metadata": {
        "id": "ZZUfYXdFTmYl"
      },
      "outputs": [],
      "source": [
        "new_data2.drop('gdp_for_year', axis=1, inplace=True)\n",
        "new_data2.drop('hdiforyear', axis=1, inplace=True)"
      ]
    },
    {
      "cell_type": "code",
      "execution_count": null,
      "metadata": {
        "id": "l1owxPDSTmYl",
        "outputId": "2270a5ab-9a83-49bc-f412-0a981c89f067"
      },
      "outputs": [
        {
          "data": {
            "text/html": [
              "<div>\n",
              "<style scoped>\n",
              "    .dataframe tbody tr th:only-of-type {\n",
              "        vertical-align: middle;\n",
              "    }\n",
              "\n",
              "    .dataframe tbody tr th {\n",
              "        vertical-align: top;\n",
              "    }\n",
              "\n",
              "    .dataframe thead th {\n",
              "        text-align: right;\n",
              "    }\n",
              "</style>\n",
              "<table border=\"1\" class=\"dataframe\">\n",
              "  <thead>\n",
              "    <tr style=\"text-align: right;\">\n",
              "      <th></th>\n",
              "      <th>year</th>\n",
              "      <th>gender</th>\n",
              "      <th>age</th>\n",
              "      <th>suicides_no</th>\n",
              "      <th>population</th>\n",
              "      <th>gdp_per_capita</th>\n",
              "      <th>generation</th>\n",
              "    </tr>\n",
              "  </thead>\n",
              "  <tbody>\n",
              "    <tr>\n",
              "      <th>0</th>\n",
              "      <td>1987</td>\n",
              "      <td>1</td>\n",
              "      <td>2</td>\n",
              "      <td>21</td>\n",
              "      <td>312900</td>\n",
              "      <td>796</td>\n",
              "      <td>2</td>\n",
              "    </tr>\n",
              "    <tr>\n",
              "      <th>1</th>\n",
              "      <td>1987</td>\n",
              "      <td>1</td>\n",
              "      <td>4</td>\n",
              "      <td>16</td>\n",
              "      <td>308000</td>\n",
              "      <td>796</td>\n",
              "      <td>5</td>\n",
              "    </tr>\n",
              "    <tr>\n",
              "      <th>2</th>\n",
              "      <td>1987</td>\n",
              "      <td>0</td>\n",
              "      <td>2</td>\n",
              "      <td>14</td>\n",
              "      <td>289700</td>\n",
              "      <td>796</td>\n",
              "      <td>2</td>\n",
              "    </tr>\n",
              "    <tr>\n",
              "      <th>3</th>\n",
              "      <td>1987</td>\n",
              "      <td>1</td>\n",
              "      <td>6</td>\n",
              "      <td>1</td>\n",
              "      <td>21800</td>\n",
              "      <td>796</td>\n",
              "      <td>1</td>\n",
              "    </tr>\n",
              "    <tr>\n",
              "      <th>4</th>\n",
              "      <td>1987</td>\n",
              "      <td>1</td>\n",
              "      <td>3</td>\n",
              "      <td>9</td>\n",
              "      <td>274300</td>\n",
              "      <td>796</td>\n",
              "      <td>0</td>\n",
              "    </tr>\n",
              "  </tbody>\n",
              "</table>\n",
              "</div>"
            ],
            "text/plain": [
              "   year  gender  age  suicides_no  population  gdp_per_capita  generation\n",
              "0  1987       1    2           21      312900             796           2\n",
              "1  1987       1    4           16      308000             796           5\n",
              "2  1987       0    2           14      289700             796           2\n",
              "3  1987       1    6            1       21800             796           1\n",
              "4  1987       1    3            9      274300             796           0"
            ]
          },
          "execution_count": 99,
          "metadata": {},
          "output_type": "execute_result"
        }
      ],
      "source": [
        "new_data2.head()"
      ]
    },
    {
      "cell_type": "markdown",
      "metadata": {
        "id": "TKh179gCTmYm"
      },
      "source": [
        " ### Normalisation of Whole dataset : ✤"
      ]
    },
    {
      "cell_type": "code",
      "execution_count": null,
      "metadata": {
        "id": "dVLVxABATmYm",
        "outputId": "eb1ae8ca-aae5-462b-e198-e3dc2f1ff190"
      },
      "outputs": [
        {
          "data": {
            "text/html": [
              "<div>\n",
              "<style scoped>\n",
              "    .dataframe tbody tr th:only-of-type {\n",
              "        vertical-align: middle;\n",
              "    }\n",
              "\n",
              "    .dataframe tbody tr th {\n",
              "        vertical-align: top;\n",
              "    }\n",
              "\n",
              "    .dataframe thead th {\n",
              "        text-align: right;\n",
              "    }\n",
              "</style>\n",
              "<table border=\"1\" class=\"dataframe\">\n",
              "  <thead>\n",
              "    <tr style=\"text-align: right;\">\n",
              "      <th></th>\n",
              "      <th>year</th>\n",
              "      <th>gender</th>\n",
              "      <th>age</th>\n",
              "      <th>suicides_no</th>\n",
              "      <th>population</th>\n",
              "      <th>gdp_per_capita</th>\n",
              "      <th>generation</th>\n",
              "    </tr>\n",
              "  </thead>\n",
              "  <tbody>\n",
              "    <tr>\n",
              "      <th>0</th>\n",
              "      <td>0.006350</td>\n",
              "      <td>0.000003</td>\n",
              "      <td>0.000006</td>\n",
              "      <td>0.000067</td>\n",
              "      <td>0.999977</td>\n",
              "      <td>0.002544</td>\n",
              "      <td>0.000006</td>\n",
              "    </tr>\n",
              "    <tr>\n",
              "      <th>1</th>\n",
              "      <td>0.006451</td>\n",
              "      <td>0.000003</td>\n",
              "      <td>0.000013</td>\n",
              "      <td>0.000052</td>\n",
              "      <td>0.999976</td>\n",
              "      <td>0.002584</td>\n",
              "      <td>0.000016</td>\n",
              "    </tr>\n",
              "    <tr>\n",
              "      <th>2</th>\n",
              "      <td>0.006859</td>\n",
              "      <td>0.000000</td>\n",
              "      <td>0.000007</td>\n",
              "      <td>0.000048</td>\n",
              "      <td>0.999973</td>\n",
              "      <td>0.002748</td>\n",
              "      <td>0.000007</td>\n",
              "    </tr>\n",
              "    <tr>\n",
              "      <th>3</th>\n",
              "      <td>0.090711</td>\n",
              "      <td>0.000046</td>\n",
              "      <td>0.000274</td>\n",
              "      <td>0.000046</td>\n",
              "      <td>0.995214</td>\n",
              "      <td>0.036339</td>\n",
              "      <td>0.000046</td>\n",
              "    </tr>\n",
              "    <tr>\n",
              "      <th>4</th>\n",
              "      <td>0.007244</td>\n",
              "      <td>0.000004</td>\n",
              "      <td>0.000011</td>\n",
              "      <td>0.000033</td>\n",
              "      <td>0.999970</td>\n",
              "      <td>0.002902</td>\n",
              "      <td>0.000000</td>\n",
              "    </tr>\n",
              "  </tbody>\n",
              "</table>\n",
              "</div>"
            ],
            "text/plain": [
              "       year    gender       age  suicides_no  population  gdp_per_capita  \\\n",
              "0  0.006350  0.000003  0.000006     0.000067    0.999977        0.002544   \n",
              "1  0.006451  0.000003  0.000013     0.000052    0.999976        0.002584   \n",
              "2  0.006859  0.000000  0.000007     0.000048    0.999973        0.002748   \n",
              "3  0.090711  0.000046  0.000274     0.000046    0.995214        0.036339   \n",
              "4  0.007244  0.000004  0.000011     0.000033    0.999970        0.002902   \n",
              "\n",
              "   generation  \n",
              "0    0.000006  \n",
              "1    0.000016  \n",
              "2    0.000007  \n",
              "3    0.000046  \n",
              "4    0.000000  "
            ]
          },
          "execution_count": 101,
          "metadata": {},
          "output_type": "execute_result"
        }
      ],
      "source": [
        "from sklearn.preprocessing import Normalizer\n",
        "#importing Normalisation Library.\n",
        "\n",
        "scaler = Normalizer().fit(new_data2)\n",
        "normalizeData2 = scaler.transform(new_data2)\n",
        "normalizeData2 = pd.DataFrame(normalizeData2, index = new_data2.index, columns = new_data2.columns)\n",
        "normalizeData2.head()"
      ]
    },
    {
      "cell_type": "markdown",
      "metadata": {
        "id": "lAccQYU8TmYn"
      },
      "source": [
        "### ✤ Train and Test Split - Ratio 80 / 20"
      ]
    },
    {
      "cell_type": "code",
      "execution_count": null,
      "metadata": {
        "id": "_Ja8hXwMTmYn"
      },
      "outputs": [],
      "source": [
        "# X and y arrays:\n",
        "X2 = normalizeData2.drop(\"age\", axis = 1) # All columns except this column.\n",
        "y2 = normalizeData2[\"age\"] # Only this column"
      ]
    },
    {
      "cell_type": "code",
      "execution_count": null,
      "metadata": {
        "id": "-twe6MCATmYn"
      },
      "outputs": [],
      "source": [
        "X2_train, X2_test, y2_train, y2_test = train_test_split(X2, y2, test_size=0.2)"
      ]
    },
    {
      "cell_type": "markdown",
      "metadata": {
        "id": "cHJpltjgTmYn"
      },
      "source": [
        "### ✤ Creating same 3 models and checking scores: "
      ]
    },
    {
      "cell_type": "code",
      "execution_count": null,
      "metadata": {
        "id": "QmeGGPBRTmYo",
        "outputId": "6931d671-a6ec-43df-bb9c-52fb36c6183a"
      },
      "outputs": [
        {
          "name": "stdout",
          "output_type": "stream",
          "text": [
            "Score is =>  0.9218486166279197\n"
          ]
        }
      ],
      "source": [
        "# LinearRegression Model:\n",
        "model_lin_reg2 = LinearRegression().fit(X2_train,y2_train)\n",
        "print('Score is => ', model_lin_reg2.score(X2_test, y2_test))"
      ]
    },
    {
      "cell_type": "code",
      "execution_count": null,
      "metadata": {
        "id": "5BRdiVvITmYo",
        "outputId": "18b5a454-60eb-4d06-9fd7-f704f4aedbfa"
      },
      "outputs": [
        {
          "name": "stdout",
          "output_type": "stream",
          "text": [
            "Score is =>  0.9553788106437401\n"
          ]
        }
      ],
      "source": [
        "# KNeighborsRegressor Model:\n",
        "knn_model2 = KNeighborsRegressor()\n",
        "knn_model2.fit(X2_train,y2_train)\n",
        "print('Score is => ',knn_model2.score(X2_test,y2_test))"
      ]
    },
    {
      "cell_type": "code",
      "execution_count": null,
      "metadata": {
        "id": "TgbN0EccTmYo",
        "outputId": "3176e180-7b9e-42eb-ee6c-a807666c352c"
      },
      "outputs": [
        {
          "name": "stdout",
          "output_type": "stream",
          "text": [
            "Score is =>  0.9842296601246373\n"
          ]
        }
      ],
      "source": [
        "# DecisionTreeRegressor Model:\n",
        "model_tree2 = tree.DecisionTreeRegressor()\n",
        "model_tree2.fit(X2_train,y2_train)\n",
        "print('Score is => ', model_tree2.score(X2_test, y2_test))"
      ]
    },
    {
      "cell_type": "markdown",
      "metadata": {
        "id": "dZfD6KAGTmYp"
      },
      "source": [
        "## ✤ Collecting all data Model Evaluation Score in  Dataframe:"
      ]
    },
    {
      "cell_type": "code",
      "execution_count": null,
      "metadata": {
        "id": "kFieyKy_TmYp",
        "outputId": "1945f22e-4dbe-47e7-bf0f-16b74f8e2367"
      },
      "outputs": [
        {
          "data": {
            "text/html": [
              "<div>\n",
              "<style scoped>\n",
              "    .dataframe tbody tr th:only-of-type {\n",
              "        vertical-align: middle;\n",
              "    }\n",
              "\n",
              "    .dataframe tbody tr th {\n",
              "        vertical-align: top;\n",
              "    }\n",
              "\n",
              "    .dataframe thead th {\n",
              "        text-align: right;\n",
              "    }\n",
              "</style>\n",
              "<table border=\"1\" class=\"dataframe\">\n",
              "  <thead>\n",
              "    <tr style=\"text-align: right;\">\n",
              "      <th></th>\n",
              "      <th>With_Missing_Score</th>\n",
              "      <th>Without_Missing_Score</th>\n",
              "    </tr>\n",
              "  </thead>\n",
              "  <tbody>\n",
              "    <tr>\n",
              "      <th>Linear Regression</th>\n",
              "      <td>78.2 %</td>\n",
              "      <td>92.1 %</td>\n",
              "    </tr>\n",
              "    <tr>\n",
              "      <th>Decision_Tree_Regression</th>\n",
              "      <td>95.8 %</td>\n",
              "      <td>98.4 %</td>\n",
              "    </tr>\n",
              "    <tr>\n",
              "      <th>K_Neigbors_Regression</th>\n",
              "      <td>93.5 %</td>\n",
              "      <td>95.5 %</td>\n",
              "    </tr>\n",
              "  </tbody>\n",
              "</table>\n",
              "</div>"
            ],
            "text/plain": [
              "                         With_Missing_Score Without_Missing_Score\n",
              "Linear Regression                    78.2 %                92.1 %\n",
              "Decision_Tree_Regression             95.8 %                98.4 %\n",
              "K_Neigbors_Regression                93.5 %                95.5 %"
            ]
          },
          "execution_count": 111,
          "metadata": {},
          "output_type": "execute_result"
        }
      ],
      "source": [
        "#data\n",
        "With_Score = ['78.2 %','95.8 %','93.5 %']\n",
        "Without_Score = ['92.1 %','98.4 %','95.5 %']\n",
        "#columns:\n",
        "columns = {'With_Missing_Score': With_Score, 'Without_Missing_Score': Without_Score}\n",
        "\n",
        "models=['Linear Regression','Decision_Tree_Regression' ,'K_Neigbors_Regression']\n",
        "result = pd.DataFrame(data = columns,index = models)\n",
        "result"
      ]
    },
    {
      "cell_type": "markdown",
      "metadata": {
        "id": "cLpSyGy-TmYq"
      },
      "source": [
        "## ✤ Conclusion"
      ]
    },
    {
      "cell_type": "markdown",
      "metadata": {
        "id": "KdFVX8aOTmYq"
      },
      "source": [
        "✤ In general, These dataset about Suicide Rates  is was so huge - **27 820 observations and 12 columns**, about among 100 countries during 30 years from 1985 to 2015. \n",
        "+ After preprocessing, there was **only 9 columns with 22128 observations**\n",
        "### ✤ Firstly, about preparing and preprocessing data:\n",
        "**✤ I find out how many columns and rows was in this dataset, then I manipulated with my data by these steps=>** \n",
        "+ checking for NAN/empty values,\n",
        "+ filling null values by methods like **Mean Imputation** using library Imputer,\n",
        "+ filling null values by functons like **fillna() and method is Forward and Backward filling**,\n",
        "+ also deleting some unnecessary columns **drop()**,\n",
        "+ retrieving unique names for categorical data like generation, age groups,gender.\n",
        "+ and **Encoding them**.\n",
        "\n",
        "### ✤ Secondly, about Preprocessing by Normalisation:\n",
        "+ **  I used ready imported library called preprocessing, from it I used Normaliser() and StandardScaler() functions.**\n",
        "+ **✤  By this way, I applied to the whole data, I used normalised data. also I tried to standartising data.**\n",
        "\n",
        "### ✤ Thirdly, about creating and comparing all Models:\n",
        "+ I splitted my data for train and test data, with **ratio-80/20**\n",
        "+ Training set has 22128 , while testing set has 5532 observations.\n",
        "\n",
        "+ ✤**For Preproccessed Data** =>\n",
        "\n",
        "+ For **Regression Models**, I created **Linear, Decision Tree, and KNN Regression Models**, by **importing them from library SKLEARN**.\n",
        "\n",
        "\n",
        "#### COMPARING METRICS btw Models:\n",
        "+ When I filled my missing values, and normalised data, created models, **Scores were 78 % initally**.\n",
        "+ I dropped missing columns, and made models, where I had  **Scores more than 90+% finally**"
      ]
    },
    {
      "cell_type": "markdown",
      "metadata": {
        "id": "t6zjepw2TmYq"
      },
      "source": [
        "### ✤ As a result, the score increased from 78 % to 92 %"
      ]
    },
    {
      "cell_type": "markdown",
      "metadata": {
        "id": "uXg9dDn0TmYq"
      },
      "source": [
        "✤ To conclude, it was a huge experience for me to analyse this Worldwide Suicide Rates from 1985-2015. Finally, I understand a lot of things,that will help me in the future!)"
      ]
    }
  ],
  "metadata": {
    "kernelspec": {
      "display_name": "Python 3",
      "language": "python",
      "name": "python3"
    },
    "language_info": {
      "codemirror_mode": {
        "name": "ipython",
        "version": 3
      },
      "file_extension": ".py",
      "mimetype": "text/x-python",
      "name": "python",
      "nbconvert_exporter": "python",
      "pygments_lexer": "ipython3",
      "version": "3.8.5"
    },
    "colab": {
      "provenance": []
    }
  },
  "nbformat": 4,
  "nbformat_minor": 0
}