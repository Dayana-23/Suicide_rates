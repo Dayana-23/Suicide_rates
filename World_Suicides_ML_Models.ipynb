{
  "cells": [
    {
      "cell_type": "markdown",
      "source": [
        "# ✤ Full Analysis World Suicide Rates with Data Preparation, Preprocessing using Normalisation/Standartisation and Comparison of Machine Learning Models ✤\n"
      ],
      "metadata": {
        "id": "cPgI_TTIQVQI"
      }
    },
    {
      "cell_type": "markdown",
      "metadata": {
        "id": "hxRuoeOwP0jB"
      },
      "source": [
        "\n",
        "### Task:\n",
        "+ Make a preprocessing with your own dataset and answer the followinng questions:\n",
        "+ \"what (intro), why ( methods ) , how ( by fxns or manually) \"   \n",
        "+ the comparison resullts of  the models  ( regression /classification / clustering) with preprocessing ( at least 2 different method)  and without preprocessing."
      ]
    },
    {
      "cell_type": "markdown",
      "metadata": {
        "id": "H17bI23FP0jG"
      },
      "source": [
        "# ✤ Analysis of Worldwide Suicide Rates\n",
        "### ✤ Introduction\n",
        "\n",
        "&emsp; According to this dataset of Global Suicide Rates , people of different ages have committed suicides because of pressure, barriers, or a lack of mental healthcare across all countries. In addition, in this analysis I am going to compare the prediction of the  suicides number depending on different age groups, genders, generations, countries, and ratio of suicides per 100k population over period of 1985 and 2015 years.\n",
        "\n",
        "&emsp;  Suicide takes place throughout the life and it has been one of the leading causes of death in many countries. Unfortunately, each suicide is a tragic loss of human's life that has own consequences on people left apart, like family and friends.\n",
        "\n",
        " &emsp;  The goal of the Global Suicide Rates analysis is to demonstrate statistics of 27 820 observations, which grouped by certain age ranges, gender(male/female), number of suicides, population of country, GDP (gross domestic product) per year and person, HDI (human development index) different generations during the period of 1985 & 2015 across the world. In addition, we will find which factors had more influence on the number of suicides in 101 countries.\n",
        "\n",
        "\n",
        "My analysis will be based on dataset during the 30 years, because I found this great dataset on Kaggle website=> \n",
        "+ https://www.kaggle.com/russellyates88/suicide-rates-overview-1985-to-2016"
      ]
    },
    {
      "cell_type": "code",
      "execution_count": null,
      "metadata": {
        "id": "BAexplWYP0jH"
      },
      "outputs": [],
      "source": [
        "#Importing 'must-have' Libraries like these:\n",
        "\n",
        "import numpy as np  # to access data in any formats.\n",
        "import pandas as pd  # to work with data frame formats.\n",
        "import seaborn as sns  # to load color themes in graphics\n",
        "import matplotlib.pyplot as plt  # to plot data\n",
        "import warnings  # do not show matching warnings\n",
        "warnings.filterwarnings('ignore')\n",
        "%matplotlib inline"
      ]
    },
    {
      "cell_type": "code",
      "execution_count": null,
      "metadata": {
        "id": "Wmrh9FQnP0jI"
      },
      "outputs": [],
      "source": [
        "#observing my dataset from 'suicide' csv file:\n",
        "data = pd.read_excel('suicide-excel.xls')"
      ]
    },
    {
      "cell_type": "code",
      "execution_count": null,
      "metadata": {
        "id": "PqzGh5PiP0jJ",
        "outputId": "48f9e863-a9d6-4b76-9301-17e436489b9c"
      },
      "outputs": [
        {
          "data": {
            "text/plain": [
              "Index(['country', 'year', 'sex', 'age', 'suicides_no', 'population',\n",
              "       'suicides/100k pop', 'country-year', 'HDI for year',\n",
              "       ' gdp_for_year ($) ', 'gdp_per_capita ($)', 'generation'],\n",
              "      dtype='object')"
            ]
          },
          "execution_count": 4,
          "metadata": {},
          "output_type": "execute_result"
        }
      ],
      "source": [
        "data.columns"
      ]
    },
    {
      "cell_type": "code",
      "execution_count": null,
      "metadata": {
        "id": "UGQHBotBP0jK"
      },
      "outputs": [],
      "source": [
        "data.columns = data.columns.str.strip().str.lower().str.replace(' ', '').str.replace('(', '').str.replace(')', '').str.replace('$', '')"
      ]
    },
    {
      "cell_type": "code",
      "execution_count": null,
      "metadata": {
        "id": "bvjElmdHP0jL"
      },
      "outputs": [],
      "source": [
        "#by using rename() function:\n",
        "data.rename(columns={'sex':'gender'},inplace=True)"
      ]
    },
    {
      "cell_type": "code",
      "execution_count": null,
      "metadata": {
        "id": "MwFQSftLP0jL",
        "outputId": "2de59582-3186-48e4-c174-b397f9a6c24f"
      },
      "outputs": [
        {
          "data": {
            "text/html": [
              "<div>\n",
              "<style scoped>\n",
              "    .dataframe tbody tr th:only-of-type {\n",
              "        vertical-align: middle;\n",
              "    }\n",
              "\n",
              "    .dataframe tbody tr th {\n",
              "        vertical-align: top;\n",
              "    }\n",
              "\n",
              "    .dataframe thead th {\n",
              "        text-align: right;\n",
              "    }\n",
              "</style>\n",
              "<table border=\"1\" class=\"dataframe\">\n",
              "  <thead>\n",
              "    <tr style=\"text-align: right;\">\n",
              "      <th></th>\n",
              "      <th>country</th>\n",
              "      <th>year</th>\n",
              "      <th>gender</th>\n",
              "      <th>age</th>\n",
              "      <th>suicides_no</th>\n",
              "      <th>population</th>\n",
              "      <th>suicides/100kpop</th>\n",
              "      <th>country-year</th>\n",
              "      <th>hdiforyear</th>\n",
              "      <th>gdp_for_year</th>\n",
              "      <th>gdp_per_capita</th>\n",
              "      <th>generation</th>\n",
              "    </tr>\n",
              "  </thead>\n",
              "  <tbody>\n",
              "    <tr>\n",
              "      <th>0</th>\n",
              "      <td>Albania</td>\n",
              "      <td>1987</td>\n",
              "      <td>male</td>\n",
              "      <td>15-24 years</td>\n",
              "      <td>21</td>\n",
              "      <td>312900</td>\n",
              "      <td>6.71</td>\n",
              "      <td>Albania1987</td>\n",
              "      <td>NaN</td>\n",
              "      <td>2,156,624,900</td>\n",
              "      <td>796</td>\n",
              "      <td>Generation X</td>\n",
              "    </tr>\n",
              "    <tr>\n",
              "      <th>1</th>\n",
              "      <td>Albania</td>\n",
              "      <td>1987</td>\n",
              "      <td>male</td>\n",
              "      <td>35-54 years</td>\n",
              "      <td>16</td>\n",
              "      <td>308000</td>\n",
              "      <td>5.19</td>\n",
              "      <td>Albania1987</td>\n",
              "      <td>NaN</td>\n",
              "      <td>2,156,624,900</td>\n",
              "      <td>796</td>\n",
              "      <td>Silent</td>\n",
              "    </tr>\n",
              "    <tr>\n",
              "      <th>2</th>\n",
              "      <td>Albania</td>\n",
              "      <td>1987</td>\n",
              "      <td>female</td>\n",
              "      <td>15-24 years</td>\n",
              "      <td>14</td>\n",
              "      <td>289700</td>\n",
              "      <td>4.83</td>\n",
              "      <td>Albania1987</td>\n",
              "      <td>NaN</td>\n",
              "      <td>2,156,624,900</td>\n",
              "      <td>796</td>\n",
              "      <td>Generation X</td>\n",
              "    </tr>\n",
              "    <tr>\n",
              "      <th>3</th>\n",
              "      <td>Albania</td>\n",
              "      <td>1987</td>\n",
              "      <td>male</td>\n",
              "      <td>75+ years</td>\n",
              "      <td>1</td>\n",
              "      <td>21800</td>\n",
              "      <td>4.59</td>\n",
              "      <td>Albania1987</td>\n",
              "      <td>NaN</td>\n",
              "      <td>2,156,624,900</td>\n",
              "      <td>796</td>\n",
              "      <td>G.I. Generation</td>\n",
              "    </tr>\n",
              "    <tr>\n",
              "      <th>4</th>\n",
              "      <td>Albania</td>\n",
              "      <td>1987</td>\n",
              "      <td>male</td>\n",
              "      <td>25-34 years</td>\n",
              "      <td>9</td>\n",
              "      <td>274300</td>\n",
              "      <td>3.28</td>\n",
              "      <td>Albania1987</td>\n",
              "      <td>NaN</td>\n",
              "      <td>2,156,624,900</td>\n",
              "      <td>796</td>\n",
              "      <td>Boomers</td>\n",
              "    </tr>\n",
              "    <tr>\n",
              "      <th>...</th>\n",
              "      <td>...</td>\n",
              "      <td>...</td>\n",
              "      <td>...</td>\n",
              "      <td>...</td>\n",
              "      <td>...</td>\n",
              "      <td>...</td>\n",
              "      <td>...</td>\n",
              "      <td>...</td>\n",
              "      <td>...</td>\n",
              "      <td>...</td>\n",
              "      <td>...</td>\n",
              "      <td>...</td>\n",
              "    </tr>\n",
              "    <tr>\n",
              "      <th>27815</th>\n",
              "      <td>Uzbekistan</td>\n",
              "      <td>2014</td>\n",
              "      <td>female</td>\n",
              "      <td>35-54 years</td>\n",
              "      <td>107</td>\n",
              "      <td>3620833</td>\n",
              "      <td>2.96</td>\n",
              "      <td>Uzbekistan2014</td>\n",
              "      <td>0.675</td>\n",
              "      <td>63,067,077,179</td>\n",
              "      <td>2309</td>\n",
              "      <td>Generation X</td>\n",
              "    </tr>\n",
              "    <tr>\n",
              "      <th>27816</th>\n",
              "      <td>Uzbekistan</td>\n",
              "      <td>2014</td>\n",
              "      <td>female</td>\n",
              "      <td>75+ years</td>\n",
              "      <td>9</td>\n",
              "      <td>348465</td>\n",
              "      <td>2.58</td>\n",
              "      <td>Uzbekistan2014</td>\n",
              "      <td>0.675</td>\n",
              "      <td>63,067,077,179</td>\n",
              "      <td>2309</td>\n",
              "      <td>Silent</td>\n",
              "    </tr>\n",
              "    <tr>\n",
              "      <th>27817</th>\n",
              "      <td>Uzbekistan</td>\n",
              "      <td>2014</td>\n",
              "      <td>male</td>\n",
              "      <td>5-14 years</td>\n",
              "      <td>60</td>\n",
              "      <td>2762158</td>\n",
              "      <td>2.17</td>\n",
              "      <td>Uzbekistan2014</td>\n",
              "      <td>0.675</td>\n",
              "      <td>63,067,077,179</td>\n",
              "      <td>2309</td>\n",
              "      <td>Generation Z</td>\n",
              "    </tr>\n",
              "    <tr>\n",
              "      <th>27818</th>\n",
              "      <td>Uzbekistan</td>\n",
              "      <td>2014</td>\n",
              "      <td>female</td>\n",
              "      <td>5-14 years</td>\n",
              "      <td>44</td>\n",
              "      <td>2631600</td>\n",
              "      <td>1.67</td>\n",
              "      <td>Uzbekistan2014</td>\n",
              "      <td>0.675</td>\n",
              "      <td>63,067,077,179</td>\n",
              "      <td>2309</td>\n",
              "      <td>Generation Z</td>\n",
              "    </tr>\n",
              "    <tr>\n",
              "      <th>27819</th>\n",
              "      <td>Uzbekistan</td>\n",
              "      <td>2014</td>\n",
              "      <td>female</td>\n",
              "      <td>55-74 years</td>\n",
              "      <td>21</td>\n",
              "      <td>1438935</td>\n",
              "      <td>1.46</td>\n",
              "      <td>Uzbekistan2014</td>\n",
              "      <td>0.675</td>\n",
              "      <td>63,067,077,179</td>\n",
              "      <td>2309</td>\n",
              "      <td>Boomers</td>\n",
              "    </tr>\n",
              "  </tbody>\n",
              "</table>\n",
              "<p>27820 rows × 12 columns</p>\n",
              "</div>"
            ],
            "text/plain": [
              "          country  year  gender          age  suicides_no  population  \\\n",
              "0         Albania  1987    male  15-24 years           21      312900   \n",
              "1         Albania  1987    male  35-54 years           16      308000   \n",
              "2         Albania  1987  female  15-24 years           14      289700   \n",
              "3         Albania  1987    male    75+ years            1       21800   \n",
              "4         Albania  1987    male  25-34 years            9      274300   \n",
              "...           ...   ...     ...          ...          ...         ...   \n",
              "27815  Uzbekistan  2014  female  35-54 years          107     3620833   \n",
              "27816  Uzbekistan  2014  female    75+ years            9      348465   \n",
              "27817  Uzbekistan  2014    male   5-14 years           60     2762158   \n",
              "27818  Uzbekistan  2014  female   5-14 years           44     2631600   \n",
              "27819  Uzbekistan  2014  female  55-74 years           21     1438935   \n",
              "\n",
              "       suicides/100kpop    country-year  hdiforyear    gdp_for_year  \\\n",
              "0                  6.71     Albania1987         NaN   2,156,624,900   \n",
              "1                  5.19     Albania1987         NaN   2,156,624,900   \n",
              "2                  4.83     Albania1987         NaN   2,156,624,900   \n",
              "3                  4.59     Albania1987         NaN   2,156,624,900   \n",
              "4                  3.28     Albania1987         NaN   2,156,624,900   \n",
              "...                 ...             ...         ...             ...   \n",
              "27815              2.96  Uzbekistan2014       0.675  63,067,077,179   \n",
              "27816              2.58  Uzbekistan2014       0.675  63,067,077,179   \n",
              "27817              2.17  Uzbekistan2014       0.675  63,067,077,179   \n",
              "27818              1.67  Uzbekistan2014       0.675  63,067,077,179   \n",
              "27819              1.46  Uzbekistan2014       0.675  63,067,077,179   \n",
              "\n",
              "       gdp_per_capita       generation  \n",
              "0                 796     Generation X  \n",
              "1                 796           Silent  \n",
              "2                 796     Generation X  \n",
              "3                 796  G.I. Generation  \n",
              "4                 796          Boomers  \n",
              "...               ...              ...  \n",
              "27815            2309     Generation X  \n",
              "27816            2309           Silent  \n",
              "27817            2309     Generation Z  \n",
              "27818            2309     Generation Z  \n",
              "27819            2309          Boomers  \n",
              "\n",
              "[27820 rows x 12 columns]"
            ]
          },
          "execution_count": 7,
          "metadata": {},
          "output_type": "execute_result"
        }
      ],
      "source": [
        "data"
      ]
    },
    {
      "cell_type": "markdown",
      "metadata": {
        "id": "T27U5I1iP0jL"
      },
      "source": [
        "**✤  From results of dataset, I can count total number of rows & columns, with shape function :**"
      ]
    },
    {
      "cell_type": "code",
      "execution_count": null,
      "metadata": {
        "id": "aBTTpKuZP0jM",
        "outputId": "7003b6f0-6209-43ad-899e-057c4e897d14"
      },
      "outputs": [
        {
          "name": "stdout",
          "output_type": "stream",
          "text": [
            "(27820, 12)\n"
          ]
        }
      ],
      "source": [
        "print(data.shape)"
      ]
    },
    {
      "cell_type": "markdown",
      "metadata": {
        "id": "P2ECmKiQP0jM"
      },
      "source": [
        "#  ✤  Data preparation: cleaning and shaping"
      ]
    },
    {
      "cell_type": "markdown",
      "metadata": {
        "id": "XI3Un1znP0jM"
      },
      "source": [
        "✤ In this dataset,as you noticed from last 5 rows in table,there is no rows with data in 2016 year, because it is incomplete for some countries. So,I want to delete data related to this year (2016):"
      ]
    },
    {
      "cell_type": "code",
      "execution_count": null,
      "metadata": {
        "id": "Vw-XKuDoP0jN"
      },
      "outputs": [],
      "source": [
        "data = data[data['year'] != 2016]\n",
        "# removing specific values in a dataframe"
      ]
    },
    {
      "cell_type": "code",
      "execution_count": null,
      "metadata": {
        "id": "SzyFUai_P0jN",
        "outputId": "c4e89ffb-f6f6-4094-d5f4-6f41ff938d25"
      },
      "outputs": [
        {
          "data": {
            "text/plain": [
              "(27660, 12)"
            ]
          },
          "execution_count": 10,
          "metadata": {},
          "output_type": "execute_result"
        }
      ],
      "source": [
        "data.shape"
      ]
    },
    {
      "cell_type": "code",
      "execution_count": null,
      "metadata": {
        "id": "iWfZCh5WP0jN"
      },
      "outputs": [],
      "source": [
        "# deleting unneeded columns:\n",
        "#data.drop(['country-year'], inplace=True)\n",
        "data.drop('country-year', axis=1, inplace=True)"
      ]
    },
    {
      "cell_type": "markdown",
      "metadata": {
        "id": "Bym_vJgqP0jO"
      },
      "source": [
        "**✤ As you can see from initial 5 rows of table, there are null values(NaN) in HDI column, and we should guess all other missing values from table:**"
      ]
    },
    {
      "cell_type": "code",
      "execution_count": null,
      "metadata": {
        "id": "Lze3dZpHP0jO",
        "outputId": "3010269d-f92f-4385-a6d7-2ac225dbf89e"
      },
      "outputs": [
        {
          "data": {
            "text/plain": [
              "country                 0\n",
              "year                    0\n",
              "gender                  0\n",
              "age                     0\n",
              "suicides_no             0\n",
              "population              0\n",
              "suicides/100kpop        0\n",
              "hdiforyear          19296\n",
              "gdp_for_year            0\n",
              "gdp_per_capita          0\n",
              "generation              0\n",
              "dtype: int64"
            ]
          },
          "execution_count": 12,
          "metadata": {},
          "output_type": "execute_result"
        }
      ],
      "source": [
        "# by using isnull() function and we count empty values in columns:\n",
        "data.isnull().sum()"
      ]
    },
    {
      "cell_type": "markdown",
      "metadata": {
        "id": "DY3VzPGuP0jO"
      },
      "source": [
        "**✤ Only 'HDI_for_year' column has missing rows- 19456 out of 27820 rows, it is about 70% of observations missed, it means without any data.\n",
        "Let's take a look on the values of this column:**"
      ]
    },
    {
      "cell_type": "code",
      "execution_count": null,
      "metadata": {
        "id": "3D3d3v9TP0jP"
      },
      "outputs": [],
      "source": [
        "# using of drop() function\n",
        "data.drop('hdiforyear', axis=1, inplace=True)"
      ]
    },
    {
      "cell_type": "code",
      "execution_count": null,
      "metadata": {
        "id": "OJVZaX-yP0jP",
        "outputId": "0027455d-b7c9-4f87-d59a-e428994d06e7"
      },
      "outputs": [
        {
          "data": {
            "text/plain": [
              "country             False\n",
              "year                False\n",
              "gender              False\n",
              "age                 False\n",
              "suicides_no         False\n",
              "population          False\n",
              "suicides/100kpop    False\n",
              "gdp_for_year        False\n",
              "gdp_per_capita      False\n",
              "generation          False\n",
              "dtype: bool"
            ]
          },
          "execution_count": 14,
          "metadata": {},
          "output_type": "execute_result"
        }
      ],
      "source": [
        "# again by using isnull() function and we count empty values in columns:\n",
        "data.isnull().any()\n",
        "# So, bollean \"false\" means that there is no null data:"
      ]
    },
    {
      "cell_type": "markdown",
      "metadata": {
        "id": "vOOCdqVBP0jP"
      },
      "source": [
        "**✤  Additionally, we should know datatypes of our variables, it will help us in analysis:**\n",
        " + object-> categorical data\n",
        " + int64 -> numerical data \n",
        " + float64-> numerical data "
      ]
    },
    {
      "cell_type": "code",
      "execution_count": null,
      "metadata": {
        "id": "LE6ojVixP0jQ",
        "outputId": "1ad96092-fd0c-4436-94c6-9a51248631ae"
      },
      "outputs": [
        {
          "data": {
            "text/plain": [
              "country              object\n",
              "year                  int64\n",
              "gender               object\n",
              "age                  object\n",
              "suicides_no           int64\n",
              "population            int64\n",
              "suicides/100kpop    float64\n",
              "gdp_for_year         object\n",
              "gdp_per_capita        int64\n",
              "generation           object\n",
              "dtype: object"
            ]
          },
          "execution_count": 15,
          "metadata": {},
          "output_type": "execute_result"
        }
      ],
      "source": [
        "data.dtypes"
      ]
    },
    {
      "cell_type": "code",
      "execution_count": null,
      "metadata": {
        "id": "HK8ZwcvzP0jQ",
        "outputId": "7a7f3de8-9624-4e4e-813d-7155108923c9"
      },
      "outputs": [
        {
          "name": "stdout",
          "output_type": "stream",
          "text": [
            "\n",
            " year's - Unique values : \n",
            " [1987 1988 1989 1992 1993 1994 1995 1996 1997 1998 1999 2000 2001 2002\n",
            " 2003 2004 2005 2006 2007 2008 2009 2010 1985 1986 1990 1991 2012 2013\n",
            " 2014 2015 2011]\n",
            "\n",
            " age's - Unique values : \n",
            " ['15-24 years' '35-54 years' '75+ years' '25-34 years' '55-74 years'\n",
            " '5-14 years']\n",
            "\n",
            " generation's - Unique values : \n",
            " ['Generation X' 'Silent' 'G.I. Generation' 'Boomers' 'Millenials'\n",
            " 'Generation Z']\n"
          ]
        }
      ],
      "source": [
        "columns = ['year', 'age', 'generation']\n",
        "for col in columns:\n",
        "    print(\"\\n {}'s - Unique values : \\n {}\".format(col, data[col].unique()))"
      ]
    },
    {
      "cell_type": "code",
      "execution_count": null,
      "metadata": {
        "id": "j_2FlghzP0jR",
        "outputId": "f7ce1b28-ff30-4ed7-e6f2-469ff0098487"
      },
      "outputs": [
        {
          "name": "stdout",
          "output_type": "stream",
          "text": [
            "Amount of different types of countries: \n",
            "100\n",
            "['Albania' 'Antigua and Barbuda' 'Argentina' 'Armenia' 'Aruba' 'Australia'\n",
            " 'Austria' 'Azerbaijan' 'Bahamas' 'Bahrain' 'Barbados' 'Belarus' 'Belgium'\n",
            " 'Belize' 'Bosnia and Herzegovina' 'Brazil' 'Bulgaria' 'Cabo Verde'\n",
            " 'Canada' 'Chile' 'Colombia' 'Costa Rica' 'Croatia' 'Cuba' 'Cyprus'\n",
            " 'Czech Republic' 'Denmark' 'Dominica' 'Ecuador' 'El Salvador' 'Estonia'\n",
            " 'Fiji' 'Finland' 'France' 'Georgia' 'Germany' 'Greece' 'Grenada'\n",
            " 'Guatemala' 'Guyana' 'Hungary' 'Iceland' 'Ireland' 'Israel' 'Italy'\n",
            " 'Jamaica' 'Japan' 'Kazakhstan' 'Kiribati' 'Kuwait' 'Kyrgyzstan' 'Latvia'\n",
            " 'Lithuania' 'Luxembourg' 'Macau' 'Maldives' 'Malta' 'Mauritius' 'Mexico'\n",
            " 'Montenegro' 'Netherlands' 'New Zealand' 'Nicaragua' 'Norway' 'Oman'\n",
            " 'Panama' 'Paraguay' 'Philippines' 'Poland' 'Portugal' 'Puerto Rico'\n",
            " 'Qatar' 'Republic of Korea' 'Romania' 'Russian Federation'\n",
            " 'Saint Kitts and Nevis' 'Saint Lucia' 'Saint Vincent and Grenadines'\n",
            " 'San Marino' 'Serbia' 'Seychelles' 'Singapore' 'Slovakia' 'Slovenia'\n",
            " 'South Africa' 'Spain' 'Sri Lanka' 'Suriname' 'Sweden' 'Switzerland'\n",
            " 'Thailand' 'Trinidad and Tobago' 'Turkey' 'Turkmenistan' 'Ukraine'\n",
            " 'United Arab Emirates' 'United Kingdom' 'United States' 'Uruguay'\n",
            " 'Uzbekistan']\n"
          ]
        }
      ],
      "source": [
        "print('Amount of different types of countries: ')\n",
        "print(len(data['country'].unique())) \n",
        "#count them\n",
        "\n",
        "distinct_countries = data['country'].unique()\n",
        "print(distinct_countries) \n",
        "#show all of them"
      ]
    },
    {
      "cell_type": "markdown",
      "metadata": {
        "id": "0pjw4-zMP0jR"
      },
      "source": [
        "## ✤  Preparing a variables for 'Age- ranges':"
      ]
    },
    {
      "cell_type": "code",
      "execution_count": null,
      "metadata": {
        "id": "FMsPg0R5P0jS"
      },
      "outputs": [],
      "source": [
        "data['age'] = data['age'].str.replace('years','')"
      ]
    },
    {
      "cell_type": "code",
      "execution_count": null,
      "metadata": {
        "id": "6sP2fxiGP0jS",
        "outputId": "6822e757-4162-4029-e79d-1e1fd01f823b"
      },
      "outputs": [
        {
          "data": {
            "text/plain": [
              "array(['15-24 ', '35-54 ', '75+ ', '25-34 ', '55-74 ', '5-14 '],\n",
              "      dtype=object)"
            ]
          },
          "execution_count": 19,
          "metadata": {},
          "output_type": "execute_result"
        }
      ],
      "source": [
        "data['age'].unique()"
      ]
    },
    {
      "cell_type": "code",
      "execution_count": null,
      "metadata": {
        "id": "ba10JYOwP0jS"
      },
      "outputs": [],
      "source": [
        "# 1 => 5-14\n",
        "# 2 => 15-24 \n",
        "# 3 => 25-34\n",
        "# 4 => 35-54 \n",
        "# 5 => 55-74\n",
        "# 6 => 75+"
      ]
    },
    {
      "cell_type": "code",
      "execution_count": null,
      "metadata": {
        "id": "jV1Bs1HXP0jT"
      },
      "outputs": [],
      "source": [
        "data['age'] = data['age'].replace('5-14 ',1).replace('15-24 ',2).replace('25-34 ',3).replace('35-54 ',4).replace('55-74 ',5).replace('75+ ',6)"
      ]
    },
    {
      "cell_type": "code",
      "execution_count": null,
      "metadata": {
        "id": "Erngl6woP0jT",
        "outputId": "ffb089fa-0e41-4b0f-ba62-41a07aa8f178"
      },
      "outputs": [
        {
          "data": {
            "text/html": [
              "<div>\n",
              "<style scoped>\n",
              "    .dataframe tbody tr th:only-of-type {\n",
              "        vertical-align: middle;\n",
              "    }\n",
              "\n",
              "    .dataframe tbody tr th {\n",
              "        vertical-align: top;\n",
              "    }\n",
              "\n",
              "    .dataframe thead th {\n",
              "        text-align: right;\n",
              "    }\n",
              "</style>\n",
              "<table border=\"1\" class=\"dataframe\">\n",
              "  <thead>\n",
              "    <tr style=\"text-align: right;\">\n",
              "      <th></th>\n",
              "      <th>country</th>\n",
              "      <th>year</th>\n",
              "      <th>gender</th>\n",
              "      <th>age</th>\n",
              "      <th>suicides_no</th>\n",
              "      <th>population</th>\n",
              "      <th>suicides/100kpop</th>\n",
              "      <th>gdp_for_year</th>\n",
              "      <th>gdp_per_capita</th>\n",
              "      <th>generation</th>\n",
              "    </tr>\n",
              "  </thead>\n",
              "  <tbody>\n",
              "    <tr>\n",
              "      <th>0</th>\n",
              "      <td>Albania</td>\n",
              "      <td>1987</td>\n",
              "      <td>male</td>\n",
              "      <td>2</td>\n",
              "      <td>21</td>\n",
              "      <td>312900</td>\n",
              "      <td>6.71</td>\n",
              "      <td>2,156,624,900</td>\n",
              "      <td>796</td>\n",
              "      <td>Generation X</td>\n",
              "    </tr>\n",
              "    <tr>\n",
              "      <th>1</th>\n",
              "      <td>Albania</td>\n",
              "      <td>1987</td>\n",
              "      <td>male</td>\n",
              "      <td>4</td>\n",
              "      <td>16</td>\n",
              "      <td>308000</td>\n",
              "      <td>5.19</td>\n",
              "      <td>2,156,624,900</td>\n",
              "      <td>796</td>\n",
              "      <td>Silent</td>\n",
              "    </tr>\n",
              "    <tr>\n",
              "      <th>2</th>\n",
              "      <td>Albania</td>\n",
              "      <td>1987</td>\n",
              "      <td>female</td>\n",
              "      <td>2</td>\n",
              "      <td>14</td>\n",
              "      <td>289700</td>\n",
              "      <td>4.83</td>\n",
              "      <td>2,156,624,900</td>\n",
              "      <td>796</td>\n",
              "      <td>Generation X</td>\n",
              "    </tr>\n",
              "    <tr>\n",
              "      <th>3</th>\n",
              "      <td>Albania</td>\n",
              "      <td>1987</td>\n",
              "      <td>male</td>\n",
              "      <td>6</td>\n",
              "      <td>1</td>\n",
              "      <td>21800</td>\n",
              "      <td>4.59</td>\n",
              "      <td>2,156,624,900</td>\n",
              "      <td>796</td>\n",
              "      <td>G.I. Generation</td>\n",
              "    </tr>\n",
              "    <tr>\n",
              "      <th>4</th>\n",
              "      <td>Albania</td>\n",
              "      <td>1987</td>\n",
              "      <td>male</td>\n",
              "      <td>3</td>\n",
              "      <td>9</td>\n",
              "      <td>274300</td>\n",
              "      <td>3.28</td>\n",
              "      <td>2,156,624,900</td>\n",
              "      <td>796</td>\n",
              "      <td>Boomers</td>\n",
              "    </tr>\n",
              "  </tbody>\n",
              "</table>\n",
              "</div>"
            ],
            "text/plain": [
              "   country  year  gender  age  suicides_no  population  suicides/100kpop  \\\n",
              "0  Albania  1987    male    2           21      312900              6.71   \n",
              "1  Albania  1987    male    4           16      308000              5.19   \n",
              "2  Albania  1987  female    2           14      289700              4.83   \n",
              "3  Albania  1987    male    6            1       21800              4.59   \n",
              "4  Albania  1987    male    3            9      274300              3.28   \n",
              "\n",
              "    gdp_for_year  gdp_per_capita       generation  \n",
              "0  2,156,624,900             796     Generation X  \n",
              "1  2,156,624,900             796           Silent  \n",
              "2  2,156,624,900             796     Generation X  \n",
              "3  2,156,624,900             796  G.I. Generation  \n",
              "4  2,156,624,900             796          Boomers  "
            ]
          },
          "execution_count": 22,
          "metadata": {},
          "output_type": "execute_result"
        }
      ],
      "source": [
        "data.head()"
      ]
    },
    {
      "cell_type": "markdown",
      "metadata": {
        "id": "JqK-zsenP0jT"
      },
      "source": [
        "## ✤  Preparing variables for 'Gender':\n",
        "+ **In such way that [ Male is 1 and Female is 0]**"
      ]
    },
    {
      "cell_type": "code",
      "execution_count": null,
      "metadata": {
        "id": "B-7Q4U47P0jU"
      },
      "outputs": [],
      "source": [
        "data['gender'] = data['gender'].replace('male',1).replace('female',0)"
      ]
    },
    {
      "cell_type": "code",
      "execution_count": null,
      "metadata": {
        "id": "yqEHIkLEP0jU",
        "outputId": "78660c37-79ab-4d47-d24e-a1294b70b9c6"
      },
      "outputs": [
        {
          "data": {
            "text/html": [
              "<div>\n",
              "<style scoped>\n",
              "    .dataframe tbody tr th:only-of-type {\n",
              "        vertical-align: middle;\n",
              "    }\n",
              "\n",
              "    .dataframe tbody tr th {\n",
              "        vertical-align: top;\n",
              "    }\n",
              "\n",
              "    .dataframe thead th {\n",
              "        text-align: right;\n",
              "    }\n",
              "</style>\n",
              "<table border=\"1\" class=\"dataframe\">\n",
              "  <thead>\n",
              "    <tr style=\"text-align: right;\">\n",
              "      <th></th>\n",
              "      <th>country</th>\n",
              "      <th>year</th>\n",
              "      <th>gender</th>\n",
              "      <th>age</th>\n",
              "      <th>suicides_no</th>\n",
              "      <th>population</th>\n",
              "      <th>suicides/100kpop</th>\n",
              "      <th>gdp_for_year</th>\n",
              "      <th>gdp_per_capita</th>\n",
              "      <th>generation</th>\n",
              "    </tr>\n",
              "  </thead>\n",
              "  <tbody>\n",
              "    <tr>\n",
              "      <th>0</th>\n",
              "      <td>Albania</td>\n",
              "      <td>1987</td>\n",
              "      <td>1</td>\n",
              "      <td>2</td>\n",
              "      <td>21</td>\n",
              "      <td>312900</td>\n",
              "      <td>6.71</td>\n",
              "      <td>2,156,624,900</td>\n",
              "      <td>796</td>\n",
              "      <td>Generation X</td>\n",
              "    </tr>\n",
              "    <tr>\n",
              "      <th>1</th>\n",
              "      <td>Albania</td>\n",
              "      <td>1987</td>\n",
              "      <td>1</td>\n",
              "      <td>4</td>\n",
              "      <td>16</td>\n",
              "      <td>308000</td>\n",
              "      <td>5.19</td>\n",
              "      <td>2,156,624,900</td>\n",
              "      <td>796</td>\n",
              "      <td>Silent</td>\n",
              "    </tr>\n",
              "    <tr>\n",
              "      <th>2</th>\n",
              "      <td>Albania</td>\n",
              "      <td>1987</td>\n",
              "      <td>0</td>\n",
              "      <td>2</td>\n",
              "      <td>14</td>\n",
              "      <td>289700</td>\n",
              "      <td>4.83</td>\n",
              "      <td>2,156,624,900</td>\n",
              "      <td>796</td>\n",
              "      <td>Generation X</td>\n",
              "    </tr>\n",
              "    <tr>\n",
              "      <th>3</th>\n",
              "      <td>Albania</td>\n",
              "      <td>1987</td>\n",
              "      <td>1</td>\n",
              "      <td>6</td>\n",
              "      <td>1</td>\n",
              "      <td>21800</td>\n",
              "      <td>4.59</td>\n",
              "      <td>2,156,624,900</td>\n",
              "      <td>796</td>\n",
              "      <td>G.I. Generation</td>\n",
              "    </tr>\n",
              "    <tr>\n",
              "      <th>4</th>\n",
              "      <td>Albania</td>\n",
              "      <td>1987</td>\n",
              "      <td>1</td>\n",
              "      <td>3</td>\n",
              "      <td>9</td>\n",
              "      <td>274300</td>\n",
              "      <td>3.28</td>\n",
              "      <td>2,156,624,900</td>\n",
              "      <td>796</td>\n",
              "      <td>Boomers</td>\n",
              "    </tr>\n",
              "  </tbody>\n",
              "</table>\n",
              "</div>"
            ],
            "text/plain": [
              "   country  year  gender  age  suicides_no  population  suicides/100kpop  \\\n",
              "0  Albania  1987       1    2           21      312900              6.71   \n",
              "1  Albania  1987       1    4           16      308000              5.19   \n",
              "2  Albania  1987       0    2           14      289700              4.83   \n",
              "3  Albania  1987       1    6            1       21800              4.59   \n",
              "4  Albania  1987       1    3            9      274300              3.28   \n",
              "\n",
              "    gdp_for_year  gdp_per_capita       generation  \n",
              "0  2,156,624,900             796     Generation X  \n",
              "1  2,156,624,900             796           Silent  \n",
              "2  2,156,624,900             796     Generation X  \n",
              "3  2,156,624,900             796  G.I. Generation  \n",
              "4  2,156,624,900             796          Boomers  "
            ]
          },
          "execution_count": 24,
          "metadata": {},
          "output_type": "execute_result"
        }
      ],
      "source": [
        "data.head()"
      ]
    },
    {
      "cell_type": "markdown",
      "metadata": {
        "id": "At7ppTzRP0jV"
      },
      "source": [
        "## ✤  Preparing a  variables for 'Generations' like 1-6:\n",
        " \n",
        " ✤ To start, I want to introduce all generations, by their birth years,:\n",
        " +  1 =>  'G.I. Generation' ==> Born 1901-1927 \n",
        " +  2 =>  'Silent' ==> Born 1928-1945 \n",
        " +  3 =>  'Boomers'- ==> Born 1946-1964 \n",
        " +  4 =>  'Generation X' ==> Born 1965-1980 \n",
        " +  5 =>  'Millenials' ==> Born 1981-1996 \n",
        " +  6 =>  'Generation Z' ==> Born 1997-2012 "
      ]
    },
    {
      "cell_type": "code",
      "execution_count": null,
      "metadata": {
        "id": "37oJ0nq_P0jV"
      },
      "outputs": [],
      "source": [
        "data['generation'] = data['generation'].replace('G.I. Generation',1).replace('Silent',2).replace('Boomers',3).replace('Generation X',4).replace('Millenials',5).replace('Generation Z',6)"
      ]
    },
    {
      "cell_type": "code",
      "execution_count": null,
      "metadata": {
        "id": "QUgHq2GkP0jW",
        "outputId": "ef4ad087-cc0a-4381-b8a0-b5e25e8b6f34"
      },
      "outputs": [
        {
          "data": {
            "text/html": [
              "<div>\n",
              "<style scoped>\n",
              "    .dataframe tbody tr th:only-of-type {\n",
              "        vertical-align: middle;\n",
              "    }\n",
              "\n",
              "    .dataframe tbody tr th {\n",
              "        vertical-align: top;\n",
              "    }\n",
              "\n",
              "    .dataframe thead th {\n",
              "        text-align: right;\n",
              "    }\n",
              "</style>\n",
              "<table border=\"1\" class=\"dataframe\">\n",
              "  <thead>\n",
              "    <tr style=\"text-align: right;\">\n",
              "      <th></th>\n",
              "      <th>country</th>\n",
              "      <th>year</th>\n",
              "      <th>gender</th>\n",
              "      <th>age</th>\n",
              "      <th>suicides_no</th>\n",
              "      <th>population</th>\n",
              "      <th>suicides/100kpop</th>\n",
              "      <th>gdp_for_year</th>\n",
              "      <th>gdp_per_capita</th>\n",
              "      <th>generation</th>\n",
              "    </tr>\n",
              "  </thead>\n",
              "  <tbody>\n",
              "    <tr>\n",
              "      <th>27815</th>\n",
              "      <td>Uzbekistan</td>\n",
              "      <td>2014</td>\n",
              "      <td>0</td>\n",
              "      <td>4</td>\n",
              "      <td>107</td>\n",
              "      <td>3620833</td>\n",
              "      <td>2.96</td>\n",
              "      <td>63,067,077,179</td>\n",
              "      <td>2309</td>\n",
              "      <td>4</td>\n",
              "    </tr>\n",
              "    <tr>\n",
              "      <th>27816</th>\n",
              "      <td>Uzbekistan</td>\n",
              "      <td>2014</td>\n",
              "      <td>0</td>\n",
              "      <td>6</td>\n",
              "      <td>9</td>\n",
              "      <td>348465</td>\n",
              "      <td>2.58</td>\n",
              "      <td>63,067,077,179</td>\n",
              "      <td>2309</td>\n",
              "      <td>2</td>\n",
              "    </tr>\n",
              "    <tr>\n",
              "      <th>27817</th>\n",
              "      <td>Uzbekistan</td>\n",
              "      <td>2014</td>\n",
              "      <td>1</td>\n",
              "      <td>1</td>\n",
              "      <td>60</td>\n",
              "      <td>2762158</td>\n",
              "      <td>2.17</td>\n",
              "      <td>63,067,077,179</td>\n",
              "      <td>2309</td>\n",
              "      <td>6</td>\n",
              "    </tr>\n",
              "    <tr>\n",
              "      <th>27818</th>\n",
              "      <td>Uzbekistan</td>\n",
              "      <td>2014</td>\n",
              "      <td>0</td>\n",
              "      <td>1</td>\n",
              "      <td>44</td>\n",
              "      <td>2631600</td>\n",
              "      <td>1.67</td>\n",
              "      <td>63,067,077,179</td>\n",
              "      <td>2309</td>\n",
              "      <td>6</td>\n",
              "    </tr>\n",
              "    <tr>\n",
              "      <th>27819</th>\n",
              "      <td>Uzbekistan</td>\n",
              "      <td>2014</td>\n",
              "      <td>0</td>\n",
              "      <td>5</td>\n",
              "      <td>21</td>\n",
              "      <td>1438935</td>\n",
              "      <td>1.46</td>\n",
              "      <td>63,067,077,179</td>\n",
              "      <td>2309</td>\n",
              "      <td>3</td>\n",
              "    </tr>\n",
              "  </tbody>\n",
              "</table>\n",
              "</div>"
            ],
            "text/plain": [
              "          country  year  gender  age  suicides_no  population  \\\n",
              "27815  Uzbekistan  2014       0    4          107     3620833   \n",
              "27816  Uzbekistan  2014       0    6            9      348465   \n",
              "27817  Uzbekistan  2014       1    1           60     2762158   \n",
              "27818  Uzbekistan  2014       0    1           44     2631600   \n",
              "27819  Uzbekistan  2014       0    5           21     1438935   \n",
              "\n",
              "       suicides/100kpop    gdp_for_year  gdp_per_capita  generation  \n",
              "27815              2.96  63,067,077,179            2309           4  \n",
              "27816              2.58  63,067,077,179            2309           2  \n",
              "27817              2.17  63,067,077,179            2309           6  \n",
              "27818              1.67  63,067,077,179            2309           6  \n",
              "27819              1.46  63,067,077,179            2309           3  "
            ]
          },
          "execution_count": 26,
          "metadata": {},
          "output_type": "execute_result"
        }
      ],
      "source": [
        "data.tail()"
      ]
    },
    {
      "cell_type": "markdown",
      "metadata": {
        "id": "FskZd1CFP0jW"
      },
      "source": [
        "### ✤ Preparing a variables for 'Gdp_for_Year' "
      ]
    },
    {
      "cell_type": "code",
      "execution_count": null,
      "metadata": {
        "id": "i6yYF68MP0jW"
      },
      "outputs": [],
      "source": [
        "data['gdp_for_year'] = data['gdp_for_year'].apply(lambda val: val.replace(',', ''))\n",
        "data['gdp_for_year'] = pd.to_numeric(data['gdp_for_year'])"
      ]
    },
    {
      "cell_type": "markdown",
      "metadata": {
        "id": "8FbbSVzIP0jX"
      },
      "source": [
        "**✤ I decided to drop catgorical column and ratio column:**"
      ]
    },
    {
      "cell_type": "code",
      "execution_count": null,
      "metadata": {
        "id": "Ks8GiYAUP0jf"
      },
      "outputs": [],
      "source": [
        "data.drop('country', axis=1, inplace=True)"
      ]
    },
    {
      "cell_type": "code",
      "execution_count": null,
      "metadata": {
        "id": "xDZPYfOGP0jf"
      },
      "outputs": [],
      "source": [
        "data.drop('suicides/100kpop', axis=1, inplace=True)"
      ]
    },
    {
      "cell_type": "code",
      "execution_count": null,
      "metadata": {
        "id": "bzkvF9wdP0jf",
        "outputId": "86f40199-8e18-4cdc-9c92-931367067871"
      },
      "outputs": [
        {
          "data": {
            "text/plain": [
              "(27660, 8)"
            ]
          },
          "execution_count": 30,
          "metadata": {},
          "output_type": "execute_result"
        }
      ],
      "source": [
        "data.shape"
      ]
    },
    {
      "cell_type": "code",
      "execution_count": null,
      "metadata": {
        "id": "OuxO6R4oP0jg",
        "outputId": "f4d4a640-7bd5-49ce-c4d7-342c1579b11e"
      },
      "outputs": [
        {
          "data": {
            "text/html": [
              "<div>\n",
              "<style scoped>\n",
              "    .dataframe tbody tr th:only-of-type {\n",
              "        vertical-align: middle;\n",
              "    }\n",
              "\n",
              "    .dataframe tbody tr th {\n",
              "        vertical-align: top;\n",
              "    }\n",
              "\n",
              "    .dataframe thead th {\n",
              "        text-align: right;\n",
              "    }\n",
              "</style>\n",
              "<table border=\"1\" class=\"dataframe\">\n",
              "  <thead>\n",
              "    <tr style=\"text-align: right;\">\n",
              "      <th></th>\n",
              "      <th>year</th>\n",
              "      <th>gender</th>\n",
              "      <th>age</th>\n",
              "      <th>suicides_no</th>\n",
              "      <th>population</th>\n",
              "      <th>gdp_for_year</th>\n",
              "      <th>gdp_per_capita</th>\n",
              "      <th>generation</th>\n",
              "    </tr>\n",
              "  </thead>\n",
              "  <tbody>\n",
              "    <tr>\n",
              "      <th>0</th>\n",
              "      <td>1987</td>\n",
              "      <td>1</td>\n",
              "      <td>2</td>\n",
              "      <td>21</td>\n",
              "      <td>312900</td>\n",
              "      <td>2156624900</td>\n",
              "      <td>796</td>\n",
              "      <td>4</td>\n",
              "    </tr>\n",
              "    <tr>\n",
              "      <th>1</th>\n",
              "      <td>1987</td>\n",
              "      <td>1</td>\n",
              "      <td>4</td>\n",
              "      <td>16</td>\n",
              "      <td>308000</td>\n",
              "      <td>2156624900</td>\n",
              "      <td>796</td>\n",
              "      <td>2</td>\n",
              "    </tr>\n",
              "    <tr>\n",
              "      <th>2</th>\n",
              "      <td>1987</td>\n",
              "      <td>0</td>\n",
              "      <td>2</td>\n",
              "      <td>14</td>\n",
              "      <td>289700</td>\n",
              "      <td>2156624900</td>\n",
              "      <td>796</td>\n",
              "      <td>4</td>\n",
              "    </tr>\n",
              "    <tr>\n",
              "      <th>3</th>\n",
              "      <td>1987</td>\n",
              "      <td>1</td>\n",
              "      <td>6</td>\n",
              "      <td>1</td>\n",
              "      <td>21800</td>\n",
              "      <td>2156624900</td>\n",
              "      <td>796</td>\n",
              "      <td>1</td>\n",
              "    </tr>\n",
              "    <tr>\n",
              "      <th>4</th>\n",
              "      <td>1987</td>\n",
              "      <td>1</td>\n",
              "      <td>3</td>\n",
              "      <td>9</td>\n",
              "      <td>274300</td>\n",
              "      <td>2156624900</td>\n",
              "      <td>796</td>\n",
              "      <td>3</td>\n",
              "    </tr>\n",
              "    <tr>\n",
              "      <th>...</th>\n",
              "      <td>...</td>\n",
              "      <td>...</td>\n",
              "      <td>...</td>\n",
              "      <td>...</td>\n",
              "      <td>...</td>\n",
              "      <td>...</td>\n",
              "      <td>...</td>\n",
              "      <td>...</td>\n",
              "    </tr>\n",
              "    <tr>\n",
              "      <th>27815</th>\n",
              "      <td>2014</td>\n",
              "      <td>0</td>\n",
              "      <td>4</td>\n",
              "      <td>107</td>\n",
              "      <td>3620833</td>\n",
              "      <td>63067077179</td>\n",
              "      <td>2309</td>\n",
              "      <td>4</td>\n",
              "    </tr>\n",
              "    <tr>\n",
              "      <th>27816</th>\n",
              "      <td>2014</td>\n",
              "      <td>0</td>\n",
              "      <td>6</td>\n",
              "      <td>9</td>\n",
              "      <td>348465</td>\n",
              "      <td>63067077179</td>\n",
              "      <td>2309</td>\n",
              "      <td>2</td>\n",
              "    </tr>\n",
              "    <tr>\n",
              "      <th>27817</th>\n",
              "      <td>2014</td>\n",
              "      <td>1</td>\n",
              "      <td>1</td>\n",
              "      <td>60</td>\n",
              "      <td>2762158</td>\n",
              "      <td>63067077179</td>\n",
              "      <td>2309</td>\n",
              "      <td>6</td>\n",
              "    </tr>\n",
              "    <tr>\n",
              "      <th>27818</th>\n",
              "      <td>2014</td>\n",
              "      <td>0</td>\n",
              "      <td>1</td>\n",
              "      <td>44</td>\n",
              "      <td>2631600</td>\n",
              "      <td>63067077179</td>\n",
              "      <td>2309</td>\n",
              "      <td>6</td>\n",
              "    </tr>\n",
              "    <tr>\n",
              "      <th>27819</th>\n",
              "      <td>2014</td>\n",
              "      <td>0</td>\n",
              "      <td>5</td>\n",
              "      <td>21</td>\n",
              "      <td>1438935</td>\n",
              "      <td>63067077179</td>\n",
              "      <td>2309</td>\n",
              "      <td>3</td>\n",
              "    </tr>\n",
              "  </tbody>\n",
              "</table>\n",
              "<p>27660 rows × 8 columns</p>\n",
              "</div>"
            ],
            "text/plain": [
              "       year  gender  age  suicides_no  population  gdp_for_year  \\\n",
              "0      1987       1    2           21      312900    2156624900   \n",
              "1      1987       1    4           16      308000    2156624900   \n",
              "2      1987       0    2           14      289700    2156624900   \n",
              "3      1987       1    6            1       21800    2156624900   \n",
              "4      1987       1    3            9      274300    2156624900   \n",
              "...     ...     ...  ...          ...         ...           ...   \n",
              "27815  2014       0    4          107     3620833   63067077179   \n",
              "27816  2014       0    6            9      348465   63067077179   \n",
              "27817  2014       1    1           60     2762158   63067077179   \n",
              "27818  2014       0    1           44     2631600   63067077179   \n",
              "27819  2014       0    5           21     1438935   63067077179   \n",
              "\n",
              "       gdp_per_capita  generation  \n",
              "0                 796           4  \n",
              "1                 796           2  \n",
              "2                 796           4  \n",
              "3                 796           1  \n",
              "4                 796           3  \n",
              "...               ...         ...  \n",
              "27815            2309           4  \n",
              "27816            2309           2  \n",
              "27817            2309           6  \n",
              "27818            2309           6  \n",
              "27819            2309           3  \n",
              "\n",
              "[27660 rows x 8 columns]"
            ]
          },
          "execution_count": 31,
          "metadata": {},
          "output_type": "execute_result"
        }
      ],
      "source": [
        "# HERE IS MY FINAL DATASET:\n",
        "data"
      ]
    },
    {
      "cell_type": "code",
      "execution_count": null,
      "metadata": {
        "id": "5eeKlGJ0P0jg",
        "outputId": "a7e2a71e-c093-4b0e-e9a7-90ef51bdfd5c"
      },
      "outputs": [
        {
          "data": {
            "text/plain": [
              "year              int64\n",
              "gender            int64\n",
              "age               int64\n",
              "suicides_no       int64\n",
              "population        int64\n",
              "gdp_for_year      int64\n",
              "gdp_per_capita    int64\n",
              "generation        int64\n",
              "dtype: object"
            ]
          },
          "execution_count": 32,
          "metadata": {},
          "output_type": "execute_result"
        }
      ],
      "source": [
        "# ALL DATATYPES ARE INTEGERS:\n",
        "data.dtypes"
      ]
    },
    {
      "cell_type": "markdown",
      "metadata": {
        "id": "_G4oe2A6P0jh"
      },
      "source": [
        "### ✤ SAVING MY NEW dataset into excel file:"
      ]
    },
    {
      "cell_type": "code",
      "execution_count": null,
      "metadata": {
        "id": "01W3dmwKP0jh"
      },
      "outputs": [],
      "source": [
        "data.to_excel(\"NEW-suicide.xlsx\")"
      ]
    },
    {
      "cell_type": "code",
      "execution_count": null,
      "metadata": {
        "id": "yUnjyDirP0jh"
      },
      "outputs": [],
      "source": [
        "new_data = pd.read_excel('NEW-suicide.xlsx')"
      ]
    },
    {
      "cell_type": "markdown",
      "metadata": {
        "id": "u32FZ_bxP0jh"
      },
      "source": [
        "**✤  Also, there is a Statistical description of my dataset, it illustrates a fairly wide range of data such as total amount, average mean value, standard deviation, interqurtile range and min/max values:**"
      ]
    },
    {
      "cell_type": "code",
      "execution_count": null,
      "metadata": {
        "id": "TdqM100DP0ji",
        "outputId": "e4261542-4e64-4ffd-8107-c72754303c13"
      },
      "outputs": [
        {
          "data": {
            "text/html": [
              "<div>\n",
              "<style scoped>\n",
              "    .dataframe tbody tr th:only-of-type {\n",
              "        vertical-align: middle;\n",
              "    }\n",
              "\n",
              "    .dataframe tbody tr th {\n",
              "        vertical-align: top;\n",
              "    }\n",
              "\n",
              "    .dataframe thead th {\n",
              "        text-align: right;\n",
              "    }\n",
              "</style>\n",
              "<table border=\"1\" class=\"dataframe\">\n",
              "  <thead>\n",
              "    <tr style=\"text-align: right;\">\n",
              "      <th></th>\n",
              "      <th>year</th>\n",
              "      <th>gender</th>\n",
              "      <th>age</th>\n",
              "      <th>suicides_no</th>\n",
              "      <th>population</th>\n",
              "      <th>gdp_for_year</th>\n",
              "      <th>gdp_per_capita</th>\n",
              "      <th>generation</th>\n",
              "    </tr>\n",
              "  </thead>\n",
              "  <tbody>\n",
              "    <tr>\n",
              "      <th>count</th>\n",
              "      <td>27660.000000</td>\n",
              "      <td>27660.000000</td>\n",
              "      <td>27660.000000</td>\n",
              "      <td>27660.000000</td>\n",
              "      <td>2.766000e+04</td>\n",
              "      <td>2.766000e+04</td>\n",
              "      <td>27660.000000</td>\n",
              "      <td>27660.000000</td>\n",
              "    </tr>\n",
              "    <tr>\n",
              "      <th>mean</th>\n",
              "      <td>2001.173102</td>\n",
              "      <td>0.500000</td>\n",
              "      <td>3.500000</td>\n",
              "      <td>243.413485</td>\n",
              "      <td>1.850689e+06</td>\n",
              "      <td>4.471009e+11</td>\n",
              "      <td>16815.568330</td>\n",
              "      <td>3.380550</td>\n",
              "    </tr>\n",
              "    <tr>\n",
              "      <th>std</th>\n",
              "      <td>8.418754</td>\n",
              "      <td>0.500009</td>\n",
              "      <td>1.707856</td>\n",
              "      <td>904.490185</td>\n",
              "      <td>3.920658e+06</td>\n",
              "      <td>1.457574e+12</td>\n",
              "      <td>18861.585497</td>\n",
              "      <td>1.423265</td>\n",
              "    </tr>\n",
              "    <tr>\n",
              "      <th>min</th>\n",
              "      <td>1985.000000</td>\n",
              "      <td>0.000000</td>\n",
              "      <td>1.000000</td>\n",
              "      <td>0.000000</td>\n",
              "      <td>2.780000e+02</td>\n",
              "      <td>4.691962e+07</td>\n",
              "      <td>251.000000</td>\n",
              "      <td>1.000000</td>\n",
              "    </tr>\n",
              "    <tr>\n",
              "      <th>25%</th>\n",
              "      <td>1994.000000</td>\n",
              "      <td>0.000000</td>\n",
              "      <td>2.000000</td>\n",
              "      <td>3.000000</td>\n",
              "      <td>9.753525e+04</td>\n",
              "      <td>8.976208e+09</td>\n",
              "      <td>3436.000000</td>\n",
              "      <td>2.000000</td>\n",
              "    </tr>\n",
              "    <tr>\n",
              "      <th>50%</th>\n",
              "      <td>2002.000000</td>\n",
              "      <td>0.500000</td>\n",
              "      <td>3.500000</td>\n",
              "      <td>25.000000</td>\n",
              "      <td>4.307250e+05</td>\n",
              "      <td>4.801361e+10</td>\n",
              "      <td>9283.000000</td>\n",
              "      <td>3.000000</td>\n",
              "    </tr>\n",
              "    <tr>\n",
              "      <th>75%</th>\n",
              "      <td>2008.000000</td>\n",
              "      <td>1.000000</td>\n",
              "      <td>5.000000</td>\n",
              "      <td>132.000000</td>\n",
              "      <td>1.491041e+06</td>\n",
              "      <td>2.602024e+11</td>\n",
              "      <td>24796.000000</td>\n",
              "      <td>5.000000</td>\n",
              "    </tr>\n",
              "    <tr>\n",
              "      <th>max</th>\n",
              "      <td>2015.000000</td>\n",
              "      <td>1.000000</td>\n",
              "      <td>6.000000</td>\n",
              "      <td>22338.000000</td>\n",
              "      <td>4.380521e+07</td>\n",
              "      <td>1.812071e+13</td>\n",
              "      <td>126352.000000</td>\n",
              "      <td>6.000000</td>\n",
              "    </tr>\n",
              "  </tbody>\n",
              "</table>\n",
              "</div>"
            ],
            "text/plain": [
              "               year        gender           age   suicides_no    population  \\\n",
              "count  27660.000000  27660.000000  27660.000000  27660.000000  2.766000e+04   \n",
              "mean    2001.173102      0.500000      3.500000    243.413485  1.850689e+06   \n",
              "std        8.418754      0.500009      1.707856    904.490185  3.920658e+06   \n",
              "min     1985.000000      0.000000      1.000000      0.000000  2.780000e+02   \n",
              "25%     1994.000000      0.000000      2.000000      3.000000  9.753525e+04   \n",
              "50%     2002.000000      0.500000      3.500000     25.000000  4.307250e+05   \n",
              "75%     2008.000000      1.000000      5.000000    132.000000  1.491041e+06   \n",
              "max     2015.000000      1.000000      6.000000  22338.000000  4.380521e+07   \n",
              "\n",
              "       gdp_for_year  gdp_per_capita    generation  \n",
              "count  2.766000e+04    27660.000000  27660.000000  \n",
              "mean   4.471009e+11    16815.568330      3.380550  \n",
              "std    1.457574e+12    18861.585497      1.423265  \n",
              "min    4.691962e+07      251.000000      1.000000  \n",
              "25%    8.976208e+09     3436.000000      2.000000  \n",
              "50%    4.801361e+10     9283.000000      3.000000  \n",
              "75%    2.602024e+11    24796.000000      5.000000  \n",
              "max    1.812071e+13   126352.000000      6.000000  "
            ]
          },
          "execution_count": 35,
          "metadata": {},
          "output_type": "execute_result"
        }
      ],
      "source": [
        "new_data.describe()"
      ]
    },
    {
      "cell_type": "markdown",
      "metadata": {
        "id": "Oi9X5ZzXP0ji"
      },
      "source": [
        "## ✤  Creating new dataset with Dummy variables  for Age and Generaions: ✤"
      ]
    },
    {
      "cell_type": "code",
      "execution_count": null,
      "metadata": {
        "id": "6AFcz9FlP0ji",
        "outputId": "001ee65b-f741-4d62-d730-9327262503e7"
      },
      "outputs": [
        {
          "data": {
            "text/html": [
              "<div>\n",
              "<style scoped>\n",
              "    .dataframe tbody tr th:only-of-type {\n",
              "        vertical-align: middle;\n",
              "    }\n",
              "\n",
              "    .dataframe tbody tr th {\n",
              "        vertical-align: top;\n",
              "    }\n",
              "\n",
              "    .dataframe thead th {\n",
              "        text-align: right;\n",
              "    }\n",
              "</style>\n",
              "<table border=\"1\" class=\"dataframe\">\n",
              "  <thead>\n",
              "    <tr style=\"text-align: right;\">\n",
              "      <th></th>\n",
              "      <th>year</th>\n",
              "      <th>gender</th>\n",
              "      <th>suicides_no</th>\n",
              "      <th>population</th>\n",
              "      <th>gdp_for_year</th>\n",
              "      <th>gdp_per_capita</th>\n",
              "      <th>age_1</th>\n",
              "      <th>age_2</th>\n",
              "      <th>age_3</th>\n",
              "      <th>age_4</th>\n",
              "      <th>age_5</th>\n",
              "      <th>age_6</th>\n",
              "      <th>generation_1</th>\n",
              "      <th>generation_2</th>\n",
              "      <th>generation_3</th>\n",
              "      <th>generation_4</th>\n",
              "      <th>generation_5</th>\n",
              "      <th>generation_6</th>\n",
              "    </tr>\n",
              "  </thead>\n",
              "  <tbody>\n",
              "    <tr>\n",
              "      <th>0</th>\n",
              "      <td>1987</td>\n",
              "      <td>1</td>\n",
              "      <td>21</td>\n",
              "      <td>312900</td>\n",
              "      <td>2156624900</td>\n",
              "      <td>796</td>\n",
              "      <td>0</td>\n",
              "      <td>1</td>\n",
              "      <td>0</td>\n",
              "      <td>0</td>\n",
              "      <td>0</td>\n",
              "      <td>0</td>\n",
              "      <td>0</td>\n",
              "      <td>0</td>\n",
              "      <td>0</td>\n",
              "      <td>1</td>\n",
              "      <td>0</td>\n",
              "      <td>0</td>\n",
              "    </tr>\n",
              "    <tr>\n",
              "      <th>1</th>\n",
              "      <td>1987</td>\n",
              "      <td>1</td>\n",
              "      <td>16</td>\n",
              "      <td>308000</td>\n",
              "      <td>2156624900</td>\n",
              "      <td>796</td>\n",
              "      <td>0</td>\n",
              "      <td>0</td>\n",
              "      <td>0</td>\n",
              "      <td>1</td>\n",
              "      <td>0</td>\n",
              "      <td>0</td>\n",
              "      <td>0</td>\n",
              "      <td>1</td>\n",
              "      <td>0</td>\n",
              "      <td>0</td>\n",
              "      <td>0</td>\n",
              "      <td>0</td>\n",
              "    </tr>\n",
              "    <tr>\n",
              "      <th>2</th>\n",
              "      <td>1987</td>\n",
              "      <td>0</td>\n",
              "      <td>14</td>\n",
              "      <td>289700</td>\n",
              "      <td>2156624900</td>\n",
              "      <td>796</td>\n",
              "      <td>0</td>\n",
              "      <td>1</td>\n",
              "      <td>0</td>\n",
              "      <td>0</td>\n",
              "      <td>0</td>\n",
              "      <td>0</td>\n",
              "      <td>0</td>\n",
              "      <td>0</td>\n",
              "      <td>0</td>\n",
              "      <td>1</td>\n",
              "      <td>0</td>\n",
              "      <td>0</td>\n",
              "    </tr>\n",
              "    <tr>\n",
              "      <th>3</th>\n",
              "      <td>1987</td>\n",
              "      <td>1</td>\n",
              "      <td>1</td>\n",
              "      <td>21800</td>\n",
              "      <td>2156624900</td>\n",
              "      <td>796</td>\n",
              "      <td>0</td>\n",
              "      <td>0</td>\n",
              "      <td>0</td>\n",
              "      <td>0</td>\n",
              "      <td>0</td>\n",
              "      <td>1</td>\n",
              "      <td>1</td>\n",
              "      <td>0</td>\n",
              "      <td>0</td>\n",
              "      <td>0</td>\n",
              "      <td>0</td>\n",
              "      <td>0</td>\n",
              "    </tr>\n",
              "    <tr>\n",
              "      <th>4</th>\n",
              "      <td>1987</td>\n",
              "      <td>1</td>\n",
              "      <td>9</td>\n",
              "      <td>274300</td>\n",
              "      <td>2156624900</td>\n",
              "      <td>796</td>\n",
              "      <td>0</td>\n",
              "      <td>0</td>\n",
              "      <td>1</td>\n",
              "      <td>0</td>\n",
              "      <td>0</td>\n",
              "      <td>0</td>\n",
              "      <td>0</td>\n",
              "      <td>0</td>\n",
              "      <td>1</td>\n",
              "      <td>0</td>\n",
              "      <td>0</td>\n",
              "      <td>0</td>\n",
              "    </tr>\n",
              "  </tbody>\n",
              "</table>\n",
              "</div>"
            ],
            "text/plain": [
              "   year  gender  suicides_no  population  gdp_for_year  gdp_per_capita  age_1  \\\n",
              "0  1987       1           21      312900    2156624900             796      0   \n",
              "1  1987       1           16      308000    2156624900             796      0   \n",
              "2  1987       0           14      289700    2156624900             796      0   \n",
              "3  1987       1            1       21800    2156624900             796      0   \n",
              "4  1987       1            9      274300    2156624900             796      0   \n",
              "\n",
              "   age_2  age_3  age_4  age_5  age_6  generation_1  generation_2  \\\n",
              "0      1      0      0      0      0             0             0   \n",
              "1      0      0      1      0      0             0             1   \n",
              "2      1      0      0      0      0             0             0   \n",
              "3      0      0      0      0      1             1             0   \n",
              "4      0      1      0      0      0             0             0   \n",
              "\n",
              "   generation_3  generation_4  generation_5  generation_6  \n",
              "0             0             1             0             0  \n",
              "1             0             0             0             0  \n",
              "2             0             1             0             0  \n",
              "3             0             0             0             0  \n",
              "4             1             0             0             0  "
            ]
          },
          "execution_count": 134,
          "metadata": {},
          "output_type": "execute_result"
        }
      ],
      "source": [
        "final_df = pd.get_dummies(new_data, columns=[\"age\", \"generation\"])\n",
        "final_df.head()"
      ]
    },
    {
      "cell_type": "markdown",
      "metadata": {
        "id": "QKFiVjPgP0jj"
      },
      "source": [
        "#  ✤  Data Preprocessing: ✤ Normalisation and Standartisation ✤"
      ]
    },
    {
      "cell_type": "markdown",
      "metadata": {
        "id": "T06HZK4UP0jj"
      },
      "source": [
        "## ✤ YEAR normalisation:  => X-min/(max-min)"
      ]
    },
    {
      "cell_type": "code",
      "execution_count": null,
      "metadata": {
        "id": "ADJ8TudaP0jj",
        "outputId": "613bbdc1-d69f-4f55-f6b8-7999f3751061"
      },
      "outputs": [
        {
          "name": "stdout",
          "output_type": "stream",
          "text": [
            "The Minimum is  1985\n",
            "The Maximum is  2015\n",
            "--------------------\n",
            "The Max-Min 30\n"
          ]
        }
      ],
      "source": [
        "miny = new_data['year'].min(skipna = True)\n",
        "print(\"The Minimum is \", miny)\n",
        "\n",
        "maxy = new_data['year'].max(skipna = True)\n",
        "print(\"The Maximum is \", maxy)\n",
        "\n",
        "print(20*'-')\n",
        "print('The Max-Min', maxy-miny)"
      ]
    },
    {
      "cell_type": "code",
      "execution_count": null,
      "metadata": {
        "id": "9bt57DH4P0jk",
        "outputId": "a9538c24-5d1b-41a6-e06d-98115e6d86d6"
      },
      "outputs": [
        {
          "name": "stdout",
          "output_type": "stream",
          "text": [
            "0.06666666666666667\n",
            "0.16666666666666666\n",
            "0.3333333333333333\n",
            "0.5\n",
            "0.6666666666666666\n",
            "0.8333333333333334\n",
            "0.9666666666666667\n"
          ]
        }
      ],
      "source": [
        "# X-min/(max-min)\n",
        "print((1987-1985)/30)\n",
        "print((1990-1985)/30)\n",
        "print((1995-1985)/30)\n",
        "print((2000-1985)/30)\n",
        "print((2005-1985)/30)\n",
        "print((2010-1985)/30)\n",
        "print((2014-1985)/30)"
      ]
    },
    {
      "cell_type": "code",
      "execution_count": null,
      "metadata": {
        "id": "kOsKaOQiP0jk"
      },
      "outputs": [],
      "source": [
        "# With Lbarary SKLEARN:\n",
        "from sklearn import preprocessing"
      ]
    },
    {
      "cell_type": "code",
      "execution_count": null,
      "metadata": {
        "id": "BR36pFYdP0jl",
        "outputId": "473cffec-c92f-4f28-a026-2e5174a5c35b"
      },
      "outputs": [
        {
          "name": "stdout",
          "output_type": "stream",
          "text": [
            "[[0.00597012 0.00597012 0.00597012 ... 0.00605125 0.00605125 0.00605125]]\n"
          ]
        }
      ],
      "source": [
        "# by using silearn library:\n",
        "normalized_year = preprocessing.normalize([new_data['year']])\n",
        "print(normalized_year)\n",
        "# first is 1987 and last is for 2014:"
      ]
    },
    {
      "cell_type": "markdown",
      "metadata": {
        "id": "TYvOHiCDP0jl"
      },
      "source": [
        "## ✤ AGE normalisation: "
      ]
    },
    {
      "cell_type": "code",
      "execution_count": null,
      "metadata": {
        "id": "gTyruScaP0jm",
        "outputId": "a25054b9-ebb8-44e0-da04-9683d5145bf7"
      },
      "outputs": [
        {
          "data": {
            "text/plain": [
              "array([[0.00308787, 0.00617574, 0.00308787, ..., 0.00154393, 0.00154393,\n",
              "        0.00771967]])"
            ]
          },
          "execution_count": 40,
          "metadata": {},
          "output_type": "execute_result"
        }
      ],
      "source": [
        "from sklearn.preprocessing import Normalizer\n",
        "\n",
        "age = new_data['age'].to_numpy()\n",
        "\n",
        "normage = Normalizer().fit([age])\n",
        "normal = normage.transform([age])\n",
        "normal"
      ]
    },
    {
      "cell_type": "markdown",
      "metadata": {
        "id": "bOOv8VISP0jn"
      },
      "source": [
        "## ✤ Suicides_number Normalisation: "
      ]
    },
    {
      "cell_type": "code",
      "execution_count": null,
      "metadata": {
        "id": "aPwzf6BKP0jn",
        "outputId": "6cc0ad91-2c37-4d03-a8a7-1b551631479a"
      },
      "outputs": [
        {
          "name": "stdout",
          "output_type": "stream",
          "text": [
            "[[1.34807309e-04 1.02710331e-04 8.98715392e-05 ... 3.85163740e-04\n",
            "  2.82453409e-04 1.34807309e-04]]\n"
          ]
        }
      ],
      "source": [
        "sn = new_data['suicides_no'].to_numpy()\n",
        "\n",
        "norm_suicide = Normalizer().fit([sn])\n",
        "suic_norm = norm_suicide.transform([sn])\n",
        "print(suic_norm)"
      ]
    },
    {
      "cell_type": "markdown",
      "metadata": {
        "id": "eD6eSe24P0jo"
      },
      "source": [
        "## ✤ Populations Normalisation: "
      ]
    },
    {
      "cell_type": "code",
      "execution_count": null,
      "metadata": {
        "id": "Y-bMjRheP0jo",
        "outputId": "b7139339-da73-4b7a-8e83-92d4c817e901"
      },
      "outputs": [
        {
          "name": "stdout",
          "output_type": "stream",
          "text": [
            "[[0.00043396 0.00042716 0.00040178 ... 0.0038308  0.00364973 0.00199564]]\n"
          ]
        }
      ],
      "source": [
        "sn = new_data['population'].to_numpy()\n",
        "\n",
        "norm_pop = Normalizer().fit([sn])\n",
        "people_norm = norm_pop.transform([sn])\n",
        "print(people_norm)"
      ]
    },
    {
      "cell_type": "markdown",
      "metadata": {
        "id": "AhO2TFHpP0jp"
      },
      "source": [
        "##  ✤  Data Preprocessing: ✤ Normalisation of Whole dataset: ✤"
      ]
    },
    {
      "cell_type": "code",
      "execution_count": null,
      "metadata": {
        "id": "rxmSIGLpP0jp"
      },
      "outputs": [],
      "source": [
        "import numpy as np  # to access data in any formats.\n",
        "import pandas as pd  # to work with data frame formats.\n",
        "import warnings  # do not show matching warnings\n",
        "warnings.filterwarnings('ignore')\n",
        "%matplotlib inline"
      ]
    },
    {
      "cell_type": "code",
      "execution_count": null,
      "metadata": {
        "id": "tUnLpDh6P0jp",
        "outputId": "a0f40062-cd31-4060-8260-a617a53ecb5f"
      },
      "outputs": [
        {
          "data": {
            "text/html": [
              "<div>\n",
              "<style scoped>\n",
              "    .dataframe tbody tr th:only-of-type {\n",
              "        vertical-align: middle;\n",
              "    }\n",
              "\n",
              "    .dataframe tbody tr th {\n",
              "        vertical-align: top;\n",
              "    }\n",
              "\n",
              "    .dataframe thead th {\n",
              "        text-align: right;\n",
              "    }\n",
              "</style>\n",
              "<table border=\"1\" class=\"dataframe\">\n",
              "  <thead>\n",
              "    <tr style=\"text-align: right;\">\n",
              "      <th></th>\n",
              "      <th>year</th>\n",
              "      <th>gender</th>\n",
              "      <th>age</th>\n",
              "      <th>suicides_no</th>\n",
              "      <th>population</th>\n",
              "      <th>gdp_for_year</th>\n",
              "      <th>gdp_per_capita</th>\n",
              "      <th>generation</th>\n",
              "    </tr>\n",
              "  </thead>\n",
              "  <tbody>\n",
              "    <tr>\n",
              "      <th>0</th>\n",
              "      <td>9.213470e-07</td>\n",
              "      <td>4.636875e-10</td>\n",
              "      <td>9.273750e-10</td>\n",
              "      <td>9.737437e-09</td>\n",
              "      <td>0.000145</td>\n",
              "      <td>1.0</td>\n",
              "      <td>3.690952e-07</td>\n",
              "      <td>1.854750e-09</td>\n",
              "    </tr>\n",
              "    <tr>\n",
              "      <th>1</th>\n",
              "      <td>9.213470e-07</td>\n",
              "      <td>4.636875e-10</td>\n",
              "      <td>1.854750e-09</td>\n",
              "      <td>7.419000e-09</td>\n",
              "      <td>0.000143</td>\n",
              "      <td>1.0</td>\n",
              "      <td>3.690952e-07</td>\n",
              "      <td>9.273750e-10</td>\n",
              "    </tr>\n",
              "    <tr>\n",
              "      <th>2</th>\n",
              "      <td>9.213470e-07</td>\n",
              "      <td>0.000000e+00</td>\n",
              "      <td>9.273750e-10</td>\n",
              "      <td>6.491625e-09</td>\n",
              "      <td>0.000134</td>\n",
              "      <td>1.0</td>\n",
              "      <td>3.690952e-07</td>\n",
              "      <td>1.854750e-09</td>\n",
              "    </tr>\n",
              "    <tr>\n",
              "      <th>3</th>\n",
              "      <td>9.213471e-07</td>\n",
              "      <td>4.636875e-10</td>\n",
              "      <td>2.782125e-09</td>\n",
              "      <td>4.636875e-10</td>\n",
              "      <td>0.000010</td>\n",
              "      <td>1.0</td>\n",
              "      <td>3.690952e-07</td>\n",
              "      <td>4.636875e-10</td>\n",
              "    </tr>\n",
              "    <tr>\n",
              "      <th>4</th>\n",
              "      <td>9.213470e-07</td>\n",
              "      <td>4.636875e-10</td>\n",
              "      <td>1.391062e-09</td>\n",
              "      <td>4.173187e-09</td>\n",
              "      <td>0.000127</td>\n",
              "      <td>1.0</td>\n",
              "      <td>3.690952e-07</td>\n",
              "      <td>1.391062e-09</td>\n",
              "    </tr>\n",
              "    <tr>\n",
              "      <th>...</th>\n",
              "      <td>...</td>\n",
              "      <td>...</td>\n",
              "      <td>...</td>\n",
              "      <td>...</td>\n",
              "      <td>...</td>\n",
              "      <td>...</td>\n",
              "      <td>...</td>\n",
              "      <td>...</td>\n",
              "    </tr>\n",
              "    <tr>\n",
              "      <th>27655</th>\n",
              "      <td>3.193425e-08</td>\n",
              "      <td>0.000000e+00</td>\n",
              "      <td>6.342453e-11</td>\n",
              "      <td>1.696606e-09</td>\n",
              "      <td>0.000057</td>\n",
              "      <td>1.0</td>\n",
              "      <td>3.661181e-08</td>\n",
              "      <td>6.342453e-11</td>\n",
              "    </tr>\n",
              "    <tr>\n",
              "      <th>27656</th>\n",
              "      <td>3.193425e-08</td>\n",
              "      <td>0.000000e+00</td>\n",
              "      <td>9.513680e-11</td>\n",
              "      <td>1.427052e-10</td>\n",
              "      <td>0.000006</td>\n",
              "      <td>1.0</td>\n",
              "      <td>3.661181e-08</td>\n",
              "      <td>3.171227e-11</td>\n",
              "    </tr>\n",
              "    <tr>\n",
              "      <th>27657</th>\n",
              "      <td>3.193425e-08</td>\n",
              "      <td>1.585613e-11</td>\n",
              "      <td>1.585613e-11</td>\n",
              "      <td>9.513680e-10</td>\n",
              "      <td>0.000044</td>\n",
              "      <td>1.0</td>\n",
              "      <td>3.661181e-08</td>\n",
              "      <td>9.513680e-11</td>\n",
              "    </tr>\n",
              "    <tr>\n",
              "      <th>27658</th>\n",
              "      <td>3.193425e-08</td>\n",
              "      <td>0.000000e+00</td>\n",
              "      <td>1.585613e-11</td>\n",
              "      <td>6.976699e-10</td>\n",
              "      <td>0.000042</td>\n",
              "      <td>1.0</td>\n",
              "      <td>3.661181e-08</td>\n",
              "      <td>9.513680e-11</td>\n",
              "    </tr>\n",
              "    <tr>\n",
              "      <th>27659</th>\n",
              "      <td>3.193425e-08</td>\n",
              "      <td>0.000000e+00</td>\n",
              "      <td>7.928067e-11</td>\n",
              "      <td>3.329788e-10</td>\n",
              "      <td>0.000023</td>\n",
              "      <td>1.0</td>\n",
              "      <td>3.661181e-08</td>\n",
              "      <td>4.756840e-11</td>\n",
              "    </tr>\n",
              "  </tbody>\n",
              "</table>\n",
              "<p>27660 rows × 8 columns</p>\n",
              "</div>"
            ],
            "text/plain": [
              "               year        gender           age   suicides_no  population  \\\n",
              "0      9.213470e-07  4.636875e-10  9.273750e-10  9.737437e-09    0.000145   \n",
              "1      9.213470e-07  4.636875e-10  1.854750e-09  7.419000e-09    0.000143   \n",
              "2      9.213470e-07  0.000000e+00  9.273750e-10  6.491625e-09    0.000134   \n",
              "3      9.213471e-07  4.636875e-10  2.782125e-09  4.636875e-10    0.000010   \n",
              "4      9.213470e-07  4.636875e-10  1.391062e-09  4.173187e-09    0.000127   \n",
              "...             ...           ...           ...           ...         ...   \n",
              "27655  3.193425e-08  0.000000e+00  6.342453e-11  1.696606e-09    0.000057   \n",
              "27656  3.193425e-08  0.000000e+00  9.513680e-11  1.427052e-10    0.000006   \n",
              "27657  3.193425e-08  1.585613e-11  1.585613e-11  9.513680e-10    0.000044   \n",
              "27658  3.193425e-08  0.000000e+00  1.585613e-11  6.976699e-10    0.000042   \n",
              "27659  3.193425e-08  0.000000e+00  7.928067e-11  3.329788e-10    0.000023   \n",
              "\n",
              "       gdp_for_year  gdp_per_capita    generation  \n",
              "0               1.0    3.690952e-07  1.854750e-09  \n",
              "1               1.0    3.690952e-07  9.273750e-10  \n",
              "2               1.0    3.690952e-07  1.854750e-09  \n",
              "3               1.0    3.690952e-07  4.636875e-10  \n",
              "4               1.0    3.690952e-07  1.391062e-09  \n",
              "...             ...             ...           ...  \n",
              "27655           1.0    3.661181e-08  6.342453e-11  \n",
              "27656           1.0    3.661181e-08  3.171227e-11  \n",
              "27657           1.0    3.661181e-08  9.513680e-11  \n",
              "27658           1.0    3.661181e-08  9.513680e-11  \n",
              "27659           1.0    3.661181e-08  4.756840e-11  \n",
              "\n",
              "[27660 rows x 8 columns]"
            ]
          },
          "execution_count": 4,
          "metadata": {},
          "output_type": "execute_result"
        }
      ],
      "source": [
        "from sklearn.preprocessing import Normalizer\n",
        "#importing Normalisation Library.\n",
        "\n",
        "scaler = Normalizer().fit(new_data)\n",
        "normalizeData = scaler.transform(new_data)\n",
        "normalizeData = pd.DataFrame(normalizeData, index = new_data.index, columns = new_data.columns)\n",
        "normalizeData"
      ]
    },
    {
      "cell_type": "markdown",
      "metadata": {
        "id": "BjeiGYvwP0jq"
      },
      "source": [
        "##  ✤  Data Preprocessing: ✤ Standardisation of Whole dataset: ✤\n"
      ]
    },
    {
      "cell_type": "code",
      "execution_count": null,
      "metadata": {
        "id": "TadNn676P0jq",
        "outputId": "410d5711-7fce-4e5b-f1cd-f27fe7aba99c"
      },
      "outputs": [
        {
          "data": {
            "text/html": [
              "<div>\n",
              "<style scoped>\n",
              "    .dataframe tbody tr th:only-of-type {\n",
              "        vertical-align: middle;\n",
              "    }\n",
              "\n",
              "    .dataframe tbody tr th {\n",
              "        vertical-align: top;\n",
              "    }\n",
              "\n",
              "    .dataframe thead th {\n",
              "        text-align: right;\n",
              "    }\n",
              "</style>\n",
              "<table border=\"1\" class=\"dataframe\">\n",
              "  <thead>\n",
              "    <tr style=\"text-align: right;\">\n",
              "      <th></th>\n",
              "      <th>year</th>\n",
              "      <th>gender</th>\n",
              "      <th>age</th>\n",
              "      <th>suicides_no</th>\n",
              "      <th>population</th>\n",
              "      <th>gdp_for_year</th>\n",
              "      <th>gdp_per_capita</th>\n",
              "      <th>generation</th>\n",
              "    </tr>\n",
              "  </thead>\n",
              "  <tbody>\n",
              "    <tr>\n",
              "      <th>0</th>\n",
              "      <td>-1.683546</td>\n",
              "      <td>1.0</td>\n",
              "      <td>-0.87831</td>\n",
              "      <td>-0.245904</td>\n",
              "      <td>-0.392234</td>\n",
              "      <td>-0.305269</td>\n",
              "      <td>-0.849338</td>\n",
              "      <td>0.435240</td>\n",
              "    </tr>\n",
              "    <tr>\n",
              "      <th>1</th>\n",
              "      <td>-1.683546</td>\n",
              "      <td>1.0</td>\n",
              "      <td>0.29277</td>\n",
              "      <td>-0.251432</td>\n",
              "      <td>-0.393484</td>\n",
              "      <td>-0.305269</td>\n",
              "      <td>-0.849338</td>\n",
              "      <td>-0.970006</td>\n",
              "    </tr>\n",
              "    <tr>\n",
              "      <th>2</th>\n",
              "      <td>-1.683546</td>\n",
              "      <td>-1.0</td>\n",
              "      <td>-0.87831</td>\n",
              "      <td>-0.253643</td>\n",
              "      <td>-0.398152</td>\n",
              "      <td>-0.305269</td>\n",
              "      <td>-0.849338</td>\n",
              "      <td>0.435240</td>\n",
              "    </tr>\n",
              "    <tr>\n",
              "      <th>3</th>\n",
              "      <td>-1.683546</td>\n",
              "      <td>1.0</td>\n",
              "      <td>1.46385</td>\n",
              "      <td>-0.268016</td>\n",
              "      <td>-0.466483</td>\n",
              "      <td>-0.305269</td>\n",
              "      <td>-0.849338</td>\n",
              "      <td>-1.672628</td>\n",
              "    </tr>\n",
              "    <tr>\n",
              "      <th>4</th>\n",
              "      <td>-1.683546</td>\n",
              "      <td>1.0</td>\n",
              "      <td>-0.29277</td>\n",
              "      <td>-0.259171</td>\n",
              "      <td>-0.402080</td>\n",
              "      <td>-0.305269</td>\n",
              "      <td>-0.849338</td>\n",
              "      <td>-0.267383</td>\n",
              "    </tr>\n",
              "    <tr>\n",
              "      <th>...</th>\n",
              "      <td>...</td>\n",
              "      <td>...</td>\n",
              "      <td>...</td>\n",
              "      <td>...</td>\n",
              "      <td>...</td>\n",
              "      <td>...</td>\n",
              "      <td>...</td>\n",
              "      <td>...</td>\n",
              "    </tr>\n",
              "    <tr>\n",
              "      <th>27655</th>\n",
              "      <td>1.523638</td>\n",
              "      <td>-1.0</td>\n",
              "      <td>0.29277</td>\n",
              "      <td>-0.150821</td>\n",
              "      <td>0.451500</td>\n",
              "      <td>-0.263479</td>\n",
              "      <td>-0.769120</td>\n",
              "      <td>0.435240</td>\n",
              "    </tr>\n",
              "    <tr>\n",
              "      <th>27656</th>\n",
              "      <td>1.523638</td>\n",
              "      <td>-1.0</td>\n",
              "      <td>1.46385</td>\n",
              "      <td>-0.259171</td>\n",
              "      <td>-0.383163</td>\n",
              "      <td>-0.263479</td>\n",
              "      <td>-0.769120</td>\n",
              "      <td>-0.970006</td>\n",
              "    </tr>\n",
              "    <tr>\n",
              "      <th>27657</th>\n",
              "      <td>1.523638</td>\n",
              "      <td>1.0</td>\n",
              "      <td>-1.46385</td>\n",
              "      <td>-0.202785</td>\n",
              "      <td>0.232483</td>\n",
              "      <td>-0.263479</td>\n",
              "      <td>-0.769120</td>\n",
              "      <td>1.840486</td>\n",
              "    </tr>\n",
              "    <tr>\n",
              "      <th>27658</th>\n",
              "      <td>1.523638</td>\n",
              "      <td>-1.0</td>\n",
              "      <td>-1.46385</td>\n",
              "      <td>-0.220475</td>\n",
              "      <td>0.199182</td>\n",
              "      <td>-0.263479</td>\n",
              "      <td>-0.769120</td>\n",
              "      <td>1.840486</td>\n",
              "    </tr>\n",
              "    <tr>\n",
              "      <th>27659</th>\n",
              "      <td>1.523638</td>\n",
              "      <td>-1.0</td>\n",
              "      <td>0.87831</td>\n",
              "      <td>-0.245904</td>\n",
              "      <td>-0.105024</td>\n",
              "      <td>-0.263479</td>\n",
              "      <td>-0.769120</td>\n",
              "      <td>-0.267383</td>\n",
              "    </tr>\n",
              "  </tbody>\n",
              "</table>\n",
              "<p>27660 rows × 8 columns</p>\n",
              "</div>"
            ],
            "text/plain": [
              "           year  gender      age  suicides_no  population  gdp_for_year  \\\n",
              "0     -1.683546     1.0 -0.87831    -0.245904   -0.392234     -0.305269   \n",
              "1     -1.683546     1.0  0.29277    -0.251432   -0.393484     -0.305269   \n",
              "2     -1.683546    -1.0 -0.87831    -0.253643   -0.398152     -0.305269   \n",
              "3     -1.683546     1.0  1.46385    -0.268016   -0.466483     -0.305269   \n",
              "4     -1.683546     1.0 -0.29277    -0.259171   -0.402080     -0.305269   \n",
              "...         ...     ...      ...          ...         ...           ...   \n",
              "27655  1.523638    -1.0  0.29277    -0.150821    0.451500     -0.263479   \n",
              "27656  1.523638    -1.0  1.46385    -0.259171   -0.383163     -0.263479   \n",
              "27657  1.523638     1.0 -1.46385    -0.202785    0.232483     -0.263479   \n",
              "27658  1.523638    -1.0 -1.46385    -0.220475    0.199182     -0.263479   \n",
              "27659  1.523638    -1.0  0.87831    -0.245904   -0.105024     -0.263479   \n",
              "\n",
              "       gdp_per_capita  generation  \n",
              "0           -0.849338    0.435240  \n",
              "1           -0.849338   -0.970006  \n",
              "2           -0.849338    0.435240  \n",
              "3           -0.849338   -1.672628  \n",
              "4           -0.849338   -0.267383  \n",
              "...               ...         ...  \n",
              "27655       -0.769120    0.435240  \n",
              "27656       -0.769120   -0.970006  \n",
              "27657       -0.769120    1.840486  \n",
              "27658       -0.769120    1.840486  \n",
              "27659       -0.769120   -0.267383  \n",
              "\n",
              "[27660 rows x 8 columns]"
            ]
          },
          "execution_count": 71,
          "metadata": {},
          "output_type": "execute_result"
        }
      ],
      "source": [
        "from sklearn.preprocessing import StandardScaler\n",
        "#importing Standardisation Library.\n",
        "\n",
        "scaler = StandardScaler().fit(new_data)\n",
        "standardizedData = scaler.transform(new_data)\n",
        "standardizedData = pd.DataFrame(standardizedData, index = new_data.index, columns = new_data.columns)\n",
        "standardizedData"
      ]
    },
    {
      "cell_type": "markdown",
      "metadata": {
        "id": "m-MNdPCGP0jq"
      },
      "source": [
        "## ✤ Creating a Kmean clustering Model with unpreprocessed dataset:\n",
        " + **✤ Train and Test Split - Ratio 80 / 20**"
      ]
    },
    {
      "cell_type": "code",
      "execution_count": null,
      "metadata": {
        "id": "-uAb9y5qP0jr",
        "outputId": "3f8bbb80-7350-475e-86a8-3c2860429c48"
      },
      "outputs": [
        {
          "name": "stdout",
          "output_type": "stream",
          "text": [
            "X_train =>  (22128, 7)\n",
            "X_test =>  (5532, 7)\n",
            "y_train =>  (22128,)\n",
            "y_train =>  (22128,)\n"
          ]
        }
      ],
      "source": [
        "from sklearn.model_selection import train_test_split\n",
        "# X and y arrays:\n",
        "X1 = new_data.drop(\"population\", axis=1) # All columns without suicides_no\n",
        "y1 = new_data[\"population\"] # Only column suicides_no\n",
        "\n",
        "X1_train, X1_test, y1_train, y1_test = train_test_split(X1, y1, test_size=0.2, random_state=42)\n",
        "print('X_train => ', X1_train.shape)\n",
        "print('X_test => ',X1_test.shape)\n",
        "print('y_train => ',y1_train.shape)\n",
        "print('y_train => ',y1_train.shape)"
      ]
    },
    {
      "cell_type": "code",
      "execution_count": null,
      "metadata": {
        "id": "dD0WR_BIP0jr"
      },
      "outputs": [],
      "source": [
        "from sklearn.cluster import KMeans\n",
        "from sklearn import metrics"
      ]
    },
    {
      "cell_type": "code",
      "execution_count": null,
      "metadata": {
        "id": "dzRKhLKEP0jr"
      },
      "outputs": [],
      "source": [
        "model_k_mean = LinearRegression().fit(X1_train,y1_train)"
      ]
    },
    {
      "cell_type": "code",
      "execution_count": null,
      "metadata": {
        "id": "epWBzoQtP0js",
        "outputId": "ca421f4b-1757-4325-a0b6-b38d9c9ec89f"
      },
      "outputs": [
        {
          "name": "stdout",
          "output_type": "stream",
          "text": [
            "Score is =>  0.6489604222921088\n",
            "\n",
            " Coefficients are =>  [ 1.84106028e+03 -5.57066704e+05 -2.57596762e+05  1.72339364e+03\n",
            "  1.53714791e-06 -2.35996185e+01 -6.31195287e+04]\n"
          ]
        }
      ],
      "source": [
        "print('Score is => ', model_k_mean.score(X1_test, y1_test))\n",
        "print('\\n Coefficients are => ', model_k_mean.coef_)"
      ]
    },
    {
      "cell_type": "markdown",
      "metadata": {
        "id": "iA9YM2xOP0js"
      },
      "source": [
        "### ✤Creating a function to make Model Evaluation:"
      ]
    },
    {
      "cell_type": "code",
      "execution_count": null,
      "metadata": {
        "id": "SEjEP3iZP0js"
      },
      "outputs": [],
      "source": [
        "# let's create a function for all metrics at the same time:\n",
        "\n",
        "def print_evaluate(true, predicted):  \n",
        "    r2_square = metrics.r2_score(true, predicted)\n",
        "    mse = metrics.mean_squared_error(true, predicted)\n",
        "    rmse = np.sqrt(metrics.mean_squared_error(true, predicted))\n",
        "    mae = metrics.mean_absolute_error(true, predicted)\n",
        "    maxx = metrics.max_error(true, predicted)\n",
        "    \n",
        "    print('R-squared', np.round(r2_square,3))\n",
        "    print('MSE:', np.round(mse,3))\n",
        "    print('RMSE:', np.round(rmse,3))\n",
        "    print('MAE:', np.round(mae,3))\n",
        "    print('MAX:', np.round(maxx,3))"
      ]
    },
    {
      "cell_type": "code",
      "execution_count": null,
      "metadata": {
        "id": "jrMmlQCxP0jt",
        "outputId": "9dbac8f3-8d8d-4116-ae64-2dd4d438277f"
      },
      "outputs": [
        {
          "name": "stdout",
          "output_type": "stream",
          "text": [
            "R-squared 0.649\n",
            "MSE: 5278610611312.715\n",
            "RMSE: 2297522.712\n",
            "MAE: 1200671.274\n",
            "MAX: 24055057.011\n"
          ]
        }
      ],
      "source": [
        "test_pred_k = model_k_mean.predict(X1_test)\n",
        "print_evaluate(y1_test, test_pred_k)"
      ]
    },
    {
      "cell_type": "code",
      "execution_count": null,
      "metadata": {
        "id": "7PPqm0WXP0jt",
        "outputId": "1c834d90-32d4-4de0-ad00-8c323973b02f"
      },
      "outputs": [
        {
          "data": {
            "text/plain": [
              "<matplotlib.colorbar.Colorbar at 0x276b29a0>"
            ]
          },
          "execution_count": 132,
          "metadata": {},
          "output_type": "execute_result"
        },
        {
          "data": {
            "image/png": "[encoded data removed]",
            "text/plain": [
              "<Figure size 432x288 with 2 Axes>"
            ]
          },
          "metadata": {
            "needs_background": "light"
          },
          "output_type": "display_data"
        }
      ],
      "source": [
        "#Plot the clusters obtained using k means\n",
        "fig = plt.figure()\n",
        "ax = fig.add_subplot(111)\n",
        "scatter = ax.scatter(new_data['suicides_no'],new_data['generation'],c='magenta',s=50)\n",
        "ax.set_title('K-Means Clustering',fontsize=17)\n",
        "ax.set_xlabel('suicides_no',fontsize=14)\n",
        "ax.set_ylabel('generation',fontsize=14)\n",
        "plt.colorbar(scatter)"
      ]
    },
    {
      "cell_type": "code",
      "execution_count": null,
      "metadata": {
        "id": "aAYTN6PYP0jt",
        "outputId": "2790076c-415d-41bf-9198-745057e0ba12"
      },
      "outputs": [
        {
          "data": {
            "image/png": "[encoded data removed]",
            "text/plain": [
              "<Figure size 432x288 with 2 Axes>"
            ]
          },
          "metadata": {
            "needs_background": "light"
          },
          "output_type": "display_data"
        }
      ],
      "source": [
        "import seaborn as sn\n",
        "# plotting a correlation Matrix graph:\n",
        "\n",
        "corrMatrix = new_data.corr()\n",
        "sn.heatmap(corrMatrix, annot=True)\n",
        "plt.title('Correlation Matrix')\n",
        "plt.show()"
      ]
    },
    {
      "cell_type": "markdown",
      "metadata": {
        "id": "lH14eFLdP0ju"
      },
      "source": [
        "## ✤ Train and Test Split - Ratio 80 / 20\n",
        "+ Now let's split the data into a training set and a testing set. We'll train out model on the training set and then use the test set to evaluate the model. To do that, we need to import the following:"
      ]
    },
    {
      "cell_type": "code",
      "execution_count": null,
      "metadata": {
        "id": "Cud1YGojP0ju"
      },
      "outputs": [],
      "source": [
        "# X and y arrays:\n",
        "X = normalizeData.drop(\"generation\", axis=1) # All columns without suicides_no\n",
        "y = normalizeData[\"generation\"] # Only column suicides_no"
      ]
    },
    {
      "cell_type": "code",
      "execution_count": null,
      "metadata": {
        "id": "5jkKktVSP0ju"
      },
      "outputs": [],
      "source": [
        "from sklearn.model_selection import train_test_split\n",
        "\n",
        "X_train, X_test, y_train, y_test = train_test_split(X, y, test_size=0.2, random_state=42)"
      ]
    },
    {
      "cell_type": "code",
      "execution_count": null,
      "metadata": {
        "id": "L7Jzrs_qP0jv",
        "outputId": "f2935535-788f-4ec7-dd1e-cd6a9b736c93"
      },
      "outputs": [
        {
          "data": {
            "text/plain": [
              "(22128, 7)"
            ]
          },
          "execution_count": 56,
          "metadata": {},
          "output_type": "execute_result"
        }
      ],
      "source": [
        "X_train.shape"
      ]
    },
    {
      "cell_type": "code",
      "execution_count": null,
      "metadata": {
        "id": "2fLEzyf5P0jv",
        "outputId": "8b5aad44-cdc1-4e0b-b7e6-e85cc6abd91a"
      },
      "outputs": [
        {
          "data": {
            "text/plain": [
              "(5532, 7)"
            ]
          },
          "execution_count": 57,
          "metadata": {},
          "output_type": "execute_result"
        }
      ],
      "source": [
        "X_test.shape"
      ]
    },
    {
      "cell_type": "code",
      "execution_count": null,
      "metadata": {
        "id": "4un_ojytP0jv",
        "outputId": "beed5be8-60ad-4978-99b9-f23024ae9835"
      },
      "outputs": [
        {
          "data": {
            "text/plain": [
              "(22128,)"
            ]
          },
          "execution_count": 58,
          "metadata": {},
          "output_type": "execute_result"
        }
      ],
      "source": [
        "y_train.shape"
      ]
    },
    {
      "cell_type": "code",
      "execution_count": null,
      "metadata": {
        "id": "atLAvEfuP0jw",
        "outputId": "d8ba08f2-e1a8-4be0-e805-1b1674b1ff1c"
      },
      "outputs": [
        {
          "data": {
            "text/plain": [
              "(5532,)"
            ]
          },
          "execution_count": 59,
          "metadata": {},
          "output_type": "execute_result"
        }
      ],
      "source": [
        "y_test.shape"
      ]
    },
    {
      "cell_type": "markdown",
      "metadata": {
        "id": "h4KV_QqSP0jw"
      },
      "source": [
        "**As we can see, there are  5532 observations in testing set, which constitute to 20% of 22128. Also, we can see that X data 7 columns, i.e. 7 explanatory variables, while y data has only 1 column.**"
      ]
    },
    {
      "cell_type": "markdown",
      "metadata": {
        "id": "zlW3mpgfP0jw"
      },
      "source": [
        "### ✤  1. Creating a Model of Linear Regression for Regression with preprocessed data:"
      ]
    },
    {
      "cell_type": "code",
      "execution_count": null,
      "metadata": {
        "id": "oKcuMAGtP0jw"
      },
      "outputs": [],
      "source": [
        "from sklearn.linear_model import LinearRegression\n",
        "from sklearn import metrics"
      ]
    },
    {
      "cell_type": "code",
      "execution_count": null,
      "metadata": {
        "id": "BPmzZzl8P0jx"
      },
      "outputs": [],
      "source": [
        "model_lin_reg = LinearRegression().fit(X_train,y_train)"
      ]
    },
    {
      "cell_type": "code",
      "execution_count": null,
      "metadata": {
        "id": "2rYq0OqsP0jx",
        "outputId": "029d2d3f-f467-4e0e-d885-6cae03993360"
      },
      "outputs": [
        {
          "data": {
            "text/plain": [
              "LinearRegression()"
            ]
          },
          "execution_count": 62,
          "metadata": {},
          "output_type": "execute_result"
        }
      ],
      "source": [
        "model_lin_reg"
      ]
    },
    {
      "cell_type": "code",
      "execution_count": null,
      "metadata": {
        "id": "EKJ3Xt_VP0jy",
        "outputId": "1f9ffa78-cc0d-4e85-bdf4-07f2b278a49d"
      },
      "outputs": [
        {
          "name": "stdout",
          "output_type": "stream",
          "text": [
            "Score is =>  0.9843001988701494\n",
            "Intercept is =>  0.0056883678249779026\n",
            "\n",
            " Coefficients are =>  [ 2.83251197e-03  1.08360583e-02 -7.44713027e-01 -3.94067648e-04\n",
            " -4.33167249e-07 -5.68836780e-03  2.73713532e-06]\n"
          ]
        }
      ],
      "source": [
        "print('Score is => ', model_lin_reg.score(X_test, y_test))\n",
        "print('Intercept is => ',model_lin_reg.intercept_)\n",
        "print('\\n Coefficients are => ', model_lin_reg.coef_)"
      ]
    },
    {
      "cell_type": "markdown",
      "metadata": {
        "id": "yh_tjAeFP0jy"
      },
      "source": [
        "**✤Let's predict by using above funciton, check all metrics, such as MAE,MSE,MAX,R2:**"
      ]
    },
    {
      "cell_type": "code",
      "execution_count": null,
      "metadata": {
        "id": "3bs1CmVNP0jz",
        "outputId": "28980b2b-a675-497c-e119-e7716f1b538d"
      },
      "outputs": [
        {
          "name": "stdout",
          "output_type": "stream",
          "text": [
            "R-squared 0.984\n",
            "MSE: 0.0\n",
            "RMSE: 0.0\n",
            "MAE: 0.0\n",
            "MAX: 0.0\n"
          ]
        }
      ],
      "source": [
        "test_pred = model_lin_reg.predict(X_test)\n",
        "print_evaluate(y_test, test_pred)"
      ]
    },
    {
      "cell_type": "markdown",
      "metadata": {
        "id": "zmulKvCQP0jz"
      },
      "source": [
        "### ✤  2. Creating a Model of Logistic Regression for Regression with preporcessed data:"
      ]
    },
    {
      "cell_type": "code",
      "execution_count": null,
      "metadata": {
        "id": "_-GkESmzP0j0"
      },
      "outputs": [],
      "source": [
        "from sklearn.linear_model import LogisticRegression"
      ]
    },
    {
      "cell_type": "code",
      "execution_count": null,
      "metadata": {
        "id": "METog1etP0j0"
      },
      "outputs": [],
      "source": [
        "model_log = LogisticRegression().fit(X_train,y_train) # fitting a model\n",
        "\n",
        "#LogisticRegression(C=1.0, class_weight=None, dual=False, fit_intercept=True,intercept_scaling=1, l1_ratio=None, max_iter=100,\n",
        "# multi_class='auto', n_jobs=None, penalty='l2',random_state=None, solver='lbfgs', tol=0.0001, verbose=0,warm_start=False)"
      ]
    },
    {
      "cell_type": "code",
      "execution_count": null,
      "metadata": {
        "id": "vybOfLCPP0j0",
        "outputId": "0386c614-7e5f-4cde-c6f0-c59c4d4bc7a1"
      },
      "outputs": [
        {
          "data": {
            "text/plain": [
              "{'year': [0],\n",
              " 'gender': [0],\n",
              " 'population': [0],\n",
              " 'gdp_for_year': [0],\n",
              " 'gdp_per_capita': [0],\n",
              " 'age_1': [0],\n",
              " 'age_2': [0],\n",
              " 'age_3': [0],\n",
              " 'age_4': [0],\n",
              " 'age_5': [0],\n",
              " 'age_6': [0],\n",
              " 'generation_1': [0],\n",
              " 'generation_2': [0],\n",
              " 'generation_3': [0],\n",
              " 'generation_4': [0],\n",
              " 'generation_5': [0],\n",
              " 'generation_6': [0]}"
            ]
          },
          "execution_count": 68,
          "metadata": {},
          "output_type": "execute_result"
        }
      ],
      "source": [
        "{ col:[0] for col in X.columns }"
      ]
    },
    {
      "cell_type": "code",
      "execution_count": null,
      "metadata": {
        "id": "sZEkUzd8P0j1"
      },
      "outputs": [],
      "source": [
        "# pr0perties from table:\n",
        "example = {'year': [1987],\n",
        " 'gender': [1],\n",
        " 'population': [308000],\n",
        " 'gdp_for_year': [2156624900],\n",
        " 'gdp_per_capita': [796],\n",
        " 'age_1': [0],\n",
        " 'age_2': [0],\n",
        " 'age_3': [0],\n",
        " 'age_4': [1], # where age is 4 => range btw 35-54\n",
        " 'age_5': [0],\n",
        " 'age_6': [0],\n",
        " 'generation_1': [0],\n",
        " 'generation_2': [1], # generation is 'Silent'\n",
        " 'generation_3': [0],\n",
        " 'generation_4': [0],\n",
        " 'generation_5': [0],\n",
        " 'generation_6': [0]}\n",
        "# creating 1 row and checking for suicides_no\n",
        "example_df = pd.DataFrame(example)"
      ]
    },
    {
      "cell_type": "code",
      "execution_count": null,
      "metadata": {
        "id": "CL62BeqoP0j1",
        "outputId": "52e908ab-13cd-4496-97cc-3e51e798787c"
      },
      "outputs": [
        {
          "data": {
            "text/html": [
              "<div>\n",
              "<style scoped>\n",
              "    .dataframe tbody tr th:only-of-type {\n",
              "        vertical-align: middle;\n",
              "    }\n",
              "\n",
              "    .dataframe tbody tr th {\n",
              "        vertical-align: top;\n",
              "    }\n",
              "\n",
              "    .dataframe thead th {\n",
              "        text-align: right;\n",
              "    }\n",
              "</style>\n",
              "<table border=\"1\" class=\"dataframe\">\n",
              "  <thead>\n",
              "    <tr style=\"text-align: right;\">\n",
              "      <th></th>\n",
              "      <th>year</th>\n",
              "      <th>gender</th>\n",
              "      <th>population</th>\n",
              "      <th>gdp_for_year</th>\n",
              "      <th>gdp_per_capita</th>\n",
              "      <th>age_1</th>\n",
              "      <th>age_2</th>\n",
              "      <th>age_3</th>\n",
              "      <th>age_4</th>\n",
              "      <th>age_5</th>\n",
              "      <th>age_6</th>\n",
              "      <th>generation_1</th>\n",
              "      <th>generation_2</th>\n",
              "      <th>generation_3</th>\n",
              "      <th>generation_4</th>\n",
              "      <th>generation_5</th>\n",
              "      <th>generation_6</th>\n",
              "    </tr>\n",
              "  </thead>\n",
              "  <tbody>\n",
              "    <tr>\n",
              "      <th>0</th>\n",
              "      <td>1987</td>\n",
              "      <td>1</td>\n",
              "      <td>308000</td>\n",
              "      <td>2156624900</td>\n",
              "      <td>796</td>\n",
              "      <td>0</td>\n",
              "      <td>0</td>\n",
              "      <td>0</td>\n",
              "      <td>1</td>\n",
              "      <td>0</td>\n",
              "      <td>0</td>\n",
              "      <td>0</td>\n",
              "      <td>1</td>\n",
              "      <td>0</td>\n",
              "      <td>0</td>\n",
              "      <td>0</td>\n",
              "      <td>0</td>\n",
              "    </tr>\n",
              "  </tbody>\n",
              "</table>\n",
              "</div>"
            ],
            "text/plain": [
              "   year  gender  population  gdp_for_year  gdp_per_capita  age_1  age_2  \\\n",
              "0  1987       1      308000    2156624900             796      0      0   \n",
              "\n",
              "   age_3  age_4  age_5  age_6  generation_1  generation_2  generation_3  \\\n",
              "0      0      1      0      0             0             1             0   \n",
              "\n",
              "   generation_4  generation_5  generation_6  \n",
              "0             0             0             0  "
            ]
          },
          "execution_count": 70,
          "metadata": {},
          "output_type": "execute_result"
        }
      ],
      "source": [
        "example_df"
      ]
    },
    {
      "cell_type": "code",
      "execution_count": null,
      "metadata": {
        "id": "r2UJ276BP0j2",
        "outputId": "d5f26bc2-1e80-4c3b-b769-51e5f3ae4336"
      },
      "outputs": [
        {
          "name": "stdout",
          "output_type": "stream",
          "text": [
            "array(['16'], dtype=int)\n"
          ]
        }
      ],
      "source": [
        "# predicting a suicide_no:\n",
        "model.predict(example_df)"
      ]
    },
    {
      "cell_type": "markdown",
      "metadata": {
        "id": "n8oG6vn7P0j2"
      },
      "source": [
        "### ✤  3. Creating a Model using Decision Tree Classifier for Classification with preprocessed data:"
      ]
    },
    {
      "cell_type": "code",
      "execution_count": null,
      "metadata": {
        "id": "tEpWZSYtP0j2"
      },
      "outputs": [],
      "source": [
        "from sklearn.model_selection import train_test_split\n",
        "# X and y arrays:\n",
        "X = final_df.drop(\"gender\", axis=1) # All columns without suicides_no\n",
        "y = final_df[\"gender\"] # Only column suicides_no\n",
        "\n",
        "X_train, X_test, y_train, y_test = train_test_split(X, y)\n"
      ]
    },
    {
      "cell_type": "code",
      "execution_count": null,
      "metadata": {
        "id": "rvLpuv9DP0j3"
      },
      "outputs": [],
      "source": [
        "from sklearn import tree"
      ]
    },
    {
      "cell_type": "code",
      "execution_count": null,
      "metadata": {
        "id": "39x-IY_yP0j3",
        "outputId": "31bbb15e-61b9-43e7-df0b-f33e012df810"
      },
      "outputs": [
        {
          "data": {
            "text/plain": [
              "DecisionTreeClassifier()"
            ]
          },
          "execution_count": 137,
          "metadata": {},
          "output_type": "execute_result"
        }
      ],
      "source": [
        "model_tree = tree.DecisionTreeClassifier()\n",
        "model_tree.fit(X_train,y_train)"
      ]
    },
    {
      "cell_type": "code",
      "execution_count": null,
      "metadata": {
        "id": "GwihFlodP0j3",
        "outputId": "3192dad8-062b-4ecd-cc66-8ccbca8c03f9"
      },
      "outputs": [
        {
          "name": "stdout",
          "output_type": "stream",
          "text": [
            "Score is =>  0.8013015184381779\n"
          ]
        }
      ],
      "source": [
        "print('Score is => ', model_tree.score(X_test, y_test))"
      ]
    },
    {
      "cell_type": "code",
      "execution_count": null,
      "metadata": {
        "id": "i2yJxyV4P0j4",
        "outputId": "00667b1a-5f13-44d8-dcdc-f5f739ae54d3"
      },
      "outputs": [
        {
          "name": "stdout",
          "output_type": "stream",
          "text": [
            "              precision    recall  f1-score   support\n",
            "\n",
            "           0       0.81      0.79      0.80      3478\n",
            "           1       0.80      0.81      0.80      3437\n",
            "\n",
            "    accuracy                           0.80      6915\n",
            "   macro avg       0.80      0.80      0.80      6915\n",
            "weighted avg       0.80      0.80      0.80      6915\n",
            "\n"
          ]
        }
      ],
      "source": [
        "from sklearn.metrics import classification_report\n",
        "\n",
        "predicted = model_tree.predict(X_test)\n",
        "report = classification_report(y_test, predicted)\n",
        "print(report)"
      ]
    },
    {
      "cell_type": "markdown",
      "metadata": {
        "id": "qG94LfjJP0j4"
      },
      "source": [
        "**✤Let's predict by using above funciton, check all metrics, such as MAE,MSE,MAX,R2:**"
      ]
    },
    {
      "cell_type": "code",
      "execution_count": null,
      "metadata": {
        "id": "xkRXLgzhP0j4",
        "outputId": "51b33acf-44a3-417a-f381-c9839849e203"
      },
      "outputs": [
        {
          "name": "stdout",
          "output_type": "stream",
          "text": [
            "R-squared 0.205\n",
            "MSE: 0.199\n",
            "RMSE: 0.446\n",
            "MAE: 0.199\n",
            "MAX: 1\n"
          ]
        }
      ],
      "source": [
        "test_pred_3 = model_tree.predict(X_test)\n",
        "print_evaluate(y_test, test_pred_3)"
      ]
    },
    {
      "cell_type": "code",
      "execution_count": null,
      "metadata": {
        "id": "IGH3iZNUP0j4"
      },
      "outputs": [],
      "source": [
        "# tree.plot_tree(model_tree) "
      ]
    },
    {
      "cell_type": "markdown",
      "metadata": {
        "id": "Y2w0QF4TP0j5"
      },
      "source": [
        "### ✤  4. Creating a Model using KNN Classifier for Classification with preprocessed data:"
      ]
    },
    {
      "cell_type": "code",
      "execution_count": null,
      "metadata": {
        "id": "q6kVONDkP0j5"
      },
      "outputs": [],
      "source": [
        "# X and y arrays:\n",
        "X = new_data.drop(\"year\", axis=1) # All columns without suicides_no\n",
        "y = new_data[\"year\"] # Only column suicides_no\n",
        "X_train, X_test, y_train, y_test = train_test_split(X, y, test_size=0.2, random_state=42)"
      ]
    },
    {
      "cell_type": "code",
      "execution_count": null,
      "metadata": {
        "id": "nbkky8sIP0j5",
        "outputId": "68ce08b4-13e9-4908-c696-0f1bec839e61"
      },
      "outputs": [
        {
          "data": {
            "text/plain": [
              "KNeighborsClassifier()"
            ]
          },
          "execution_count": 150,
          "metadata": {},
          "output_type": "execute_result"
        }
      ],
      "source": [
        "from sklearn.neighbors import KNeighborsClassifier\n",
        "\n",
        "knn_model = KNeighborsClassifier()\n",
        "knn_model.fit(X_train,y_train)"
      ]
    },
    {
      "cell_type": "code",
      "execution_count": null,
      "metadata": {
        "id": "HeZT4CNLP0j6",
        "outputId": "634077d7-4d49-4bf1-d2e3-ee3bf265a5ff"
      },
      "outputs": [
        {
          "name": "stdout",
          "output_type": "stream",
          "text": [
            "0.9985538684020245\n"
          ]
        }
      ],
      "source": [
        "print(knn_model.score(X_test,y_test))\n"
      ]
    },
    {
      "cell_type": "markdown",
      "metadata": {
        "id": "mK8BRRIyP0j6"
      },
      "source": [
        "**✤Let's predict by using above funciton, check all metrics, such as MAE,MSE,MAX,R2:**"
      ]
    },
    {
      "cell_type": "code",
      "execution_count": null,
      "metadata": {
        "id": "FmX0g0hTP0j6",
        "outputId": "9ae8bd1a-42d6-47ab-d150-945b4a071ea7"
      },
      "outputs": [
        {
          "name": "stdout",
          "output_type": "stream",
          "text": [
            "R-squared 0.997\n",
            "MSE: 0.2\n",
            "RMSE: 0.448\n",
            "MAE: 0.014\n",
            "MAX: 24\n"
          ]
        }
      ],
      "source": [
        "test_pred_4 = knn_model.predict(X_test)\n",
        "print_evaluate(y_test, test_pred_4)"
      ]
    },
    {
      "cell_type": "code",
      "execution_count": null,
      "metadata": {
        "id": "LUL-o9AcP0j7",
        "outputId": "a03c23ee-5fa9-48bb-c473-954e125a968b"
      },
      "outputs": [
        {
          "name": "stdout",
          "output_type": "stream",
          "text": [
            "R-squared 0.041\n",
            "MSE: 788206.647\n",
            "RMSE: 887.81\n",
            "MAE: 223.139\n",
            "MAX: 21628\n"
          ]
        }
      ],
      "source": [
        "test_pred_4 = knn_model.predict(X_test)\n",
        "print_evaluate(y_test, test_pred_4)"
      ]
    },
    {
      "cell_type": "code",
      "execution_count": null,
      "metadata": {
        "id": "-_D4IM_vP0j7",
        "outputId": "fdfa0704-61b5-44c8-f1fe-6d768083e591"
      },
      "outputs": [
        {
          "name": "stdout",
          "output_type": "stream",
          "text": [
            "Preliminary model score:\n",
            "0.1393709327548807\n"
          ]
        },
        {
          "data": {
            "image/png": "[encoded data removed]",
            "text/plain": [
              "<Figure size 432x288 with 1 Axes>"
            ]
          },
          "metadata": {
            "needs_background": "light"
          },
          "output_type": "display_data"
        }
      ],
      "source": [
        "# Plotting a Model Accuracy graph:\n",
        "print(\"Preliminary model score:\")\n",
        "print(knn_model.score(X_test,y_test))\n",
        "\n",
        "no_neighbors = np.arange(1, 9)\n",
        "train_accuracy = np.empty(len(no_neighbors))\n",
        "test_accuracy = np.empty(len(no_neighbors))\n",
        "\n",
        "for i, k in enumerate(no_neighbors):\n",
        "    knn = KNeighborsClassifier(n_neighbors=k)\n",
        "    # Fit the classifier to the training data\n",
        "    knn.fit(X_train,y_train)    \n",
        "    # Compute accuracy on the training set\n",
        "    train_accuracy[i] = knn.score(X_train, y_train)\n",
        "    # Compute accuracy on the testing set\n",
        "    test_accuracy[i] = knn.score(X_test, y_test)\n",
        "\n",
        "# Visualization of k values vs accuracy\n",
        "plt.title('KNN- Classification Model Accuracy', fontsize=17.5)\n",
        "plt.plot(no_neighbors, test_accuracy, label = 'Testing Accuracy')\n",
        "plt.plot(no_neighbors, train_accuracy, label = 'Training Accuracy')\n",
        "plt.legend(fontsize=14)\n",
        "plt.xlabel('Number of Neighbors',fontsize=14)\n",
        "plt.ylabel('Accuracy',fontsize=14)\n",
        "plt.show()"
      ]
    },
    {
      "cell_type": "markdown",
      "metadata": {
        "id": "NXsBHPY4P0j7"
      },
      "source": [
        "## ✤ Collecting all data Model Evaluation Metrics in one Dataframe:"
      ]
    },
    {
      "cell_type": "code",
      "execution_count": null,
      "metadata": {
        "id": "w8tzepGaP0j8",
        "outputId": "dd6e23d3-f396-43d9-8b44-3cdf195b39d4"
      },
      "outputs": [
        {
          "data": {
            "text/html": [
              "<div>\n",
              "<style scoped>\n",
              "    .dataframe tbody tr th:only-of-type {\n",
              "        vertical-align: middle;\n",
              "    }\n",
              "\n",
              "    .dataframe tbody tr th {\n",
              "        vertical-align: top;\n",
              "    }\n",
              "\n",
              "    .dataframe thead th {\n",
              "        text-align: right;\n",
              "    }\n",
              "</style>\n",
              "<table border=\"1\" class=\"dataframe\">\n",
              "  <thead>\n",
              "    <tr style=\"text-align: right;\">\n",
              "      <th></th>\n",
              "      <th>Is_Preprocessed</th>\n",
              "      <th>Score</th>\n",
              "      <th>R-squared</th>\n",
              "      <th>Mean_S_Error</th>\n",
              "      <th>Root_Mean_S_Error</th>\n",
              "      <th>Mean_abs_Error</th>\n",
              "      <th>Max_Error</th>\n",
              "    </tr>\n",
              "  </thead>\n",
              "  <tbody>\n",
              "    <tr>\n",
              "      <th>KMeans Clustering</th>\n",
              "      <td>No</td>\n",
              "      <td>64.89 %</td>\n",
              "      <td>0.649</td>\n",
              "      <td>5278.7</td>\n",
              "      <td>72.18</td>\n",
              "      <td>12006</td>\n",
              "      <td>2405</td>\n",
              "    </tr>\n",
              "    <tr>\n",
              "      <th>Linear Regression</th>\n",
              "      <td>Yes.</td>\n",
              "      <td>79.6 %</td>\n",
              "      <td>0.784</td>\n",
              "      <td>0.402</td>\n",
              "      <td>0. 836</td>\n",
              "      <td>0.271</td>\n",
              "      <td>37</td>\n",
              "    </tr>\n",
              "    <tr>\n",
              "      <th>Decision Tree Classif</th>\n",
              "      <td>Yes.</td>\n",
              "      <td>80 %</td>\n",
              "      <td>0.861</td>\n",
              "      <td>0.199</td>\n",
              "      <td>0.446</td>\n",
              "      <td>0.199</td>\n",
              "      <td>1</td>\n",
              "    </tr>\n",
              "    <tr>\n",
              "      <th>KNN- Classification</th>\n",
              "      <td>Yes.</td>\n",
              "      <td>98.1 %</td>\n",
              "      <td>0.997</td>\n",
              "      <td>0.245</td>\n",
              "      <td>0.448</td>\n",
              "      <td>0.014</td>\n",
              "      <td>24</td>\n",
              "    </tr>\n",
              "  </tbody>\n",
              "</table>\n",
              "</div>"
            ],
            "text/plain": [
              "                      Is_Preprocessed    Score R-squared Mean_S_Error  \\\n",
              "KMeans Clustering                  No  64.89 %     0.649       5278.7   \n",
              "Linear Regression                Yes.   79.6 %     0.784       0.402    \n",
              "Decision Tree Classif            Yes.     80 %     0.861        0.199   \n",
              "KNN- Classification              Yes.   98.1 %     0.997        0.245   \n",
              "\n",
              "                      Root_Mean_S_Error Mean_abs_Error Max_Error  \n",
              "KMeans Clustering                 72.18          12006      2405  \n",
              "Linear Regression                0. 836          0.271        37  \n",
              "Decision Tree Classif             0.446          0.199         1  \n",
              "KNN- Classification               0.448          0.014        24  "
            ]
          },
          "execution_count": 162,
          "metadata": {},
          "output_type": "execute_result"
        }
      ],
      "source": [
        "Is_preprocessed = ['No', 'Yes.', 'Yes.', 'Yes.']\n",
        "Score = ['64.89 %','79.6 %','80 %','98.1 %']\n",
        "R_squared = ['0.649', ' 0.784', '0.861', '0.997']\n",
        "MSE = ['5278.7', '0.402 ', ' 0.199', '0.245']\n",
        "RMSE = ['72.18', '0. 836', '0.446', '0.448']\n",
        "MAE = ['12006', '0.271', '0.199', '0.014']\n",
        "MAX = ['2405', '37', '1', '24']\n",
        "\n",
        "columns = {'Is_Preprocessed':Is_preprocessed,'Score':Score, 'R-squared':R_squared,'Mean_S_Error':MSE,'Root_Mean_S_Error':RMSE,'Mean_abs_Error':MAE,'Max_Error':MAX}\n",
        "\n",
        "models=['KMeans Clustering','Linear Regression','Decision Tree Classif','KNN- Classification']\n",
        "result = pd.DataFrame(data = columns,index = models)\n",
        "result\n",
        "\n"
      ]
    },
    {
      "cell_type": "markdown",
      "metadata": {
        "id": "nLrvWEJ0P0j8"
      },
      "source": [
        "## ✤ Conclusion"
      ]
    },
    {
      "cell_type": "markdown",
      "metadata": {
        "id": "MBSetE9FP0j8"
      },
      "source": [
        "✤ In general, These dataset about Suicide Rates  is was so huge - **27 820 observations and 12 columns**, about among 100 countries during 30 years from 1985 to 2015. \n",
        "\n",
        "+ After preprocessing, there was **only 8 columns with 22128 observations**\n",
        "+ Also, I made dummy variables, and it became **17 columns same rows**"
      ]
    },
    {
      "cell_type": "markdown",
      "metadata": {
        "id": "8pJoH2OjP0j9"
      },
      "source": [
        "### ✤ Firstly, about preparing and preprocessing data:\n",
        "**✤ I find out how many columns and rows was in this dataset, then I manipulated with my data by these steps=>** \n",
        "+ checking for duplicates, for NAN/empty values,\n",
        "+ dropping null rows by functions like **drop()**,\n",
        "+ also deleting some unnecessary columns **drop()**,\n",
        "+ retrieving unique names for categorical data like generation,countries, age groups\n",
        "+ in order to understand,where I can use dummy variables by creating them with function **get_dummies()**\n",
        "\n",
        "### ✤ Secondly, about Normalisation and Standardisation:\n",
        "+ ** At the beginning, I was normalising columns one by one, by formula by myself.**\n",
        "+ ** After that, I used ready imported libraries called preprocessing, from it I used Normaliser() and StandardScaler() functions.**\n",
        "+ **✤  By this way, I applied to the whole data, firstly I normalised. also I tried to standartising data.**\n",
        "\n",
        "### ✤ Thirdly, about creating and comparing all Models:\n",
        "+ I splitted my data for train and test data, with **ratio-80/20**\n",
        "+ Training set has 22128 , while testing set has 5532 observations.\n",
        "\n",
        "\n",
        "+ ✤**For Without preproccessed Data**, I created clustering model called \"K-MEANS\" and checked model evalustion by importing library \"METRICS\", also I plotted a Correlation Matrix by sns library.\n",
        "\n",
        "\n",
        "+ ✤**For Preproccessed Data** =>\n",
        "\n",
        "+ For **Regression**, I created **Linear  and Logistic Regression Models**, by **importing them from library SKLEARN**.\n",
        "\n",
        "+ For **Classification**, I created **Decision Tree Classifier and KNN- Classification Models**, also by **importing library SKLEARN**.  \n",
        "\n",
        "#### COMPARING METRICS btw Models:\n",
        "+ From table, where I have collected all metrics, we can see that **Accuracy scores are higher **  in Classification models.\n",
        "\n",
        "\n",
        "+ The **R^2  metric** provides an indication of the goodness of fit of a set of predictions. In statistics, IT is   coefficient of determination. It goes between 0 and 1.\n",
        "+ So, by looking to Clustering and Regression models, it is also better in Classification models, , it is 0.86 and 0.97, it means than it is close to 1, good fit to the actual values.\n",
        "\n",
        " \n",
        "+ By comparing MAE, Mean Absolute Error is the average of the absolute differences between predictions and actual values.\n",
        "+ So, it shows how wrong the predictions were. In regression it was about 24 and 37, however Decision Tree Classifier Model had 1 , in good way it should be closer to 0, but here is good prediction.\n",
        "\n",
        "\n",
        "+ Furthermore, we can compare **interaction btw MAE and RMSE**, according to table, everywhere RMSE is **0.3 greater** than MAE, it means that  algorithms were  very accurate, it will be reasonably good predictions."
      ]
    },
    {
      "cell_type": "markdown",
      "metadata": {
        "id": "EtK6qxZbP0j9"
      },
      "source": [
        "**✤ In conclusion, I would use  \"Decision Tree Classifier Model\", it is a little bit better than other models!.**"
      ]
    },
    {
      "cell_type": "markdown",
      "metadata": {
        "id": "2V_nn5glP0j9"
      },
      "source": [
        "### ✤ As a result, I have accuracy score increased from 64.89 % to 98 %"
      ]
    },
    {
      "cell_type": "markdown",
      "metadata": {
        "id": "uVqs3wHCP0j9"
      },
      "source": [
        "✤ To conclude, it was a huge experience for me to analyse this Worldwide Suicide Rates from 1985-2015. Finally, I understand a lot of things,that will help me in the future!)"
      ]
    }
  ],
  "metadata": {
    "kernelspec": {
      "display_name": "Python 3",
      "language": "python",
      "name": "python3"
    },
    "language_info": {
      "codemirror_mode": {
        "name": "ipython",
        "version": 3
      },
      "file_extension": ".py",
      "mimetype": "text/x-python",
      "name": "python",
      "nbconvert_exporter": "python",
      "pygments_lexer": "ipython3",
      "version": "3.8.5"
    },
    "colab": {
      "provenance": []
    }
  },
  "nbformat": 4,
  "nbformat_minor": 0
}
