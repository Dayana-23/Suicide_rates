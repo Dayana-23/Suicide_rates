{
  "cells": [
    {
      "cell_type": "markdown",
      "metadata": {
        "id": "7fY6OZ5aUWjc"
      },
      "source": [
        "  # ✤ Feature Selection with all 3 Methods and ML Regression models comparison\n",
        "### Task:\n",
        "\n",
        "+ Make a preprocessing with your own dataset and answer the following questions: \n",
        "1.\t\"what (intro) ,  (describe and show original dataset)\n",
        "2.\twhy ( methods ) ,\n",
        "3.\t how ( by builtt-in functions or manually) \"   \n",
        "4.\tinclude all the methods for feature selection and feature exploration ( explain each selection from beginning of selection ( row data )\n",
        "\n",
        "+ the comparison resullts of  the models  ( regression /classification / clustering) with preprocessing ( at least 2 different method)  and without features.\n"
      ]
    },
    {
      "cell_type": "markdown",
      "metadata": {
        "id": "x4evXpp4UWjg"
      },
      "source": [
        "# ✤ Analysis of Worldwide Suicide Rates\n",
        "### ✤ Introduction\n",
        "\n",
        "&emsp; According to this dataset of Global Suicide Rates , people of different ages have committed suicides because of pressure, barriers, or a lack of mental healthcare across all countries. In addition, in this analysis I am going to compare the prediction of the  suicides number depending on different age groups, genders, generations, countries, and ratio of suicides per 100k population over period of 1985 and 2015 years.\n",
        "\n",
        "&emsp;  Suicide takes place throughout the life and it has been one of the leading causes of death in many countries. Unfortunately, each suicide is a tragic loss of human's life that has own consequences on people left apart, like family and friends.\n",
        "\n",
        " &emsp;  The goal of the Global Suicide Rates analysis is to demonstrate statistics of 27 820 observations, which grouped by certain age ranges, gender(male/female), number of suicides, population of country, GDP (gross domestic product) per year and person, HDI (human development index) different generations during the period of 1985 & 2015 across the world. In addition, we will find which factors had more influence on the number of suicides in 101 countries.\n",
        "\n",
        "\n",
        "My analysis will be based on dataset during the 30 years, because I found this great dataset on Kaggle website=> \n",
        "+ https://www.kaggle.com/russellyates88/suicide-rates-overview-1985-to-2016"
      ]
    },
    {
      "cell_type": "markdown",
      "metadata": {
        "id": "DYUvYhqmUWjh"
      },
      "source": [
        "## 2. Data description\n",
        "\n",
        "+  Country –  geographical location on a map.\n",
        "+  Year – the time when suicide happened.\n",
        "+  Sex – gender as Male/Female.\n",
        "+  Age – age of individuals who committed suicide.\n",
        "+  Suicides_no – number of suicides.\n",
        "+  Population – people living in a particular country.\n",
        "+  Ratio(suicides_no/pop) – # of suicides per country's population.\n",
        "+  HDI for year – human development index in each year.\n",
        "+  GDP_per year – gross domestic value in each year.\n",
        "+  GDP_per_capita – gross domestic value for each person. \n",
        "+  Generation – name of different age groups."
      ]
    },
    {
      "cell_type": "code",
      "execution_count": null,
      "metadata": {
        "id": "ShByz7cUUWji"
      },
      "outputs": [],
      "source": [
        "#Importing 'must-have' Libraries like these:\n",
        "\n",
        "import numpy as np  # to access data in any formats.\n",
        "import pandas as pd  # to work with data frame formats.\n",
        "import warnings  # do not show matching warnings\n",
        "warnings.filterwarnings('ignore')\n",
        "%matplotlib inline"
      ]
    },
    {
      "cell_type": "code",
      "execution_count": null,
      "metadata": {
        "id": "84oJpQ7YUWjk"
      },
      "outputs": [],
      "source": [
        "#observing my dataset from 'suicide' csv file:\n",
        "data = pd.read_excel('suicide-excel.xls')"
      ]
    },
    {
      "cell_type": "code",
      "execution_count": null,
      "metadata": {
        "id": "Ao4OXJFGUWjk",
        "outputId": "d524f019-6dab-4be1-e544-d10c5f740e6a"
      },
      "outputs": [
        {
          "data": {
            "text/plain": [
              "Index(['country', 'year', 'sex', 'age', 'suicides_no', 'population',\n",
              "       'suicides/100k pop', 'country-year', 'HDI for year',\n",
              "       ' gdp_for_year ($) ', 'gdp_per_capita ($)', 'generation'],\n",
              "      dtype='object')"
            ]
          },
          "execution_count": 3,
          "metadata": {},
          "output_type": "execute_result"
        }
      ],
      "source": [
        "data.columns"
      ]
    },
    {
      "cell_type": "code",
      "execution_count": null,
      "metadata": {
        "id": "gs6CUQmAUWjl"
      },
      "outputs": [],
      "source": [
        "data.columns = data.columns.str.strip().str.lower().str.replace(' ', '').str.replace('(', '').str.replace(')', '').str.replace('$', '')"
      ]
    },
    {
      "cell_type": "code",
      "execution_count": null,
      "metadata": {
        "id": "ijbDXUtJUWjm"
      },
      "outputs": [],
      "source": [
        "#by using rename() function:\n",
        "data.rename(columns={'sex':'gender'},inplace=True)"
      ]
    },
    {
      "cell_type": "code",
      "execution_count": null,
      "metadata": {
        "id": "mfCg1oBUUWjm",
        "outputId": "9ad6e3a9-9928-4744-b799-f7d4f7c694ce"
      },
      "outputs": [
        {
          "data": {
            "text/html": [
              "<div>\n",
              "<style scoped>\n",
              "    .dataframe tbody tr th:only-of-type {\n",
              "        vertical-align: middle;\n",
              "    }\n",
              "\n",
              "    .dataframe tbody tr th {\n",
              "        vertical-align: top;\n",
              "    }\n",
              "\n",
              "    .dataframe thead th {\n",
              "        text-align: right;\n",
              "    }\n",
              "</style>\n",
              "<table border=\"1\" class=\"dataframe\">\n",
              "  <thead>\n",
              "    <tr style=\"text-align: right;\">\n",
              "      <th></th>\n",
              "      <th>country</th>\n",
              "      <th>year</th>\n",
              "      <th>gender</th>\n",
              "      <th>age</th>\n",
              "      <th>suicides_no</th>\n",
              "      <th>population</th>\n",
              "      <th>suicides/100kpop</th>\n",
              "      <th>country-year</th>\n",
              "      <th>hdiforyear</th>\n",
              "      <th>gdp_for_year</th>\n",
              "      <th>gdp_per_capita</th>\n",
              "      <th>generation</th>\n",
              "    </tr>\n",
              "  </thead>\n",
              "  <tbody>\n",
              "    <tr>\n",
              "      <th>0</th>\n",
              "      <td>Albania</td>\n",
              "      <td>1987</td>\n",
              "      <td>male</td>\n",
              "      <td>15-24 years</td>\n",
              "      <td>21</td>\n",
              "      <td>312900</td>\n",
              "      <td>6.71</td>\n",
              "      <td>Albania1987</td>\n",
              "      <td>NaN</td>\n",
              "      <td>2,156,624,900</td>\n",
              "      <td>796</td>\n",
              "      <td>Generation X</td>\n",
              "    </tr>\n",
              "    <tr>\n",
              "      <th>1</th>\n",
              "      <td>Albania</td>\n",
              "      <td>1987</td>\n",
              "      <td>male</td>\n",
              "      <td>35-54 years</td>\n",
              "      <td>16</td>\n",
              "      <td>308000</td>\n",
              "      <td>5.19</td>\n",
              "      <td>Albania1987</td>\n",
              "      <td>NaN</td>\n",
              "      <td>2,156,624,900</td>\n",
              "      <td>796</td>\n",
              "      <td>Silent</td>\n",
              "    </tr>\n",
              "    <tr>\n",
              "      <th>2</th>\n",
              "      <td>Albania</td>\n",
              "      <td>1987</td>\n",
              "      <td>female</td>\n",
              "      <td>15-24 years</td>\n",
              "      <td>14</td>\n",
              "      <td>289700</td>\n",
              "      <td>4.83</td>\n",
              "      <td>Albania1987</td>\n",
              "      <td>NaN</td>\n",
              "      <td>2,156,624,900</td>\n",
              "      <td>796</td>\n",
              "      <td>Generation X</td>\n",
              "    </tr>\n",
              "    <tr>\n",
              "      <th>3</th>\n",
              "      <td>Albania</td>\n",
              "      <td>1987</td>\n",
              "      <td>male</td>\n",
              "      <td>75+ years</td>\n",
              "      <td>1</td>\n",
              "      <td>21800</td>\n",
              "      <td>4.59</td>\n",
              "      <td>Albania1987</td>\n",
              "      <td>NaN</td>\n",
              "      <td>2,156,624,900</td>\n",
              "      <td>796</td>\n",
              "      <td>G.I. Generation</td>\n",
              "    </tr>\n",
              "    <tr>\n",
              "      <th>4</th>\n",
              "      <td>Albania</td>\n",
              "      <td>1987</td>\n",
              "      <td>male</td>\n",
              "      <td>25-34 years</td>\n",
              "      <td>9</td>\n",
              "      <td>274300</td>\n",
              "      <td>3.28</td>\n",
              "      <td>Albania1987</td>\n",
              "      <td>NaN</td>\n",
              "      <td>2,156,624,900</td>\n",
              "      <td>796</td>\n",
              "      <td>Boomers</td>\n",
              "    </tr>\n",
              "  </tbody>\n",
              "</table>\n",
              "</div>"
            ],
            "text/plain": [
              "   country  year  gender          age  suicides_no  population  \\\n",
              "0  Albania  1987    male  15-24 years           21      312900   \n",
              "1  Albania  1987    male  35-54 years           16      308000   \n",
              "2  Albania  1987  female  15-24 years           14      289700   \n",
              "3  Albania  1987    male    75+ years            1       21800   \n",
              "4  Albania  1987    male  25-34 years            9      274300   \n",
              "\n",
              "   suicides/100kpop country-year  hdiforyear   gdp_for_year  gdp_per_capita  \\\n",
              "0              6.71  Albania1987         NaN  2,156,624,900             796   \n",
              "1              5.19  Albania1987         NaN  2,156,624,900             796   \n",
              "2              4.83  Albania1987         NaN  2,156,624,900             796   \n",
              "3              4.59  Albania1987         NaN  2,156,624,900             796   \n",
              "4              3.28  Albania1987         NaN  2,156,624,900             796   \n",
              "\n",
              "        generation  \n",
              "0     Generation X  \n",
              "1           Silent  \n",
              "2     Generation X  \n",
              "3  G.I. Generation  \n",
              "4          Boomers  "
            ]
          },
          "execution_count": 6,
          "metadata": {},
          "output_type": "execute_result"
        }
      ],
      "source": [
        "data.head()"
      ]
    },
    {
      "cell_type": "markdown",
      "metadata": {
        "id": "vgf6feciUWjm"
      },
      "source": [
        "**✤  From results of dataset, I can count total number of rows & columns, with shape function :**"
      ]
    },
    {
      "cell_type": "code",
      "execution_count": null,
      "metadata": {
        "id": "aGu6jxCZUWjn",
        "outputId": "43ac1b1d-7940-41b7-feef-239dba2a4be9"
      },
      "outputs": [
        {
          "name": "stdout",
          "output_type": "stream",
          "text": [
            "(27820, 12)\n"
          ]
        }
      ],
      "source": [
        "print(data.shape)"
      ]
    },
    {
      "cell_type": "code",
      "execution_count": null,
      "metadata": {
        "id": "nlsCeJlNUWjn",
        "outputId": "05c8cb7d-63cf-4ce3-9f26-5a608b9c516e"
      },
      "outputs": [
        {
          "name": "stdout",
          "output_type": "stream",
          "text": [
            "\n",
            " year's - Unique values : \n",
            " [1987 1988 1989 1992 1993 1994 1995 1996 1997 1998 1999 2000 2001 2002\n",
            " 2003 2004 2005 2006 2007 2008 2009 2010 1985 1986 1990 1991 2012 2013\n",
            " 2014 2015 2011 2016]\n",
            "\n",
            " age's - Unique values : \n",
            " ['15-24 years' '35-54 years' '75+ years' '25-34 years' '55-74 years'\n",
            " '5-14 years']\n",
            "\n",
            " generation's - Unique values : \n",
            " ['Generation X' 'Silent' 'G.I. Generation' 'Boomers' 'Millenials'\n",
            " 'Generation Z']\n"
          ]
        }
      ],
      "source": [
        "columns = ['year', 'age', 'generation']\n",
        "for col in columns:\n",
        "    print(\"\\n {}'s - Unique values : \\n {}\".format(col, data[col].unique()))"
      ]
    },
    {
      "cell_type": "markdown",
      "metadata": {
        "id": "ADzqZq7nUWjo"
      },
      "source": [
        "✤ In this dataset,as you noticed from last 5 rows in table,there is no rows with data in 2016 year, because it is incomplete for some countries. So,I want to delete data related to this year (2016):"
      ]
    },
    {
      "cell_type": "code",
      "execution_count": null,
      "metadata": {
        "id": "I0kxfZGHUWjo"
      },
      "outputs": [],
      "source": [
        "data = data[data['year'] != 2016]\n",
        "# removing specific values in a dataframe"
      ]
    },
    {
      "cell_type": "code",
      "execution_count": null,
      "metadata": {
        "id": "Bkly0lFKUWjo",
        "outputId": "3f00867b-40df-41d7-eeeb-f7d213180131"
      },
      "outputs": [
        {
          "data": {
            "text/plain": [
              "(27660, 12)"
            ]
          },
          "execution_count": 10,
          "metadata": {},
          "output_type": "execute_result"
        }
      ],
      "source": [
        "data.shape"
      ]
    },
    {
      "cell_type": "code",
      "execution_count": null,
      "metadata": {
        "id": "7p3CFs7yUWjp"
      },
      "outputs": [],
      "source": [
        "# deleting unneeded columns:\n",
        "#data.drop(['country-year'], inplace=True)\n",
        "data.drop('country-year', axis=1, inplace=True)"
      ]
    },
    {
      "cell_type": "markdown",
      "metadata": {
        "id": "5CCX81f9UWjp"
      },
      "source": [
        "✤ **Now I can check and see, if there are any NULL values:**"
      ]
    },
    {
      "cell_type": "code",
      "execution_count": null,
      "metadata": {
        "id": "XQNKkeBcUWjp",
        "outputId": "f4c44880-9090-4ae6-f2ac-2e0eb5b5a6bb"
      },
      "outputs": [
        {
          "data": {
            "text/plain": [
              "country             False\n",
              "year                False\n",
              "gender              False\n",
              "age                 False\n",
              "suicides_no         False\n",
              "population          False\n",
              "suicides/100kpop    False\n",
              "hdiforyear           True\n",
              "gdp_for_year        False\n",
              "gdp_per_capita      False\n",
              "generation          False\n",
              "dtype: bool"
            ]
          },
          "execution_count": 12,
          "metadata": {},
          "output_type": "execute_result"
        }
      ],
      "source": [
        "# again by using isnull() function and we count empty values in columns:\n",
        "data.isnull().any()\n",
        "# So, bollean \"false\" means that there is no null data:"
      ]
    },
    {
      "cell_type": "markdown",
      "metadata": {
        "id": "ebyz0qNqUWjq"
      },
      "source": [
        "**✤ As you can see from initial 5 rows of table, there are null values(NaN) in HDI column, and we should guess all other missing values from table:**"
      ]
    },
    {
      "cell_type": "code",
      "execution_count": null,
      "metadata": {
        "id": "72fOSc-hUWjq",
        "outputId": "6a34bb6e-c24e-4bf2-93bf-07da9980b9d0"
      },
      "outputs": [
        {
          "data": {
            "text/plain": [
              "country                 0\n",
              "year                    0\n",
              "gender                  0\n",
              "age                     0\n",
              "suicides_no             0\n",
              "population              0\n",
              "suicides/100kpop        0\n",
              "hdiforyear          19296\n",
              "gdp_for_year            0\n",
              "gdp_per_capita          0\n",
              "generation              0\n",
              "dtype: int64"
            ]
          },
          "execution_count": 13,
          "metadata": {},
          "output_type": "execute_result"
        }
      ],
      "source": [
        "# by using isnull() function and we count empty values in columns:\n",
        "data.isnull().sum()"
      ]
    },
    {
      "cell_type": "markdown",
      "metadata": {
        "id": "EN5d35JvUWjq"
      },
      "source": [
        "**I checked my dataset in  file, and here I understand that:**\n",
        "+ In **\"HDI column\"** is Missing at Random(MAR) => **Method of Filling is \"Mean\"**"
      ]
    },
    {
      "cell_type": "code",
      "execution_count": null,
      "metadata": {
        "id": "BbsFUvjhUWjr"
      },
      "outputs": [],
      "source": [
        "# importing new library to fill with mean:\n",
        "from sklearn.impute import SimpleImputer\n",
        "\n",
        "# Missing values is represented using NaN: \n",
        "imputer = SimpleImputer(missing_values=np.NaN, strategy='mean') \n",
        "data.hdiforyear = imputer.fit_transform(data['hdiforyear'].values.reshape(-1,1))"
      ]
    },
    {
      "cell_type": "markdown",
      "metadata": {
        "id": "6nWy-azrUWjr"
      },
      "source": [
        "## ✤  Preparing a variables for 'Age- ranges':"
      ]
    },
    {
      "cell_type": "code",
      "execution_count": null,
      "metadata": {
        "id": "xuIpHHNhUWjr"
      },
      "outputs": [],
      "source": [
        "data['age'] = data['age'].str.replace('years','')"
      ]
    },
    {
      "cell_type": "code",
      "execution_count": null,
      "metadata": {
        "id": "B_PwxI5eUWjr",
        "outputId": "55bbb7d4-4d83-44c8-ae1e-82b941cbd58f"
      },
      "outputs": [
        {
          "data": {
            "text/plain": [
              "array(['15-24 ', '35-54 ', '75+ ', '25-34 ', '55-74 ', '5-14 '],\n",
              "      dtype=object)"
            ]
          },
          "execution_count": 16,
          "metadata": {},
          "output_type": "execute_result"
        }
      ],
      "source": [
        "data['age'].unique()"
      ]
    },
    {
      "cell_type": "code",
      "execution_count": null,
      "metadata": {
        "id": "u-tCzNhiUWjs"
      },
      "outputs": [],
      "source": [
        "data['age'] = data['age'].replace('5-14 ',1).replace('15-24 ',2).replace('25-34 ',3).replace('35-54 ',4).replace('55-74 ',5).replace('75+ ',6)"
      ]
    },
    {
      "cell_type": "code",
      "execution_count": null,
      "metadata": {
        "id": "dYdUfI3mUWjs",
        "outputId": "36dc4de5-cca1-4a53-d33a-1532baa87aa5"
      },
      "outputs": [
        {
          "data": {
            "text/html": [
              "<div>\n",
              "<style scoped>\n",
              "    .dataframe tbody tr th:only-of-type {\n",
              "        vertical-align: middle;\n",
              "    }\n",
              "\n",
              "    .dataframe tbody tr th {\n",
              "        vertical-align: top;\n",
              "    }\n",
              "\n",
              "    .dataframe thead th {\n",
              "        text-align: right;\n",
              "    }\n",
              "</style>\n",
              "<table border=\"1\" class=\"dataframe\">\n",
              "  <thead>\n",
              "    <tr style=\"text-align: right;\">\n",
              "      <th></th>\n",
              "      <th>country</th>\n",
              "      <th>year</th>\n",
              "      <th>gender</th>\n",
              "      <th>age</th>\n",
              "      <th>suicides_no</th>\n",
              "      <th>population</th>\n",
              "      <th>suicides/100kpop</th>\n",
              "      <th>hdiforyear</th>\n",
              "      <th>gdp_for_year</th>\n",
              "      <th>gdp_per_capita</th>\n",
              "      <th>generation</th>\n",
              "    </tr>\n",
              "  </thead>\n",
              "  <tbody>\n",
              "    <tr>\n",
              "      <th>0</th>\n",
              "      <td>Albania</td>\n",
              "      <td>1987</td>\n",
              "      <td>male</td>\n",
              "      <td>2</td>\n",
              "      <td>21</td>\n",
              "      <td>312900</td>\n",
              "      <td>6.71</td>\n",
              "      <td>0.776601</td>\n",
              "      <td>2,156,624,900</td>\n",
              "      <td>796</td>\n",
              "      <td>Generation X</td>\n",
              "    </tr>\n",
              "    <tr>\n",
              "      <th>1</th>\n",
              "      <td>Albania</td>\n",
              "      <td>1987</td>\n",
              "      <td>male</td>\n",
              "      <td>4</td>\n",
              "      <td>16</td>\n",
              "      <td>308000</td>\n",
              "      <td>5.19</td>\n",
              "      <td>0.776601</td>\n",
              "      <td>2,156,624,900</td>\n",
              "      <td>796</td>\n",
              "      <td>Silent</td>\n",
              "    </tr>\n",
              "    <tr>\n",
              "      <th>2</th>\n",
              "      <td>Albania</td>\n",
              "      <td>1987</td>\n",
              "      <td>female</td>\n",
              "      <td>2</td>\n",
              "      <td>14</td>\n",
              "      <td>289700</td>\n",
              "      <td>4.83</td>\n",
              "      <td>0.776601</td>\n",
              "      <td>2,156,624,900</td>\n",
              "      <td>796</td>\n",
              "      <td>Generation X</td>\n",
              "    </tr>\n",
              "    <tr>\n",
              "      <th>3</th>\n",
              "      <td>Albania</td>\n",
              "      <td>1987</td>\n",
              "      <td>male</td>\n",
              "      <td>6</td>\n",
              "      <td>1</td>\n",
              "      <td>21800</td>\n",
              "      <td>4.59</td>\n",
              "      <td>0.776601</td>\n",
              "      <td>2,156,624,900</td>\n",
              "      <td>796</td>\n",
              "      <td>G.I. Generation</td>\n",
              "    </tr>\n",
              "    <tr>\n",
              "      <th>4</th>\n",
              "      <td>Albania</td>\n",
              "      <td>1987</td>\n",
              "      <td>male</td>\n",
              "      <td>3</td>\n",
              "      <td>9</td>\n",
              "      <td>274300</td>\n",
              "      <td>3.28</td>\n",
              "      <td>0.776601</td>\n",
              "      <td>2,156,624,900</td>\n",
              "      <td>796</td>\n",
              "      <td>Boomers</td>\n",
              "    </tr>\n",
              "  </tbody>\n",
              "</table>\n",
              "</div>"
            ],
            "text/plain": [
              "   country  year  gender  age  suicides_no  population  suicides/100kpop  \\\n",
              "0  Albania  1987    male    2           21      312900              6.71   \n",
              "1  Albania  1987    male    4           16      308000              5.19   \n",
              "2  Albania  1987  female    2           14      289700              4.83   \n",
              "3  Albania  1987    male    6            1       21800              4.59   \n",
              "4  Albania  1987    male    3            9      274300              3.28   \n",
              "\n",
              "   hdiforyear   gdp_for_year  gdp_per_capita       generation  \n",
              "0    0.776601  2,156,624,900             796     Generation X  \n",
              "1    0.776601  2,156,624,900             796           Silent  \n",
              "2    0.776601  2,156,624,900             796     Generation X  \n",
              "3    0.776601  2,156,624,900             796  G.I. Generation  \n",
              "4    0.776601  2,156,624,900             796          Boomers  "
            ]
          },
          "execution_count": 18,
          "metadata": {},
          "output_type": "execute_result"
        }
      ],
      "source": [
        "data.head()"
      ]
    },
    {
      "cell_type": "markdown",
      "metadata": {
        "id": "XwsPkL2eUWjt"
      },
      "source": [
        "## ✤  One-Hot Encoding and Preparing catrgorical variables like 'Gender' and 'Generation':\n",
        "+ **In such way that [ Male is 1 and Female is 0]**\n",
        "+ **In such way that Each 6 genearation from 1 to 6.**"
      ]
    },
    {
      "cell_type": "code",
      "execution_count": null,
      "metadata": {
        "id": "_fFe-qilUWjt"
      },
      "outputs": [],
      "source": [
        "from sklearn.preprocessing import LabelEncoder\n",
        "# importing NEW library to encode:\n",
        "\n",
        "label = LabelEncoder()\n",
        "data['gender'] = label.fit_transform(data['gender'])\n",
        "data['generation'] = label.fit_transform(data['generation'])"
      ]
    },
    {
      "cell_type": "code",
      "execution_count": null,
      "metadata": {
        "id": "EmPBdw4hUWjt",
        "outputId": "5f04522f-72df-4bfc-e5b6-b7f5173bce28"
      },
      "outputs": [
        {
          "data": {
            "text/html": [
              "<div>\n",
              "<style scoped>\n",
              "    .dataframe tbody tr th:only-of-type {\n",
              "        vertical-align: middle;\n",
              "    }\n",
              "\n",
              "    .dataframe tbody tr th {\n",
              "        vertical-align: top;\n",
              "    }\n",
              "\n",
              "    .dataframe thead th {\n",
              "        text-align: right;\n",
              "    }\n",
              "</style>\n",
              "<table border=\"1\" class=\"dataframe\">\n",
              "  <thead>\n",
              "    <tr style=\"text-align: right;\">\n",
              "      <th></th>\n",
              "      <th>country</th>\n",
              "      <th>year</th>\n",
              "      <th>gender</th>\n",
              "      <th>age</th>\n",
              "      <th>suicides_no</th>\n",
              "      <th>population</th>\n",
              "      <th>suicides/100kpop</th>\n",
              "      <th>hdiforyear</th>\n",
              "      <th>gdp_for_year</th>\n",
              "      <th>gdp_per_capita</th>\n",
              "      <th>generation</th>\n",
              "    </tr>\n",
              "  </thead>\n",
              "  <tbody>\n",
              "    <tr>\n",
              "      <th>0</th>\n",
              "      <td>Albania</td>\n",
              "      <td>1987</td>\n",
              "      <td>1</td>\n",
              "      <td>2</td>\n",
              "      <td>21</td>\n",
              "      <td>312900</td>\n",
              "      <td>6.71</td>\n",
              "      <td>0.776601</td>\n",
              "      <td>2,156,624,900</td>\n",
              "      <td>796</td>\n",
              "      <td>2</td>\n",
              "    </tr>\n",
              "    <tr>\n",
              "      <th>1</th>\n",
              "      <td>Albania</td>\n",
              "      <td>1987</td>\n",
              "      <td>1</td>\n",
              "      <td>4</td>\n",
              "      <td>16</td>\n",
              "      <td>308000</td>\n",
              "      <td>5.19</td>\n",
              "      <td>0.776601</td>\n",
              "      <td>2,156,624,900</td>\n",
              "      <td>796</td>\n",
              "      <td>5</td>\n",
              "    </tr>\n",
              "    <tr>\n",
              "      <th>2</th>\n",
              "      <td>Albania</td>\n",
              "      <td>1987</td>\n",
              "      <td>0</td>\n",
              "      <td>2</td>\n",
              "      <td>14</td>\n",
              "      <td>289700</td>\n",
              "      <td>4.83</td>\n",
              "      <td>0.776601</td>\n",
              "      <td>2,156,624,900</td>\n",
              "      <td>796</td>\n",
              "      <td>2</td>\n",
              "    </tr>\n",
              "    <tr>\n",
              "      <th>3</th>\n",
              "      <td>Albania</td>\n",
              "      <td>1987</td>\n",
              "      <td>1</td>\n",
              "      <td>6</td>\n",
              "      <td>1</td>\n",
              "      <td>21800</td>\n",
              "      <td>4.59</td>\n",
              "      <td>0.776601</td>\n",
              "      <td>2,156,624,900</td>\n",
              "      <td>796</td>\n",
              "      <td>1</td>\n",
              "    </tr>\n",
              "    <tr>\n",
              "      <th>4</th>\n",
              "      <td>Albania</td>\n",
              "      <td>1987</td>\n",
              "      <td>1</td>\n",
              "      <td>3</td>\n",
              "      <td>9</td>\n",
              "      <td>274300</td>\n",
              "      <td>3.28</td>\n",
              "      <td>0.776601</td>\n",
              "      <td>2,156,624,900</td>\n",
              "      <td>796</td>\n",
              "      <td>0</td>\n",
              "    </tr>\n",
              "  </tbody>\n",
              "</table>\n",
              "</div>"
            ],
            "text/plain": [
              "   country  year  gender  age  suicides_no  population  suicides/100kpop  \\\n",
              "0  Albania  1987       1    2           21      312900              6.71   \n",
              "1  Albania  1987       1    4           16      308000              5.19   \n",
              "2  Albania  1987       0    2           14      289700              4.83   \n",
              "3  Albania  1987       1    6            1       21800              4.59   \n",
              "4  Albania  1987       1    3            9      274300              3.28   \n",
              "\n",
              "   hdiforyear   gdp_for_year  gdp_per_capita  generation  \n",
              "0    0.776601  2,156,624,900             796           2  \n",
              "1    0.776601  2,156,624,900             796           5  \n",
              "2    0.776601  2,156,624,900             796           2  \n",
              "3    0.776601  2,156,624,900             796           1  \n",
              "4    0.776601  2,156,624,900             796           0  "
            ]
          },
          "execution_count": 20,
          "metadata": {},
          "output_type": "execute_result"
        }
      ],
      "source": [
        "data.head()"
      ]
    },
    {
      "cell_type": "markdown",
      "metadata": {
        "id": "7O1zuJ45UWju"
      },
      "source": [
        "### ✤ Dropping unneeded columns "
      ]
    },
    {
      "cell_type": "code",
      "execution_count": null,
      "metadata": {
        "id": "QEGjE3lhUWju"
      },
      "outputs": [],
      "source": [
        "data.drop('gdp_for_year', axis=1, inplace=True)"
      ]
    },
    {
      "cell_type": "code",
      "execution_count": null,
      "metadata": {
        "id": "M7erlwVlUWju"
      },
      "outputs": [],
      "source": [
        "data.drop('country', axis=1, inplace=True)\n",
        "data.drop('suicides/100kpop', axis=1, inplace=True)"
      ]
    },
    {
      "cell_type": "code",
      "execution_count": null,
      "metadata": {
        "id": "PxZR_jYhUWju",
        "outputId": "f95b7dec-2151-431b-d1ef-ba6ecceba08c"
      },
      "outputs": [
        {
          "data": {
            "text/plain": [
              "(27660, 8)"
            ]
          },
          "execution_count": 23,
          "metadata": {},
          "output_type": "execute_result"
        }
      ],
      "source": [
        "data.shape"
      ]
    },
    {
      "cell_type": "code",
      "execution_count": null,
      "metadata": {
        "id": "tmSYXI-2UWjv",
        "outputId": "810126c6-112a-4b47-a4e9-4a64247975e0"
      },
      "outputs": [
        {
          "data": {
            "text/html": [
              "<div>\n",
              "<style scoped>\n",
              "    .dataframe tbody tr th:only-of-type {\n",
              "        vertical-align: middle;\n",
              "    }\n",
              "\n",
              "    .dataframe tbody tr th {\n",
              "        vertical-align: top;\n",
              "    }\n",
              "\n",
              "    .dataframe thead th {\n",
              "        text-align: right;\n",
              "    }\n",
              "</style>\n",
              "<table border=\"1\" class=\"dataframe\">\n",
              "  <thead>\n",
              "    <tr style=\"text-align: right;\">\n",
              "      <th></th>\n",
              "      <th>year</th>\n",
              "      <th>gender</th>\n",
              "      <th>age</th>\n",
              "      <th>suicides_no</th>\n",
              "      <th>population</th>\n",
              "      <th>hdiforyear</th>\n",
              "      <th>gdp_per_capita</th>\n",
              "      <th>generation</th>\n",
              "    </tr>\n",
              "  </thead>\n",
              "  <tbody>\n",
              "    <tr>\n",
              "      <th>0</th>\n",
              "      <td>1987</td>\n",
              "      <td>1</td>\n",
              "      <td>2</td>\n",
              "      <td>21</td>\n",
              "      <td>312900</td>\n",
              "      <td>0.776601</td>\n",
              "      <td>796</td>\n",
              "      <td>2</td>\n",
              "    </tr>\n",
              "    <tr>\n",
              "      <th>1</th>\n",
              "      <td>1987</td>\n",
              "      <td>1</td>\n",
              "      <td>4</td>\n",
              "      <td>16</td>\n",
              "      <td>308000</td>\n",
              "      <td>0.776601</td>\n",
              "      <td>796</td>\n",
              "      <td>5</td>\n",
              "    </tr>\n",
              "    <tr>\n",
              "      <th>2</th>\n",
              "      <td>1987</td>\n",
              "      <td>0</td>\n",
              "      <td>2</td>\n",
              "      <td>14</td>\n",
              "      <td>289700</td>\n",
              "      <td>0.776601</td>\n",
              "      <td>796</td>\n",
              "      <td>2</td>\n",
              "    </tr>\n",
              "    <tr>\n",
              "      <th>3</th>\n",
              "      <td>1987</td>\n",
              "      <td>1</td>\n",
              "      <td>6</td>\n",
              "      <td>1</td>\n",
              "      <td>21800</td>\n",
              "      <td>0.776601</td>\n",
              "      <td>796</td>\n",
              "      <td>1</td>\n",
              "    </tr>\n",
              "    <tr>\n",
              "      <th>4</th>\n",
              "      <td>1987</td>\n",
              "      <td>1</td>\n",
              "      <td>3</td>\n",
              "      <td>9</td>\n",
              "      <td>274300</td>\n",
              "      <td>0.776601</td>\n",
              "      <td>796</td>\n",
              "      <td>0</td>\n",
              "    </tr>\n",
              "    <tr>\n",
              "      <th>...</th>\n",
              "      <td>...</td>\n",
              "      <td>...</td>\n",
              "      <td>...</td>\n",
              "      <td>...</td>\n",
              "      <td>...</td>\n",
              "      <td>...</td>\n",
              "      <td>...</td>\n",
              "      <td>...</td>\n",
              "    </tr>\n",
              "    <tr>\n",
              "      <th>27815</th>\n",
              "      <td>2014</td>\n",
              "      <td>0</td>\n",
              "      <td>4</td>\n",
              "      <td>107</td>\n",
              "      <td>3620833</td>\n",
              "      <td>0.675000</td>\n",
              "      <td>2309</td>\n",
              "      <td>2</td>\n",
              "    </tr>\n",
              "    <tr>\n",
              "      <th>27816</th>\n",
              "      <td>2014</td>\n",
              "      <td>0</td>\n",
              "      <td>6</td>\n",
              "      <td>9</td>\n",
              "      <td>348465</td>\n",
              "      <td>0.675000</td>\n",
              "      <td>2309</td>\n",
              "      <td>5</td>\n",
              "    </tr>\n",
              "    <tr>\n",
              "      <th>27817</th>\n",
              "      <td>2014</td>\n",
              "      <td>1</td>\n",
              "      <td>1</td>\n",
              "      <td>60</td>\n",
              "      <td>2762158</td>\n",
              "      <td>0.675000</td>\n",
              "      <td>2309</td>\n",
              "      <td>3</td>\n",
              "    </tr>\n",
              "    <tr>\n",
              "      <th>27818</th>\n",
              "      <td>2014</td>\n",
              "      <td>0</td>\n",
              "      <td>1</td>\n",
              "      <td>44</td>\n",
              "      <td>2631600</td>\n",
              "      <td>0.675000</td>\n",
              "      <td>2309</td>\n",
              "      <td>3</td>\n",
              "    </tr>\n",
              "    <tr>\n",
              "      <th>27819</th>\n",
              "      <td>2014</td>\n",
              "      <td>0</td>\n",
              "      <td>5</td>\n",
              "      <td>21</td>\n",
              "      <td>1438935</td>\n",
              "      <td>0.675000</td>\n",
              "      <td>2309</td>\n",
              "      <td>0</td>\n",
              "    </tr>\n",
              "  </tbody>\n",
              "</table>\n",
              "<p>27660 rows × 8 columns</p>\n",
              "</div>"
            ],
            "text/plain": [
              "       year  gender  age  suicides_no  population  hdiforyear  gdp_per_capita  \\\n",
              "0      1987       1    2           21      312900    0.776601             796   \n",
              "1      1987       1    4           16      308000    0.776601             796   \n",
              "2      1987       0    2           14      289700    0.776601             796   \n",
              "3      1987       1    6            1       21800    0.776601             796   \n",
              "4      1987       1    3            9      274300    0.776601             796   \n",
              "...     ...     ...  ...          ...         ...         ...             ...   \n",
              "27815  2014       0    4          107     3620833    0.675000            2309   \n",
              "27816  2014       0    6            9      348465    0.675000            2309   \n",
              "27817  2014       1    1           60     2762158    0.675000            2309   \n",
              "27818  2014       0    1           44     2631600    0.675000            2309   \n",
              "27819  2014       0    5           21     1438935    0.675000            2309   \n",
              "\n",
              "       generation  \n",
              "0               2  \n",
              "1               5  \n",
              "2               2  \n",
              "3               1  \n",
              "4               0  \n",
              "...           ...  \n",
              "27815           2  \n",
              "27816           5  \n",
              "27817           3  \n",
              "27818           3  \n",
              "27819           0  \n",
              "\n",
              "[27660 rows x 8 columns]"
            ]
          },
          "execution_count": 24,
          "metadata": {},
          "output_type": "execute_result"
        }
      ],
      "source": [
        "# HERE IS MY FINAL DATASET:\n",
        "data"
      ]
    },
    {
      "cell_type": "markdown",
      "metadata": {
        "id": "G1kj1DvnUWjv"
      },
      "source": [
        "**✤  Additionally, we should know datatypes of our variables, it will help us in analysis:**\n",
        " + object-> categorical data\n",
        " + int64 -> numerical data \n",
        " + float64-> numerical data "
      ]
    },
    {
      "cell_type": "code",
      "execution_count": null,
      "metadata": {
        "id": "Hhg27YtFUWjv",
        "outputId": "c8045e9e-4d4b-4ca7-adb9-1bb0611de162"
      },
      "outputs": [
        {
          "data": {
            "text/plain": [
              "year                int64\n",
              "gender              int32\n",
              "age                 int64\n",
              "suicides_no         int64\n",
              "population          int64\n",
              "hdiforyear        float64\n",
              "gdp_per_capita      int64\n",
              "generation          int32\n",
              "dtype: object"
            ]
          },
          "execution_count": 25,
          "metadata": {},
          "output_type": "execute_result"
        }
      ],
      "source": [
        "# ALL DATATYPES ARE numerical:\n",
        "data.dtypes"
      ]
    },
    {
      "cell_type": "code",
      "execution_count": null,
      "metadata": {
        "id": "RpKtUMuOUWjw"
      },
      "outputs": [],
      "source": [
        "data.to_excel(\"dataset-2.xlsx\")"
      ]
    },
    {
      "cell_type": "code",
      "execution_count": null,
      "metadata": {
        "id": "I14CpvTbUWjw"
      },
      "outputs": [],
      "source": [
        "new_data = pd.read_excel('dataset-2.xlsx')"
      ]
    },
    {
      "cell_type": "code",
      "execution_count": null,
      "metadata": {
        "id": "ThkQNQzvUWj3"
      },
      "outputs": [],
      "source": [
        "new_data = new_data.drop('Unnamed: 0',axis=1)"
      ]
    },
    {
      "cell_type": "code",
      "execution_count": null,
      "metadata": {
        "id": "Ufz91o1HUWj4",
        "outputId": "b7221d17-bf13-4c3c-d0bc-d78113d95a2d"
      },
      "outputs": [
        {
          "data": {
            "text/html": [
              "<div>\n",
              "<style scoped>\n",
              "    .dataframe tbody tr th:only-of-type {\n",
              "        vertical-align: middle;\n",
              "    }\n",
              "\n",
              "    .dataframe tbody tr th {\n",
              "        vertical-align: top;\n",
              "    }\n",
              "\n",
              "    .dataframe thead th {\n",
              "        text-align: right;\n",
              "    }\n",
              "</style>\n",
              "<table border=\"1\" class=\"dataframe\">\n",
              "  <thead>\n",
              "    <tr style=\"text-align: right;\">\n",
              "      <th></th>\n",
              "      <th>year</th>\n",
              "      <th>gender</th>\n",
              "      <th>age</th>\n",
              "      <th>suicides_no</th>\n",
              "      <th>population</th>\n",
              "      <th>hdiforyear</th>\n",
              "      <th>gdp_per_capita</th>\n",
              "      <th>generation</th>\n",
              "    </tr>\n",
              "  </thead>\n",
              "  <tbody>\n",
              "    <tr>\n",
              "      <th>27655</th>\n",
              "      <td>2014</td>\n",
              "      <td>0</td>\n",
              "      <td>4</td>\n",
              "      <td>107</td>\n",
              "      <td>3620833</td>\n",
              "      <td>0.675</td>\n",
              "      <td>2309</td>\n",
              "      <td>2</td>\n",
              "    </tr>\n",
              "    <tr>\n",
              "      <th>27656</th>\n",
              "      <td>2014</td>\n",
              "      <td>0</td>\n",
              "      <td>6</td>\n",
              "      <td>9</td>\n",
              "      <td>348465</td>\n",
              "      <td>0.675</td>\n",
              "      <td>2309</td>\n",
              "      <td>5</td>\n",
              "    </tr>\n",
              "    <tr>\n",
              "      <th>27657</th>\n",
              "      <td>2014</td>\n",
              "      <td>1</td>\n",
              "      <td>1</td>\n",
              "      <td>60</td>\n",
              "      <td>2762158</td>\n",
              "      <td>0.675</td>\n",
              "      <td>2309</td>\n",
              "      <td>3</td>\n",
              "    </tr>\n",
              "    <tr>\n",
              "      <th>27658</th>\n",
              "      <td>2014</td>\n",
              "      <td>0</td>\n",
              "      <td>1</td>\n",
              "      <td>44</td>\n",
              "      <td>2631600</td>\n",
              "      <td>0.675</td>\n",
              "      <td>2309</td>\n",
              "      <td>3</td>\n",
              "    </tr>\n",
              "    <tr>\n",
              "      <th>27659</th>\n",
              "      <td>2014</td>\n",
              "      <td>0</td>\n",
              "      <td>5</td>\n",
              "      <td>21</td>\n",
              "      <td>1438935</td>\n",
              "      <td>0.675</td>\n",
              "      <td>2309</td>\n",
              "      <td>0</td>\n",
              "    </tr>\n",
              "  </tbody>\n",
              "</table>\n",
              "</div>"
            ],
            "text/plain": [
              "       year  gender  age  suicides_no  population  hdiforyear  gdp_per_capita  \\\n",
              "27655  2014       0    4          107     3620833       0.675            2309   \n",
              "27656  2014       0    6            9      348465       0.675            2309   \n",
              "27657  2014       1    1           60     2762158       0.675            2309   \n",
              "27658  2014       0    1           44     2631600       0.675            2309   \n",
              "27659  2014       0    5           21     1438935       0.675            2309   \n",
              "\n",
              "       generation  \n",
              "27655           2  \n",
              "27656           5  \n",
              "27657           3  \n",
              "27658           3  \n",
              "27659           0  "
            ]
          },
          "execution_count": 29,
          "metadata": {},
          "output_type": "execute_result"
        }
      ],
      "source": [
        "new_data.tail()"
      ]
    },
    {
      "cell_type": "markdown",
      "metadata": {
        "id": "w6VmKd1JUWj4"
      },
      "source": [
        "**✤  Also, there is a Statistical description of my dataset, it illustrates a fairly wide range of data such as total amount, average mean value, standard deviation, interqurtile range and min/max values:**"
      ]
    },
    {
      "cell_type": "code",
      "execution_count": null,
      "metadata": {
        "id": "21r7d-HDUWj5",
        "outputId": "211beaea-3c93-439d-8acd-0cf1c56acffa"
      },
      "outputs": [
        {
          "data": {
            "text/html": [
              "<div>\n",
              "<style scoped>\n",
              "    .dataframe tbody tr th:only-of-type {\n",
              "        vertical-align: middle;\n",
              "    }\n",
              "\n",
              "    .dataframe tbody tr th {\n",
              "        vertical-align: top;\n",
              "    }\n",
              "\n",
              "    .dataframe thead th {\n",
              "        text-align: right;\n",
              "    }\n",
              "</style>\n",
              "<table border=\"1\" class=\"dataframe\">\n",
              "  <thead>\n",
              "    <tr style=\"text-align: right;\">\n",
              "      <th></th>\n",
              "      <th>year</th>\n",
              "      <th>gender</th>\n",
              "      <th>age</th>\n",
              "      <th>suicides_no</th>\n",
              "      <th>population</th>\n",
              "      <th>hdiforyear</th>\n",
              "      <th>gdp_per_capita</th>\n",
              "      <th>generation</th>\n",
              "    </tr>\n",
              "  </thead>\n",
              "  <tbody>\n",
              "    <tr>\n",
              "      <th>count</th>\n",
              "      <td>27660.000000</td>\n",
              "      <td>27660.000000</td>\n",
              "      <td>27660.000000</td>\n",
              "      <td>27660.000000</td>\n",
              "      <td>2.766000e+04</td>\n",
              "      <td>27660.000000</td>\n",
              "      <td>27660.000000</td>\n",
              "      <td>27660.000000</td>\n",
              "    </tr>\n",
              "    <tr>\n",
              "      <th>mean</th>\n",
              "      <td>2001.173102</td>\n",
              "      <td>0.500000</td>\n",
              "      <td>3.500000</td>\n",
              "      <td>243.413485</td>\n",
              "      <td>1.850689e+06</td>\n",
              "      <td>0.776601</td>\n",
              "      <td>16815.568330</td>\n",
              "      <td>2.700145</td>\n",
              "    </tr>\n",
              "    <tr>\n",
              "      <th>std</th>\n",
              "      <td>8.418754</td>\n",
              "      <td>0.500009</td>\n",
              "      <td>1.707856</td>\n",
              "      <td>904.490185</td>\n",
              "      <td>3.920658e+06</td>\n",
              "      <td>0.051340</td>\n",
              "      <td>18861.585497</td>\n",
              "      <td>1.809814</td>\n",
              "    </tr>\n",
              "    <tr>\n",
              "      <th>min</th>\n",
              "      <td>1985.000000</td>\n",
              "      <td>0.000000</td>\n",
              "      <td>1.000000</td>\n",
              "      <td>0.000000</td>\n",
              "      <td>2.780000e+02</td>\n",
              "      <td>0.483000</td>\n",
              "      <td>251.000000</td>\n",
              "      <td>0.000000</td>\n",
              "    </tr>\n",
              "    <tr>\n",
              "      <th>25%</th>\n",
              "      <td>1994.000000</td>\n",
              "      <td>0.000000</td>\n",
              "      <td>2.000000</td>\n",
              "      <td>3.000000</td>\n",
              "      <td>9.753525e+04</td>\n",
              "      <td>0.776601</td>\n",
              "      <td>3436.000000</td>\n",
              "      <td>1.000000</td>\n",
              "    </tr>\n",
              "    <tr>\n",
              "      <th>50%</th>\n",
              "      <td>2002.000000</td>\n",
              "      <td>0.500000</td>\n",
              "      <td>3.500000</td>\n",
              "      <td>25.000000</td>\n",
              "      <td>4.307250e+05</td>\n",
              "      <td>0.776601</td>\n",
              "      <td>9283.000000</td>\n",
              "      <td>2.000000</td>\n",
              "    </tr>\n",
              "    <tr>\n",
              "      <th>75%</th>\n",
              "      <td>2008.000000</td>\n",
              "      <td>1.000000</td>\n",
              "      <td>5.000000</td>\n",
              "      <td>132.000000</td>\n",
              "      <td>1.491041e+06</td>\n",
              "      <td>0.776601</td>\n",
              "      <td>24796.000000</td>\n",
              "      <td>4.000000</td>\n",
              "    </tr>\n",
              "    <tr>\n",
              "      <th>max</th>\n",
              "      <td>2015.000000</td>\n",
              "      <td>1.000000</td>\n",
              "      <td>6.000000</td>\n",
              "      <td>22338.000000</td>\n",
              "      <td>4.380521e+07</td>\n",
              "      <td>0.944000</td>\n",
              "      <td>126352.000000</td>\n",
              "      <td>5.000000</td>\n",
              "    </tr>\n",
              "  </tbody>\n",
              "</table>\n",
              "</div>"
            ],
            "text/plain": [
              "               year        gender           age   suicides_no    population  \\\n",
              "count  27660.000000  27660.000000  27660.000000  27660.000000  2.766000e+04   \n",
              "mean    2001.173102      0.500000      3.500000    243.413485  1.850689e+06   \n",
              "std        8.418754      0.500009      1.707856    904.490185  3.920658e+06   \n",
              "min     1985.000000      0.000000      1.000000      0.000000  2.780000e+02   \n",
              "25%     1994.000000      0.000000      2.000000      3.000000  9.753525e+04   \n",
              "50%     2002.000000      0.500000      3.500000     25.000000  4.307250e+05   \n",
              "75%     2008.000000      1.000000      5.000000    132.000000  1.491041e+06   \n",
              "max     2015.000000      1.000000      6.000000  22338.000000  4.380521e+07   \n",
              "\n",
              "         hdiforyear  gdp_per_capita    generation  \n",
              "count  27660.000000    27660.000000  27660.000000  \n",
              "mean       0.776601    16815.568330      2.700145  \n",
              "std        0.051340    18861.585497      1.809814  \n",
              "min        0.483000      251.000000      0.000000  \n",
              "25%        0.776601     3436.000000      1.000000  \n",
              "50%        0.776601     9283.000000      2.000000  \n",
              "75%        0.776601    24796.000000      4.000000  \n",
              "max        0.944000   126352.000000      5.000000  "
            ]
          },
          "execution_count": 30,
          "metadata": {},
          "output_type": "execute_result"
        }
      ],
      "source": [
        "new_data.describe()"
      ]
    },
    {
      "cell_type": "markdown",
      "metadata": {
        "id": "vQAnE7yEUWj5"
      },
      "source": [
        "#  ✤  Data Preprocessing"
      ]
    },
    {
      "cell_type": "markdown",
      "metadata": {
        "id": "-eEJ39wxUWj5"
      },
      "source": [
        "##  ✤ Normalisation of Whole dataset ✤"
      ]
    },
    {
      "cell_type": "code",
      "execution_count": null,
      "metadata": {
        "id": "Ie_PRKlnUWj6",
        "outputId": "792b45b9-54bf-47dc-d2ea-abf707a6b177"
      },
      "outputs": [
        {
          "data": {
            "text/html": [
              "<div>\n",
              "<style scoped>\n",
              "    .dataframe tbody tr th:only-of-type {\n",
              "        vertical-align: middle;\n",
              "    }\n",
              "\n",
              "    .dataframe tbody tr th {\n",
              "        vertical-align: top;\n",
              "    }\n",
              "\n",
              "    .dataframe thead th {\n",
              "        text-align: right;\n",
              "    }\n",
              "</style>\n",
              "<table border=\"1\" class=\"dataframe\">\n",
              "  <thead>\n",
              "    <tr style=\"text-align: right;\">\n",
              "      <th></th>\n",
              "      <th>year</th>\n",
              "      <th>gender</th>\n",
              "      <th>age</th>\n",
              "      <th>suicides_no</th>\n",
              "      <th>population</th>\n",
              "      <th>hdiforyear</th>\n",
              "      <th>gdp_per_capita</th>\n",
              "      <th>generation</th>\n",
              "    </tr>\n",
              "  </thead>\n",
              "  <tbody>\n",
              "    <tr>\n",
              "      <th>0</th>\n",
              "      <td>0.006350</td>\n",
              "      <td>3.195834e-06</td>\n",
              "      <td>6.391669e-06</td>\n",
              "      <td>0.000067</td>\n",
              "      <td>0.999977</td>\n",
              "      <td>2.481889e-06</td>\n",
              "      <td>0.002544</td>\n",
              "      <td>6.391669e-06</td>\n",
              "    </tr>\n",
              "    <tr>\n",
              "      <th>1</th>\n",
              "      <td>0.006451</td>\n",
              "      <td>3.246675e-06</td>\n",
              "      <td>1.298670e-05</td>\n",
              "      <td>0.000052</td>\n",
              "      <td>0.999976</td>\n",
              "      <td>2.521371e-06</td>\n",
              "      <td>0.002584</td>\n",
              "      <td>1.623337e-05</td>\n",
              "    </tr>\n",
              "    <tr>\n",
              "      <th>2</th>\n",
              "      <td>0.006859</td>\n",
              "      <td>0.000000e+00</td>\n",
              "      <td>6.903505e-06</td>\n",
              "      <td>0.000048</td>\n",
              "      <td>0.999973</td>\n",
              "      <td>2.680635e-06</td>\n",
              "      <td>0.002748</td>\n",
              "      <td>6.903505e-06</td>\n",
              "    </tr>\n",
              "    <tr>\n",
              "      <th>3</th>\n",
              "      <td>0.090711</td>\n",
              "      <td>4.565202e-05</td>\n",
              "      <td>2.739121e-04</td>\n",
              "      <td>0.000046</td>\n",
              "      <td>0.995214</td>\n",
              "      <td>3.545341e-05</td>\n",
              "      <td>0.036339</td>\n",
              "      <td>4.565202e-05</td>\n",
              "    </tr>\n",
              "    <tr>\n",
              "      <th>4</th>\n",
              "      <td>0.007244</td>\n",
              "      <td>3.645532e-06</td>\n",
              "      <td>1.093660e-05</td>\n",
              "      <td>0.000033</td>\n",
              "      <td>0.999970</td>\n",
              "      <td>2.831125e-06</td>\n",
              "      <td>0.002902</td>\n",
              "      <td>0.000000e+00</td>\n",
              "    </tr>\n",
              "    <tr>\n",
              "      <th>...</th>\n",
              "      <td>...</td>\n",
              "      <td>...</td>\n",
              "      <td>...</td>\n",
              "      <td>...</td>\n",
              "      <td>...</td>\n",
              "      <td>...</td>\n",
              "      <td>...</td>\n",
              "      <td>...</td>\n",
              "    </tr>\n",
              "    <tr>\n",
              "      <th>27655</th>\n",
              "      <td>0.000556</td>\n",
              "      <td>0.000000e+00</td>\n",
              "      <td>1.104718e-06</td>\n",
              "      <td>0.000030</td>\n",
              "      <td>1.000000</td>\n",
              "      <td>1.864211e-07</td>\n",
              "      <td>0.000638</td>\n",
              "      <td>5.523589e-07</td>\n",
              "    </tr>\n",
              "    <tr>\n",
              "      <th>27656</th>\n",
              "      <td>0.005779</td>\n",
              "      <td>0.000000e+00</td>\n",
              "      <td>1.721771e-05</td>\n",
              "      <td>0.000026</td>\n",
              "      <td>0.999961</td>\n",
              "      <td>1.936992e-06</td>\n",
              "      <td>0.006626</td>\n",
              "      <td>1.434809e-05</td>\n",
              "    </tr>\n",
              "    <tr>\n",
              "      <th>27657</th>\n",
              "      <td>0.000729</td>\n",
              "      <td>3.620355e-07</td>\n",
              "      <td>3.620355e-07</td>\n",
              "      <td>0.000022</td>\n",
              "      <td>0.999999</td>\n",
              "      <td>2.443740e-07</td>\n",
              "      <td>0.000836</td>\n",
              "      <td>1.086107e-06</td>\n",
              "    </tr>\n",
              "    <tr>\n",
              "      <th>27658</th>\n",
              "      <td>0.000765</td>\n",
              "      <td>0.000000e+00</td>\n",
              "      <td>3.799967e-07</td>\n",
              "      <td>0.000017</td>\n",
              "      <td>0.999999</td>\n",
              "      <td>2.564978e-07</td>\n",
              "      <td>0.000877</td>\n",
              "      <td>1.139990e-06</td>\n",
              "    </tr>\n",
              "    <tr>\n",
              "      <th>27659</th>\n",
              "      <td>0.001400</td>\n",
              "      <td>0.000000e+00</td>\n",
              "      <td>3.474784e-06</td>\n",
              "      <td>0.000015</td>\n",
              "      <td>0.999998</td>\n",
              "      <td>4.690959e-07</td>\n",
              "      <td>0.001605</td>\n",
              "      <td>0.000000e+00</td>\n",
              "    </tr>\n",
              "  </tbody>\n",
              "</table>\n",
              "<p>27660 rows × 8 columns</p>\n",
              "</div>"
            ],
            "text/plain": [
              "           year        gender           age  suicides_no  population  \\\n",
              "0      0.006350  3.195834e-06  6.391669e-06     0.000067    0.999977   \n",
              "1      0.006451  3.246675e-06  1.298670e-05     0.000052    0.999976   \n",
              "2      0.006859  0.000000e+00  6.903505e-06     0.000048    0.999973   \n",
              "3      0.090711  4.565202e-05  2.739121e-04     0.000046    0.995214   \n",
              "4      0.007244  3.645532e-06  1.093660e-05     0.000033    0.999970   \n",
              "...         ...           ...           ...          ...         ...   \n",
              "27655  0.000556  0.000000e+00  1.104718e-06     0.000030    1.000000   \n",
              "27656  0.005779  0.000000e+00  1.721771e-05     0.000026    0.999961   \n",
              "27657  0.000729  3.620355e-07  3.620355e-07     0.000022    0.999999   \n",
              "27658  0.000765  0.000000e+00  3.799967e-07     0.000017    0.999999   \n",
              "27659  0.001400  0.000000e+00  3.474784e-06     0.000015    0.999998   \n",
              "\n",
              "         hdiforyear  gdp_per_capita    generation  \n",
              "0      2.481889e-06        0.002544  6.391669e-06  \n",
              "1      2.521371e-06        0.002584  1.623337e-05  \n",
              "2      2.680635e-06        0.002748  6.903505e-06  \n",
              "3      3.545341e-05        0.036339  4.565202e-05  \n",
              "4      2.831125e-06        0.002902  0.000000e+00  \n",
              "...             ...             ...           ...  \n",
              "27655  1.864211e-07        0.000638  5.523589e-07  \n",
              "27656  1.936992e-06        0.006626  1.434809e-05  \n",
              "27657  2.443740e-07        0.000836  1.086107e-06  \n",
              "27658  2.564978e-07        0.000877  1.139990e-06  \n",
              "27659  4.690959e-07        0.001605  0.000000e+00  \n",
              "\n",
              "[27660 rows x 8 columns]"
            ]
          },
          "execution_count": 31,
          "metadata": {},
          "output_type": "execute_result"
        }
      ],
      "source": [
        "from sklearn.preprocessing import Normalizer\n",
        "#importing Normalisation Library.\n",
        "\n",
        "scaler = Normalizer().fit(new_data)\n",
        "normalizeData = scaler.transform(new_data)\n",
        "normalizeData = pd.DataFrame(normalizeData, index = new_data.index, columns = new_data.columns)\n",
        "normalizeData"
      ]
    },
    {
      "cell_type": "markdown",
      "metadata": {
        "id": "jTbhKa8jUWj6"
      },
      "source": [
        "### ✤ Train and Test Split - Ratio 70 / 30\n",
        "+ Now let's split the data into a training set and a testing set. We'll train out model on the training set and then use the test set to evaluate the model. To do that, we need to import the following:"
      ]
    },
    {
      "cell_type": "code",
      "execution_count": null,
      "metadata": {
        "id": "4z1GK-kbUWj6",
        "outputId": "bfc11fe2-5f17-4da6-ca96-bc928cf4a2db"
      },
      "outputs": [
        {
          "name": "stdout",
          "output_type": "stream",
          "text": [
            "Train (19362, 7) (19362,)\n",
            "Test (8298, 7) (8298,)\n"
          ]
        }
      ],
      "source": [
        "from sklearn.model_selection import train_test_split\n",
        "# X and y arrays:\n",
        "X = normalizeData.drop(\"age\", axis = 1) # All columns except this column.\n",
        "y = normalizeData[\"age\"] # Only this column\n",
        "\n",
        "X_train, X_test, y_train, y_test = train_test_split(X, y, test_size=0.30)\n",
        "\n",
        "print('Train', X_train.shape, y_train.shape)\n",
        "print('Test', X_test.shape, y_test.shape)"
      ]
    },
    {
      "cell_type": "markdown",
      "metadata": {
        "id": "XhbO9TSOUWj7"
      },
      "source": [
        "## ✤ Feature Selection -1. FilteR method \n",
        "## ✤ Pearson's Correlation => f_regression()\n",
        "+ for numeric input and numeric output:"
      ]
    },
    {
      "cell_type": "code",
      "execution_count": null,
      "metadata": {
        "id": "AZom_wVTUWj7"
      },
      "outputs": [],
      "source": [
        "from sklearn.feature_selection import SelectKBest\n",
        "from sklearn.feature_selection import f_regression"
      ]
    },
    {
      "cell_type": "markdown",
      "metadata": {
        "id": "fwvQnyLfUWj7"
      },
      "source": [
        "**For the correlation statistic, I will use  f_regression() function. This function can be used in selecting  top k most relevant features via the SelectKBest().**"
      ]
    },
    {
      "cell_type": "code",
      "execution_count": null,
      "metadata": {
        "id": "FkTBtldzUWj7"
      },
      "outputs": [],
      "source": [
        "# feature selection\n",
        "f_selector = SelectKBest(score_func = f_regression, k =5)\n",
        "# learn relationship from training data\n",
        "f_selector.fit(X_train, y_train)\n",
        "# transform train input data\n",
        "X_train_fs = f_selector.transform(X_train)\n",
        "# transform test input data\n",
        "X_test_fs = f_selector.transform(X_test)"
      ]
    },
    {
      "cell_type": "code",
      "execution_count": null,
      "metadata": {
        "id": "bl5ixX_4UWj8",
        "outputId": "43386cdd-a867-486b-cb8d-2762bff17ccd"
      },
      "outputs": [
        {
          "name": "stdout",
          "output_type": "stream",
          "text": [
            "Train (19362, 5)\n",
            "Test (8298, 5)\n"
          ]
        }
      ],
      "source": [
        "# apply feature selection\n",
        "print('Train', X_train_fs.shape)\n",
        "print('Test', X_test_fs.shape)"
      ]
    },
    {
      "cell_type": "markdown",
      "metadata": {
        "id": "DNiyg41SUWj8"
      },
      "source": [
        "**Let's plot features importance bar chart**"
      ]
    },
    {
      "cell_type": "code",
      "execution_count": null,
      "metadata": {
        "id": "PO_mh0RTUWj8",
        "outputId": "c67e97f5-e169-4cc3-9af5-4fae6dda6d9a"
      },
      "outputs": [
        {
          "data": {
            "image/png": "[encoded data removed]",
            "text/plain": [
              "<Figure size 432x288 with 1 Axes>"
            ]
          },
          "metadata": {
            "needs_background": "light"
          },
          "output_type": "display_data"
        }
      ],
      "source": [
        "import matplotlib.pyplot as plt\n",
        "\n",
        "plt.bar([i for i in range(len(f_selector.scores_))], f_selector.scores_)\n",
        "plt.xlabel(\"Features indexes \")\n",
        "plt.ylabel(\"F-values\")\n",
        "plt.show()"
      ]
    },
    {
      "cell_type": "markdown",
      "metadata": {
        "id": "gR_aVzJnUWj9"
      },
      "source": [
        "+ Feature 0: 179763.220458\n",
        "+ Feature 1: 16632.684763\n",
        "+ Feature 2: 83.152841\n",
        "+ Feature 3: 7391.833461\n",
        "+ Feature 4: 173801.832796\n",
        "+ Feature 5: 5971.845083\n",
        "+ Feature 6: 19650.071487 "
      ]
    },
    {
      "cell_type": "markdown",
      "metadata": {
        "id": "FnpFpYuqUWj9"
      },
      "source": [
        "### ✤  1. Model of Linear Regression for Regression"
      ]
    },
    {
      "cell_type": "code",
      "execution_count": null,
      "metadata": {
        "id": "EOdZo3BeUWj9"
      },
      "outputs": [],
      "source": [
        "from sklearn.linear_model import LinearRegression "
      ]
    },
    {
      "cell_type": "code",
      "execution_count": null,
      "metadata": {
        "id": "EX2XIPGnUWj-",
        "outputId": "d0460799-f65a-47d9-8d76-d8f23c3638db"
      },
      "outputs": [
        {
          "name": "stdout",
          "output_type": "stream",
          "text": [
            "With Feature Selection -Score is =>  0.8961499241299091\n"
          ]
        }
      ],
      "source": [
        "# LinearRegression Model with SELECTION:\n",
        "model_lin_reg1 = LinearRegression().fit(X_train_fs, y_train)\n",
        "# evaluate the model\n",
        "print('With Feature Selection -Score is => ', model_lin_reg1.score(X_test_fs, y_test))"
      ]
    },
    {
      "cell_type": "code",
      "execution_count": null,
      "metadata": {
        "id": "TH0F1kObUWj-",
        "outputId": "3496b66c-118c-4ce0-ff4c-665cec6b844d"
      },
      "outputs": [
        {
          "name": "stdout",
          "output_type": "stream",
          "text": [
            "Without f.selection - Score is =>  0.9154316002610247\n"
          ]
        }
      ],
      "source": [
        "# LinearRegression Model WIHTOUT:\n",
        "model_lin_reg2 = LinearRegression().fit(X_train, y_train)\n",
        "# evaluate the model\n",
        "print('Without f.selection - Score is => ', model_lin_reg2.score(X_test, y_test))"
      ]
    },
    {
      "cell_type": "markdown",
      "metadata": {
        "id": "pRlTXQIPUWj-"
      },
      "source": [
        "### ✤Creating a function to make Model Evaluation:"
      ]
    },
    {
      "cell_type": "code",
      "execution_count": null,
      "metadata": {
        "id": "hfLBbiYVUWj_"
      },
      "outputs": [],
      "source": [
        "from sklearn import metrics"
      ]
    },
    {
      "cell_type": "code",
      "execution_count": null,
      "metadata": {
        "id": "soSZh2ytUWj_"
      },
      "outputs": [],
      "source": [
        "# let's create a function for all metrics at the same time:\n",
        "\n",
        "def print_evaluate(true, predicted):  \n",
        "    r2_square = metrics.r2_score(true, predicted)\n",
        "    mse = metrics.mean_squared_error(true, predicted)\n",
        "    rmse = np.sqrt(metrics.mean_squared_error(true, predicted))\n",
        "    mae = metrics.mean_absolute_error(true, predicted)\n",
        "    maxx = metrics.max_error(true, predicted)\n",
        "    \n",
        "    print('R-squared', np.round(r2_square,3))\n",
        "    print('MSE:', mse)\n",
        "    print('RMSE:', rmse)\n",
        "    print('MAE:', mae)\n",
        "    print('MAX:', maxx)"
      ]
    },
    {
      "cell_type": "markdown",
      "metadata": {
        "id": "eFnk5wUlUWj_"
      },
      "source": [
        "**✤Let's predict by using above funciton, check all metrics, such as MAE,MSE,MAX,R2:**"
      ]
    },
    {
      "cell_type": "code",
      "execution_count": null,
      "metadata": {
        "id": "dnnOtO6cUWj_",
        "outputId": "dde23ef5-f98b-480c-92d0-82640107b402"
      },
      "outputs": [
        {
          "name": "stdout",
          "output_type": "stream",
          "text": [
            "R-squared 0.896\n",
            "MSE: 3.357286853143288e-09\n",
            "RMSE: 5.794209914339735e-05\n",
            "MAE: 2.6870992482912713e-05\n",
            "MAX: 0.0004625249790070806\n"
          ]
        }
      ],
      "source": [
        "# Linear regression WITH feature selection evaluation:\n",
        "test_pred_1 = model_lin_reg1.predict(X_test_fs)\n",
        "print_evaluate(y_test, test_pred_1)"
      ]
    },
    {
      "cell_type": "code",
      "execution_count": null,
      "metadata": {
        "id": "_LEUGE3YUWkA",
        "outputId": "fb0bd584-544f-4786-8c70-76b3f50f1e93"
      },
      "outputs": [
        {
          "name": "stdout",
          "output_type": "stream",
          "text": [
            "R-squared 0.915\n",
            "MSE: 2.7339448166623652e-09\n",
            "RMSE: 5.2287138157125845e-05\n",
            "MAE: 2.3734978795221784e-05\n",
            "MAX: 0.00045588638965567884\n"
          ]
        }
      ],
      "source": [
        "# Linear regression WITHOUT feature selection evaluation:\n",
        "test_pred_2 = model_lin_reg2.predict(X_test)\n",
        "print_evaluate(y_test, test_pred_2)"
      ]
    },
    {
      "cell_type": "markdown",
      "metadata": {
        "id": "cxRRWfXAUWkA"
      },
      "source": [
        "## ✤ Feature Selection -2. Wrapper Method \n",
        "## ✤ Recursive Feature Elimination => RFE"
      ]
    },
    {
      "cell_type": "code",
      "execution_count": null,
      "metadata": {
        "id": "dCj_S3I-UWkB"
      },
      "outputs": [],
      "source": [
        "from sklearn.feature_selection import RFE\n",
        "from sklearn.ensemble import GradientBoostingRegressor\n",
        "\n",
        "rfe_gb = RFE(estimator=GradientBoostingRegressor(),n_features_to_select=7)\n",
        "\n",
        "\n",
        "rfe_gb.fit(X_train, y_train)\n",
        "# transform train input data\n",
        "X_train_grb = rfe_gb.transform(X_train)\n",
        "# transform test input data\n",
        "X_test_grb = rfe_gb.transform(X_test)"
      ]
    },
    {
      "cell_type": "code",
      "execution_count": null,
      "metadata": {
        "id": "Moro8YrsUWkB"
      },
      "outputs": [],
      "source": [
        "from sklearn.feature_selection import RFE\n",
        "from sklearn.ensemble import GradientBoostingRegressor\n",
        "\n",
        "rfe_gb = RFE(estimator=GradientBoostingRegressor())\n",
        "# ,n_features_to_select=7\n",
        "\n",
        "rfe_gb.fit(X_train, y_train)\n",
        "# transform train input data\n",
        "X_train_grb = rfe_gb.transform(X_train)\n",
        "# transform test input data\n",
        "X_test_grb = rfe_gb.transform(X_test)"
      ]
    },
    {
      "cell_type": "code",
      "execution_count": null,
      "metadata": {
        "id": "pUs8BhJpUWkB",
        "outputId": "451b5365-08bf-491b-ea58-538c15be2c6b"
      },
      "outputs": [
        {
          "name": "stdout",
          "output_type": "stream",
          "text": [
            "Num Features: 3\n"
          ]
        }
      ],
      "source": [
        "print(\"Num Features: %d\" % rfe_gb.n_features_)"
      ]
    },
    {
      "cell_type": "code",
      "execution_count": null,
      "metadata": {
        "id": "yvxMPtGEUWkB",
        "outputId": "6b0ff1af-67f1-4b1f-ebc8-975c4a2ce99e"
      },
      "outputs": [
        {
          "name": "stdout",
          "output_type": "stream",
          "text": [
            "Selected Features: [ True False False False  True False  True]\n"
          ]
        }
      ],
      "source": [
        "print(\"Selected Features: %s\" % rfe_gb.support_)"
      ]
    },
    {
      "cell_type": "code",
      "execution_count": null,
      "metadata": {
        "id": "MSvbhHpgUWkC",
        "outputId": "ff0972dc-e630-49aa-96ef-ce74e7b0139f"
      },
      "outputs": [
        {
          "name": "stdout",
          "output_type": "stream",
          "text": [
            "Feature Ranking: [1 5 4 2 1 3 1]\n"
          ]
        }
      ],
      "source": [
        "print(\"Feature Ranking: %s\" % rfe_gb.ranking_)"
      ]
    },
    {
      "cell_type": "code",
      "execution_count": null,
      "metadata": {
        "id": "4ER15bVKUWkC",
        "outputId": "b2901a90-1d18-429e-ac69-35c02965908b"
      },
      "outputs": [
        {
          "name": "stdout",
          "output_type": "stream",
          "text": [
            "With Feature Selection -Score is =>  0.9692354617555428\n"
          ]
        }
      ],
      "source": [
        "#  Model with SELECTION:\n",
        "model_recfel3 = GradientBoostingRegressor().fit(X_train_grb, y_train)\n",
        "# evaluate the model\n",
        "print('With Feature Selection -Score is => ', model_recfel3.score(X_test_grb, y_test))"
      ]
    },
    {
      "cell_type": "code",
      "execution_count": null,
      "metadata": {
        "id": "LRK50cLxUWkD",
        "outputId": "53023361-5277-4afb-e8ad-4b9d0109a366"
      },
      "outputs": [
        {
          "name": "stdout",
          "output_type": "stream",
          "text": [
            "Without Feature Selection -Score is =>  0.9744524604247172\n"
          ]
        }
      ],
      "source": [
        "#  Model with SELECTION:\n",
        "model_recfel4 = GradientBoostingRegressor().fit(X_train, y_train)\n",
        "# evaluate the model\n",
        "print('Without Feature Selection -Score is => ', model_recfel4.score(X_test, y_test))"
      ]
    },
    {
      "cell_type": "markdown",
      "metadata": {
        "id": "96d0FHMYUWkD"
      },
      "source": [
        "**✤Let's predict by using above funciton, check all metrics, such as MAE,MSE,MAX,R2:**"
      ]
    },
    {
      "cell_type": "code",
      "execution_count": null,
      "metadata": {
        "id": "rS9Y0HqTUWkD",
        "outputId": "facd4794-2a70-4987-c184-526d2017634c"
      },
      "outputs": [
        {
          "name": "stdout",
          "output_type": "stream",
          "text": [
            "R-squared 0.969\n",
            "MSE: 9.945623912720375e-10\n",
            "RMSE: 3.1536683263654054e-05\n",
            "MAE: 1.410803523059919e-05\n",
            "MAX: 0.00037313696241685556\n"
          ]
        }
      ],
      "source": [
        "# Linear regression WITH feature selection evaluation:\n",
        "test_pred_3 = model_recfel3.predict(X_test_grb)\n",
        "print_evaluate(y_test, test_pred_3)"
      ]
    },
    {
      "cell_type": "code",
      "execution_count": null,
      "metadata": {
        "id": "GoabRWQDUWkE",
        "outputId": "b36ef40b-e3a8-4e68-fc5b-04532dd34f86"
      },
      "outputs": [
        {
          "name": "stdout",
          "output_type": "stream",
          "text": [
            "R-squared 0.974\n",
            "MSE: 8.259061731793766e-10\n",
            "RMSE: 2.873858335373156e-05\n",
            "MAE: 1.2393505705095361e-05\n",
            "MAX: 0.00035852357465194823\n"
          ]
        }
      ],
      "source": [
        "# Linear regression WITH feature selection evaluation:\n",
        "test_pred_4 = model_recfel4.predict(X_test)\n",
        "print_evaluate(y_test, test_pred_4)"
      ]
    },
    {
      "cell_type": "markdown",
      "metadata": {
        "id": "myfzhLRSUWkE"
      },
      "source": [
        "## ✤ Feature Selection -3. Embedded Method \n",
        "## ✤ L Regularisation -> SelectFromModel ->Ridge regression\n"
      ]
    },
    {
      "cell_type": "code",
      "execution_count": null,
      "metadata": {
        "id": "maL6J670UWkE"
      },
      "outputs": [],
      "source": [
        "from sklearn.feature_selection import SelectFromModel\n",
        "# from sklearn.linear_model import Lasso"
      ]
    },
    {
      "cell_type": "code",
      "execution_count": null,
      "metadata": {
        "id": "t-COBFnOUWkE"
      },
      "outputs": [],
      "source": [
        "from sklearn.linear_model import Ridge\n",
        "\n",
        "selection3 = SelectFromModel(Ridge(alpha=1.0))\n",
        "selection3.fit(X_train, y_train)\n",
        "\n",
        "\n",
        "X_train_emb = selection3.transform(X_train)\n",
        "# transform test input data\n",
        "X_test_emb = selection3.transform(X_test)"
      ]
    },
    {
      "cell_type": "code",
      "execution_count": null,
      "metadata": {
        "id": "d4xt7_9WUWkF",
        "outputId": "9c56d8af-56b7-4f7f-c18d-cb0b31fc4680"
      },
      "outputs": [
        {
          "name": "stdout",
          "output_type": "stream",
          "text": [
            "With Feature Selection -Score is =>  0.8956522814102016\n"
          ]
        }
      ],
      "source": [
        "#  Model with SELECTION:\n",
        "model_recfel5 = Ridge().fit(X_train_emb, y_train)\n",
        "# evaluate the model\n",
        "print('With Feature Selection -Score is => ', model_recfel5.score(X_test_emb, y_test))"
      ]
    },
    {
      "cell_type": "code",
      "execution_count": null,
      "metadata": {
        "id": "G_9OhAlfUWkF",
        "outputId": "a56ef948-6e91-464c-c0c0-51b6fa9a4d61"
      },
      "outputs": [
        {
          "name": "stdout",
          "output_type": "stream",
          "text": [
            "Without Feature Selection -Score is =>  0.9136201585994028\n"
          ]
        }
      ],
      "source": [
        "#  Model with SELECTION:\n",
        "model_recfel_6 = Ridge().fit(X_train, y_train)\n",
        "# evaluate the model\n",
        "print('Without Feature Selection -Score is => ', model_recfel_6.score(X_test, y_test))"
      ]
    },
    {
      "cell_type": "markdown",
      "metadata": {
        "id": "mCblbTgGUWkF"
      },
      "source": [
        "**✤Let's predict by using above funciton, check all metrics, such as MAE,MSE,MAX,R2:**"
      ]
    },
    {
      "cell_type": "code",
      "execution_count": null,
      "metadata": {
        "id": "QwN6tmmXUWkG",
        "outputId": "4903ef94-a5f5-4648-c089-885007784b42"
      },
      "outputs": [
        {
          "name": "stdout",
          "output_type": "stream",
          "text": [
            "R-squared 0.896\n",
            "MSE: 3.3733747504937588e-09\n",
            "RMSE: 5.80807605881135e-05\n",
            "MAE: 2.632759984275669e-05\n",
            "MAX: 0.0004892862362329887\n"
          ]
        }
      ],
      "source": [
        "# Linear regression WITH feature selection evaluation:\n",
        "test_pred_5 = model_recfel5.predict(X_test_emb)\n",
        "print_evaluate(y_test, test_pred_5)"
      ]
    },
    {
      "cell_type": "code",
      "execution_count": null,
      "metadata": {
        "id": "vxGZf78EUWkG",
        "outputId": "8bf14f2f-c2cc-403d-c9a2-d73896e0d0ef"
      },
      "outputs": [
        {
          "name": "stdout",
          "output_type": "stream",
          "text": [
            "R-squared 0.914\n",
            "MSE: 2.792505479472149e-09\n",
            "RMSE: 5.284416220806371e-05\n",
            "MAE: 2.3342473995404326e-05\n",
            "MAX: 0.0004343092945907143\n"
          ]
        }
      ],
      "source": [
        "# Linear regression WITH feature selection evaluation:\n",
        "test_pred_6 = model_recfel_6.predict(X_test)\n",
        "print_evaluate(y_test, test_pred_6)"
      ]
    },
    {
      "cell_type": "markdown",
      "metadata": {
        "id": "U4b4JftcUWkG"
      },
      "source": [
        "## ✤ Feature ExtractioN with PCA\n",
        "\n",
        "## ✤  => Principal Component Analysis"
      ]
    },
    {
      "cell_type": "code",
      "execution_count": null,
      "metadata": {
        "id": "7cwTS0XbUWkH"
      },
      "outputs": [],
      "source": [
        "# Perform PCA\n",
        "from sklearn.decomposition import PCA\n",
        "pca = PCA().fit(X)\n",
        "# Determine transformed features\n",
        "X_train_pca = pca.fit_transform(X_train)\n",
        "X_test_pca = pca.transform(X_test)"
      ]
    },
    {
      "cell_type": "code",
      "execution_count": null,
      "metadata": {
        "id": "QYZl3T70UWkH",
        "outputId": "bfd96693-33ed-4b2f-c87b-2caadd04bb3f"
      },
      "outputs": [
        {
          "name": "stdout",
          "output_type": "stream",
          "text": [
            "With Feature Extraction -Score is =>  39.74085233124504\n"
          ]
        }
      ],
      "source": [
        "#  Model with SELECTION:\n",
        "model_recfel_7 = PCA().fit(X_train_pca, y_train)\n",
        "# evaluate the model\n",
        "print('With Feature Extraction -Score is => ', model_recfel_7.score(X_test_pca, y_test))"
      ]
    },
    {
      "cell_type": "code",
      "execution_count": null,
      "metadata": {
        "id": "EUwpJ6eAUWkH",
        "outputId": "b296e994-00ea-44fb-b12c-a97b51a7248f"
      },
      "outputs": [
        {
          "name": "stdout",
          "output_type": "stream",
          "text": [
            "Without Feature Extraction -Score is =>  39.740852331245165\n"
          ]
        }
      ],
      "source": [
        "#  Model with SELECTION:\n",
        "model_recfel_8 = PCA().fit(X_train, y_train)\n",
        "# evaluate the model\n",
        "print('Without Feature Extraction -Score is => ', model_recfel_8.score(X_test, y_test))"
      ]
    },
    {
      "cell_type": "markdown",
      "metadata": {
        "id": "EZCJF3g2UWkI"
      },
      "source": [
        "## ✤ Collecting all data Model  Scores in  Dataframe:\n"
      ]
    },
    {
      "cell_type": "code",
      "execution_count": null,
      "metadata": {
        "id": "LBgsJOXKUWkI",
        "outputId": "fbe31013-63a9-4244-a785-ad929ae9252d"
      },
      "outputs": [
        {
          "data": {
            "text/html": [
              "<div>\n",
              "<style scoped>\n",
              "    .dataframe tbody tr th:only-of-type {\n",
              "        vertical-align: middle;\n",
              "    }\n",
              "\n",
              "    .dataframe tbody tr th {\n",
              "        vertical-align: top;\n",
              "    }\n",
              "\n",
              "    .dataframe thead th {\n",
              "        text-align: right;\n",
              "    }\n",
              "</style>\n",
              "<table border=\"1\" class=\"dataframe\">\n",
              "  <thead>\n",
              "    <tr style=\"text-align: right;\">\n",
              "      <th></th>\n",
              "      <th>With_Feature</th>\n",
              "      <th>Without_Feature</th>\n",
              "    </tr>\n",
              "  </thead>\n",
              "  <tbody>\n",
              "    <tr>\n",
              "      <th>FS.Filter_Method</th>\n",
              "      <td>89.1 %</td>\n",
              "      <td>90.2 %</td>\n",
              "    </tr>\n",
              "    <tr>\n",
              "      <th>FS.Wrapper_Method</th>\n",
              "      <td>96.0 %</td>\n",
              "      <td>97.6 %</td>\n",
              "    </tr>\n",
              "    <tr>\n",
              "      <th>FS.Embedded_Method</th>\n",
              "      <td>90.0 %</td>\n",
              "      <td>92.1 %</td>\n",
              "    </tr>\n",
              "    <tr>\n",
              "      <th>Feature_Extraction</th>\n",
              "      <td>39.6 %</td>\n",
              "      <td>39.7 %</td>\n",
              "    </tr>\n",
              "  </tbody>\n",
              "</table>\n",
              "</div>"
            ],
            "text/plain": [
              "                   With_Feature Without_Feature\n",
              "FS.Filter_Method         89.1 %          90.2 %\n",
              "FS.Wrapper_Method        96.0 %          97.6 %\n",
              "FS.Embedded_Method       90.0 %          92.1 %\n",
              "Feature_Extraction       39.6 %          39.7 %"
            ]
          },
          "execution_count": 65,
          "metadata": {},
          "output_type": "execute_result"
        }
      ],
      "source": [
        "#data\n",
        "With_Feature = ['89.1 %','96.0 %','90.0 %',' 39.6 %']\n",
        "Without_Feature = ['90.2 %','97.6 %','92.1 %', '39.7 %']\n",
        "#columns:\n",
        "columns = {'With_Feature': With_Feature, 'Without_Feature': Without_Feature}\n",
        "\n",
        "models=['FS.Filter_Method','FS.Wrapper_Method' ,'FS.Embedded_Method','Feature_Extraction']\n",
        "result = pd.DataFrame(data = columns,index = models)\n",
        "result"
      ]
    },
    {
      "cell_type": "markdown",
      "metadata": {
        "id": "Aa2DNGHuUWkI"
      },
      "source": [
        "## ✤ Conclusion"
      ]
    },
    {
      "cell_type": "markdown",
      "metadata": {
        "id": "Ub8lJZyMUWkJ"
      },
      "source": [
        "✤ In general, These dataset about Suicide Rates  is was so huge - **27 820 observations and 12 columns**, about among 100 countries during 30 years from 1985 to 2015. After preprocessing, there was **only 7 columns with 22660 observations**\n",
        "### ✤ Firstly, about preparing data:\n",
        "**✤ I find out how many columns and rows was in this dataset, then I manipulated with my data by these steps=>** \n",
        "+ checking for NAN/empty values,\n",
        "+ filling null values by methods like **Mean Imputation** using library Imputer,\n",
        "+ also deleting some unnecessary columns **drop()**,\n",
        "+ retrieving unique names for categorical data like generation, age groups,gender.and **Encoding them**.\n",
        "\n",
        "### ✤ Secondly, about Preprocessing by Normalisation:\n",
        "+ **  I used ready imported library called preprocessing, from it I used Normaliser() functions.**\n",
        "+ **✤  By this way, I applied to the whole data, I used normalised data.**\n",
        "\n",
        "### ✤ Thirdly, about creating all Models with Feature Selection & Extraction:\n",
        "+ I splitted my data for train and test data, with **ratio-70/30**\n",
        "+ And made Feature Selection and Feature Extraction methods.\n",
        "+ And created models with them, and checked the accuracy scores.\n",
        "\n",
        "### ✤ COMPARISON of Scores btw Models:\n",
        "+ So, for all 3 methods of Feature Selection, scores were 90+ %, and difference is little between them.\n",
        "+ In addition, in Feature Extraction, scores were low,about 40% +."
      ]
    },
    {
      "cell_type": "markdown",
      "metadata": {
        "id": "M7WoBapRUWkJ"
      },
      "source": [
        "### ✤ As a result, the scores were extremely high, with and without features about 90%."
      ]
    }
  ],
  "metadata": {
    "kernelspec": {
      "display_name": "Python 3",
      "language": "python",
      "name": "python3"
    },
    "language_info": {
      "codemirror_mode": {
        "name": "ipython",
        "version": 3
      },
      "file_extension": ".py",
      "mimetype": "text/x-python",
      "name": "python",
      "nbconvert_exporter": "python",
      "pygments_lexer": "ipython3",
      "version": "3.8.5"
    },
    "colab": {
      "provenance": []
    }
  },
  "nbformat": 4,
  "nbformat_minor": 0
}